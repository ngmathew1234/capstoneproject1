{
 "cells": [
  {
   "cell_type": "code",
   "execution_count": 1,
   "metadata": {},
   "outputs": [],
   "source": [
    "import pandas as pd"
   ]
  },
  {
   "cell_type": "code",
   "execution_count": 2,
   "metadata": {},
   "outputs": [],
   "source": [
    "import numpy as np"
   ]
  },
  {
   "cell_type": "code",
   "execution_count": 3,
   "metadata": {},
   "outputs": [],
   "source": [
    "nba_stats_df = pd.read_csv('nba_2017_br.csv')"
   ]
  },
  {
   "cell_type": "code",
   "execution_count": 4,
   "metadata": {},
   "outputs": [
    {
     "name": "stdout",
     "output_type": "stream",
     "text": [
      "Index(['Rk', 'PLAYER', 'Pos', 'Age', 'TEAM', 'G', 'GS', 'MP', 'FG', 'FGA',\n",
      "       'FG%', '3P', '3PA', '3P%', '2P', '2PA', '2P%', 'eFG%', 'FT', 'FTA',\n",
      "       'FT%', 'ORB', 'DRB', 'TRB', 'AST', 'STL', 'BLK', 'TOV', 'PF', 'PS/G'],\n",
      "      dtype='object')\n"
     ]
    }
   ],
   "source": [
    "print(nba_stats_df.keys())"
   ]
  },
  {
   "cell_type": "code",
   "execution_count": 5,
   "metadata": {},
   "outputs": [],
   "source": [
    "nba_advstats_df = pd.read_csv('nba_2017_pie.csv')"
   ]
  },
  {
   "cell_type": "code",
   "execution_count": 6,
   "metadata": {},
   "outputs": [],
   "source": [
    "nba_plusminus_df = pd.read_csv('nba_2017_real_plus_minus.csv')"
   ]
  },
  {
   "cell_type": "code",
   "execution_count": 7,
   "metadata": {},
   "outputs": [
    {
     "name": "stdout",
     "output_type": "stream",
     "text": [
      "Index(['NAME', 'TEAM', 'GP', 'MPG', 'ORPM', 'DRPM', 'RPM', 'WINS'], dtype='object')\n"
     ]
    }
   ],
   "source": [
    "print(nba_plusminus_df.keys())"
   ]
  },
  {
   "cell_type": "code",
   "execution_count": 8,
   "metadata": {},
   "outputs": [
    {
     "name": "stdout",
     "output_type": "stream",
     "text": [
      "Index(['PLAYER', 'TEAM', 'AGE', 'GP', 'W', 'L', 'MIN', 'OFFRTG', 'DEFRTG',\n",
      "       'NETRTG', 'AST%', 'AST/TO', 'AST RATIO', 'OREB%', 'DREB%', 'REB%',\n",
      "       'TO RATIO', 'EFG%', 'TS%', 'USG%', 'PACE', 'PIE'],\n",
      "      dtype='object')\n"
     ]
    }
   ],
   "source": [
    "print(nba_advstats_df.keys())"
   ]
  },
  {
   "cell_type": "code",
   "execution_count": 9,
   "metadata": {},
   "outputs": [],
   "source": [
    "nba_plusminus_df.columns = nba_plusminus_df.columns.str.replace('NAME','PLAYER')"
   ]
  },
  {
   "cell_type": "code",
   "execution_count": 10,
   "metadata": {},
   "outputs": [
    {
     "name": "stdout",
     "output_type": "stream",
     "text": [
      "Index(['PLAYER', 'TEAM', 'GP', 'MPG', 'ORPM', 'DRPM', 'RPM', 'WINS'], dtype='object')\n"
     ]
    }
   ],
   "source": [
    "print(nba_plusminus_df.keys())"
   ]
  },
  {
   "cell_type": "code",
   "execution_count": 11,
   "metadata": {},
   "outputs": [],
   "source": [
    "nba_advfilter_df = nba_advstats_df[['PLAYER', 'TEAM', 'GP', 'W', 'L', 'NETRTG', 'TS%', 'PIE']]"
   ]
  },
  {
   "cell_type": "code",
   "execution_count": 12,
   "metadata": {},
   "outputs": [
    {
     "name": "stdout",
     "output_type": "stream",
     "text": [
      "              PLAYER TEAM  GP   W   L  NETRTG   TS%   PIE\n",
      "0  Russell Westbrook  OKC  81  46  35     3.3  55.4  23.0\n",
      "1   Boban Marjanovic  DET  35  16  19     1.9  60.6  19.6\n",
      "2  Demetrius Jackson  BOS   5   1   4     6.3  75.3  19.4\n",
      "3      Anthony Davis  NOP  75  31  44     1.7  58.0  19.2\n",
      "4       James Harden  HOU  81  54  27     6.3  61.3  19.0\n"
     ]
    }
   ],
   "source": [
    "print(nba_advfilter_df.head())"
   ]
  },
  {
   "cell_type": "code",
   "execution_count": 13,
   "metadata": {},
   "outputs": [],
   "source": [
    "nba_statsfilter_df = nba_stats_df[['PLAYER', 'TEAM', 'G', 'GS', 'MP', 'TRB', 'AST', 'STL', 'BLK', 'PS/G']]"
   ]
  },
  {
   "cell_type": "code",
   "execution_count": 38,
   "metadata": {},
   "outputs": [],
   "source": [
    "nba_plusminusfilter_df = nba_plusminus_df[['PLAYER', 'TEAM', 'MPG', 'RPM', 'WINS']]"
   ]
  },
  {
   "cell_type": "code",
   "execution_count": 39,
   "metadata": {},
   "outputs": [
    {
     "name": "stdout",
     "output_type": "stream",
     "text": [
      "                  PLAYER TEAM   MPG   RPM   WINS\n",
      "0       LeBron James, SF  CLE  37.8  8.42  20.43\n",
      "1      Stephen Curry, PG   GS  33.4  7.41  18.80\n",
      "2       Jimmy Butler, SG  CHI  37.0  6.62  17.35\n",
      "3  Russell Westbrook, PG  OKC  34.6  6.27  17.34\n",
      "4     Draymond Green, PF   GS  32.5  7.14  16.84\n"
     ]
    }
   ],
   "source": [
    "print(nba_plusminusfilter_df.head())"
   ]
  },
  {
   "cell_type": "code",
   "execution_count": 40,
   "metadata": {},
   "outputs": [],
   "source": [
    "nba_plusminusfilter_df= nba_plusminusfilter_df.reset_index(drop=True)"
   ]
  },
  {
   "cell_type": "code",
   "execution_count": 41,
   "metadata": {},
   "outputs": [],
   "source": [
    "nba_plusminusfilter_df['PLAYERNAME'] = nba_plusminusfilter_df.PLAYER.map(lambda x: x.split(',')[0])"
   ]
  },
  {
   "cell_type": "code",
   "execution_count": 42,
   "metadata": {},
   "outputs": [
    {
     "name": "stdout",
     "output_type": "stream",
     "text": [
      "                  PLAYER TEAM   MPG   RPM   WINS         PLAYERNAME\n",
      "0       LeBron James, SF  CLE  37.8  8.42  20.43       LeBron James\n",
      "1      Stephen Curry, PG   GS  33.4  7.41  18.80      Stephen Curry\n",
      "2       Jimmy Butler, SG  CHI  37.0  6.62  17.35       Jimmy Butler\n",
      "3  Russell Westbrook, PG  OKC  34.6  6.27  17.34  Russell Westbrook\n",
      "4     Draymond Green, PF   GS  32.5  7.14  16.84     Draymond Green\n"
     ]
    }
   ],
   "source": [
    "print(nba_plusminusfilter_df.head())"
   ]
  },
  {
   "cell_type": "code",
   "execution_count": 43,
   "metadata": {},
   "outputs": [],
   "source": [
    "nba_plusminusfilter_df=nba_plusminusfilter_df.drop(columns='PLAYER')"
   ]
  },
  {
   "cell_type": "code",
   "execution_count": 44,
   "metadata": {},
   "outputs": [
    {
     "name": "stdout",
     "output_type": "stream",
     "text": [
      "  TEAM   MPG   RPM   WINS         PLAYERNAME\n",
      "0  CLE  37.8  8.42  20.43       LeBron James\n",
      "1   GS  33.4  7.41  18.80      Stephen Curry\n",
      "2  CHI  37.0  6.62  17.35       Jimmy Butler\n",
      "3  OKC  34.6  6.27  17.34  Russell Westbrook\n",
      "4   GS  32.5  7.14  16.84     Draymond Green\n"
     ]
    }
   ],
   "source": [
    "print(nba_plusminusfilter_df.head())"
   ]
  },
  {
   "cell_type": "code",
   "execution_count": 45,
   "metadata": {},
   "outputs": [],
   "source": [
    "nba_plusminusfilter_df.columns = nba_plusminusfilter_df.columns.str.replace('PLAYERNAME','PLAYER')"
   ]
  },
  {
   "cell_type": "code",
   "execution_count": 46,
   "metadata": {},
   "outputs": [
    {
     "name": "stdout",
     "output_type": "stream",
     "text": [
      "  TEAM   MPG   RPM   WINS             PLAYER\n",
      "0  CLE  37.8  8.42  20.43       LeBron James\n",
      "1   GS  33.4  7.41  18.80      Stephen Curry\n",
      "2  CHI  37.0  6.62  17.35       Jimmy Butler\n",
      "3  OKC  34.6  6.27  17.34  Russell Westbrook\n",
      "4   GS  32.5  7.14  16.84     Draymond Green\n"
     ]
    }
   ],
   "source": [
    "print(nba_plusminusfilter_df.head())"
   ]
  },
  {
   "cell_type": "code",
   "execution_count": 16,
   "metadata": {},
   "outputs": [],
   "source": [
    "nba_fullstats_df = pd.merge(nba_statsfilter_df, nba_advfilter_df, on=['PLAYER','TEAM'])"
   ]
  },
  {
   "cell_type": "code",
   "execution_count": 17,
   "metadata": {},
   "outputs": [
    {
     "name": "stdout",
     "output_type": "stream",
     "text": [
      "              PLAYER TEAM   G  GS    MP   TRB   AST  STL  BLK  PS/G  GP   W  \\\n",
      "0  Russell Westbrook  OKC  81  81  34.6  10.7  10.4  1.6  0.4  31.6  81  46   \n",
      "1       James Harden  HOU  81  81  36.4   8.1  11.2  1.5  0.5  29.1  81  54   \n",
      "2      Isaiah Thomas  BOS  76  76  33.8   2.7   5.9  0.9  0.2  28.9  76  51   \n",
      "3      Anthony Davis  NOP  75  75  36.1  11.8   2.1  1.3  2.2  28.0  75  31   \n",
      "4      DeMar DeRozan  TOR  74  74  35.4   5.2   3.9  1.1  0.2  27.3  74  47   \n",
      "\n",
      "    L  NETRTG   TS%   PIE  \n",
      "0  35     3.3  55.4  23.0  \n",
      "1  27     6.3  61.3  19.0  \n",
      "2  25     5.0  62.5  16.1  \n",
      "3  44     1.7  58.0  19.2  \n",
      "4  27     3.3  55.2  15.5  \n"
     ]
    }
   ],
   "source": [
    "print(nba_fullstats_df.head())"
   ]
  },
  {
   "cell_type": "code",
   "execution_count": 47,
   "metadata": {},
   "outputs": [],
   "source": [
    "nba_finalstats_df = pd.merge(nba_fullstats_df, nba_plusminusfilter_df, on=['PLAYER','TEAM'])"
   ]
  },
  {
   "cell_type": "code",
   "execution_count": 48,
   "metadata": {},
   "outputs": [
    {
     "name": "stdout",
     "output_type": "stream",
     "text": [
      "              PLAYER TEAM   G  GS    MP   TRB   AST  STL  BLK  PS/G  GP   W  \\\n",
      "0  Russell Westbrook  OKC  81  81  34.6  10.7  10.4  1.6  0.4  31.6  81  46   \n",
      "1       James Harden  HOU  81  81  36.4   8.1  11.2  1.5  0.5  29.1  81  54   \n",
      "2      Isaiah Thomas  BOS  76  76  33.8   2.7   5.9  0.9  0.2  28.9  76  51   \n",
      "3      DeMar DeRozan  TOR  74  74  35.4   5.2   3.9  1.1  0.2  27.3  74  47   \n",
      "4     Damian Lillard  POR  75  75  35.9   4.9   5.9  0.9  0.3  27.0  75  38   \n",
      "\n",
      "    L  NETRTG   TS%   PIE   MPG   RPM   WINS  \n",
      "0  35     3.3  55.4  23.0  34.6  6.27  17.34  \n",
      "1  27     6.3  61.3  19.0  36.4  4.81  15.54  \n",
      "2  25     5.0  62.5  16.1  33.8  1.83   8.19  \n",
      "3  27     3.3  55.2  15.5  35.4  0.17   5.46  \n",
      "4  37     1.2  58.6  15.9  35.9  3.14  10.72  \n"
     ]
    }
   ],
   "source": [
    "print(nba_finalstats_df.head())"
   ]
  },
  {
   "cell_type": "code",
   "execution_count": 53,
   "metadata": {},
   "outputs": [
    {
     "data": {
      "text/plain": [
       "PLAYER    0\n",
       "TEAM      0\n",
       "G         0\n",
       "GS        0\n",
       "MP        0\n",
       "TRB       0\n",
       "AST       0\n",
       "STL       0\n",
       "BLK       0\n",
       "PS/G      0\n",
       "GP        0\n",
       "W         0\n",
       "L         0\n",
       "NETRTG    0\n",
       "TS%       0\n",
       "PIE       0\n",
       "MPG       0\n",
       "RPM       0\n",
       "WINS      0\n",
       "dtype: int64"
      ]
     },
     "execution_count": 53,
     "metadata": {},
     "output_type": "execute_result"
    }
   ],
   "source": [
    "nba_finalstats_df.isnull().sum()"
   ]
  },
  {
   "cell_type": "code",
   "execution_count": 54,
   "metadata": {},
   "outputs": [],
   "source": [
    "nba_wiki_df = pd.read_csv('nba_2017_player_wikipedia.csv')"
   ]
  },
  {
   "cell_type": "code",
   "execution_count": 55,
   "metadata": {},
   "outputs": [],
   "source": [
    "nba_wikisum_df = (nba_wiki_df.groupby('names', as_index=False)['pageviews'].sum())"
   ]
  },
  {
   "cell_type": "code",
   "execution_count": 56,
   "metadata": {},
   "outputs": [
    {
     "name": "stdout",
     "output_type": "stream",
     "text": [
      "            names  pageviews\n",
      "0    A.J. Hammons        996\n",
      "1    Aaron Brooks       4083\n",
      "2    Aaron Gordon     627319\n",
      "3  Aaron Harrison     222966\n",
      "4   Adreian Payne      75343\n"
     ]
    }
   ],
   "source": [
    "print(nba_wikisum_df.head())"
   ]
  },
  {
   "cell_type": "code",
   "execution_count": 57,
   "metadata": {},
   "outputs": [],
   "source": [
    "nba_wikisum_df['pageviews'] = nba_wikisum_df['pageviews']/1000"
   ]
  },
  {
   "cell_type": "code",
   "execution_count": 58,
   "metadata": {},
   "outputs": [
    {
     "name": "stdout",
     "output_type": "stream",
     "text": [
      "            names  pageviews\n",
      "0    A.J. Hammons      0.996\n",
      "1    Aaron Brooks      4.083\n",
      "2    Aaron Gordon    627.319\n",
      "3  Aaron Harrison    222.966\n",
      "4   Adreian Payne     75.343\n"
     ]
    }
   ],
   "source": [
    "print(nba_wikisum_df.head())"
   ]
  },
  {
   "cell_type": "code",
   "execution_count": 59,
   "metadata": {},
   "outputs": [],
   "source": [
    "nba_wikisum_df.columns = nba_wikisum_df.columns.str.replace('names','PLAYER')"
   ]
  },
  {
   "cell_type": "code",
   "execution_count": 60,
   "metadata": {},
   "outputs": [
    {
     "name": "stdout",
     "output_type": "stream",
     "text": [
      "           PLAYER  pageviews\n",
      "0    A.J. Hammons      0.996\n",
      "1    Aaron Brooks      4.083\n",
      "2    Aaron Gordon    627.319\n",
      "3  Aaron Harrison    222.966\n",
      "4   Adreian Payne     75.343\n"
     ]
    }
   ],
   "source": [
    "print(nba_wikisum_df.head())"
   ]
  },
  {
   "cell_type": "code",
   "execution_count": 61,
   "metadata": {},
   "outputs": [],
   "source": [
    "nba_twitter_df = pd.read_csv('nba_2017_twitter_players.csv')"
   ]
  },
  {
   "cell_type": "code",
   "execution_count": 62,
   "metadata": {},
   "outputs": [
    {
     "name": "stdout",
     "output_type": "stream",
     "text": [
      "              PLAYER  TWITTER_FAVORITE_COUNT  TWITTER_RETWEET_COUNT\n",
      "0  Russell Westbrook                  2130.5                  559.0\n",
      "1       James Harden                   969.0                  321.5\n",
      "2      Isaiah Thomas                   467.5                  155.5\n",
      "3      Anthony Davis                   368.0                  104.0\n",
      "4      DeMar DeRozan                     0.0                  186.0\n"
     ]
    }
   ],
   "source": [
    "print(nba_twitter_df.head())"
   ]
  },
  {
   "cell_type": "code",
   "execution_count": 63,
   "metadata": {},
   "outputs": [],
   "source": [
    "nba_salary_df = pd.read_csv('nba_2017_salary.csv')"
   ]
  },
  {
   "cell_type": "code",
   "execution_count": 64,
   "metadata": {},
   "outputs": [],
   "source": [
    "nba_salary_df.columns = nba_salary_df.columns.str.replace('NAME','PLAYER')"
   ]
  },
  {
   "cell_type": "code",
   "execution_count": 65,
   "metadata": {},
   "outputs": [
    {
     "name": "stdout",
     "output_type": "stream",
     "text": [
      "            PLAYER POSITION                 TEAM      SALARY\n",
      "0     LeBron James       SF  Cleveland Cavaliers  30963450.0\n",
      "1      Mike Conley       PG    Memphis Grizzlies  26540100.0\n",
      "2       Al Horford        C       Boston Celtics  26540100.0\n",
      "3    Dirk Nowitzki       PF     Dallas Mavericks  25000000.0\n",
      "4  Carmelo Anthony       SF      New York Knicks  24559380.0\n"
     ]
    }
   ],
   "source": [
    "print(nba_salary_df.head())"
   ]
  },
  {
   "cell_type": "code",
   "execution_count": 66,
   "metadata": {},
   "outputs": [],
   "source": [
    "nba_socialmedia_df = pd.merge(nba_wikisum_df, nba_twitter_df, on='PLAYER')"
   ]
  },
  {
   "cell_type": "code",
   "execution_count": 67,
   "metadata": {},
   "outputs": [
    {
     "name": "stdout",
     "output_type": "stream",
     "text": [
      "            PLAYER  pageviews  TWITTER_FAVORITE_COUNT  TWITTER_RETWEET_COUNT\n",
      "0     Aaron Brooks      4.083                     1.0                    3.0\n",
      "1     Aaron Gordon    627.319                    42.5                   16.0\n",
      "2    Adreian Payne     75.343                     0.0                   13.0\n",
      "3       Al Horford    569.636                   136.0                   71.0\n",
      "4  Al-Farouq Aminu    221.189                    33.0                    9.0\n"
     ]
    }
   ],
   "source": [
    "print(nba_socialmedia_df.head())"
   ]
  },
  {
   "cell_type": "code",
   "execution_count": 68,
   "metadata": {},
   "outputs": [],
   "source": [
    "nba_socialmediasalary_df = pd.merge(nba_socialmedia_df, nba_salary_df, on='PLAYER')"
   ]
  },
  {
   "cell_type": "code",
   "execution_count": 69,
   "metadata": {},
   "outputs": [
    {
     "name": "stdout",
     "output_type": "stream",
     "text": [
      "            PLAYER  pageviews  TWITTER_FAVORITE_COUNT  TWITTER_RETWEET_COUNT  \\\n",
      "0     Aaron Brooks      4.083                     1.0                    3.0   \n",
      "1     Aaron Gordon    627.319                    42.5                   16.0   \n",
      "2    Adreian Payne     75.343                     0.0                   13.0   \n",
      "3       Al Horford    569.636                   136.0                   71.0   \n",
      "4  Al-Farouq Aminu    221.189                    33.0                    9.0   \n",
      "\n",
      "  POSITION                    TEAM      SALARY  \n",
      "0       PG          Indiana Pacers   2700000.0  \n",
      "1       PF           Orlando Magic   4351320.0  \n",
      "2       PF  Minnesota Timberwolves   2022240.0  \n",
      "3        C          Boston Celtics  26540100.0  \n",
      "4       SF  Portland Trail Blazers   7680965.0  \n"
     ]
    }
   ],
   "source": [
    "print(nba_socialmediasalary_df.head())"
   ]
  },
  {
   "cell_type": "code",
   "execution_count": 70,
   "metadata": {},
   "outputs": [],
   "source": [
    "nba_attendance_df = pd.read_csv('nba_2017_attendance.csv')"
   ]
  },
  {
   "cell_type": "code",
   "execution_count": 71,
   "metadata": {},
   "outputs": [],
   "source": [
    "nba_attendancefilter_df = nba_attendance_df[['TEAM', 'AVG', 'PCT']]"
   ]
  },
  {
   "cell_type": "code",
   "execution_count": 72,
   "metadata": {},
   "outputs": [],
   "source": [
    "nba_buzz_df = pd.merge(nba_socialmediasalary_df, nba_attendancefilter_df , on='TEAM')"
   ]
  },
  {
   "cell_type": "code",
   "execution_count": 73,
   "metadata": {},
   "outputs": [
    {
     "name": "stdout",
     "output_type": "stream",
     "text": [
      "           PLAYER  pageviews  TWITTER_FAVORITE_COUNT  TWITTER_RETWEET_COUNT  \\\n",
      "0    Aaron Brooks      4.083                     1.0                    3.0   \n",
      "1     Jeff Teague      6.856                    17.5                   13.5   \n",
      "2  Kevin Seraphin      6.717                     4.5                    8.0   \n",
      "3    Myles Turner      4.574                    53.0                   31.0   \n",
      "4     Paul George    769.595                   228.5                  128.0   \n",
      "\n",
      "  POSITION            TEAM      SALARY    AVG   PCT  \n",
      "0       PG  Indiana Pacers   2700000.0  16697  91.9  \n",
      "1       PG  Indiana Pacers   8800000.0  16697  91.9  \n",
      "2        C  Indiana Pacers   1800000.0  16697  91.9  \n",
      "3        C  Indiana Pacers   2463840.0  16697  91.9  \n",
      "4       SF  Indiana Pacers  18314532.0  16697  91.9  \n"
     ]
    }
   ],
   "source": [
    "print(nba_buzz_df.head(5))"
   ]
  },
  {
   "cell_type": "code",
   "execution_count": 74,
   "metadata": {},
   "outputs": [
    {
     "data": {
      "text/plain": [
       "PLAYER                    0\n",
       "pageviews                 0\n",
       "TWITTER_FAVORITE_COUNT    3\n",
       "TWITTER_RETWEET_COUNT     3\n",
       "POSITION                  0\n",
       "TEAM                      0\n",
       "SALARY                    0\n",
       "AVG                       0\n",
       "PCT                       0\n",
       "dtype: int64"
      ]
     },
     "execution_count": 74,
     "metadata": {},
     "output_type": "execute_result"
    }
   ],
   "source": [
    "nba_buzz_df.isnull().sum()"
   ]
  },
  {
   "cell_type": "code",
   "execution_count": 75,
   "metadata": {},
   "outputs": [],
   "source": [
    "nba_fullbuzz_df = nba_buzz_df.fillna(0.0)"
   ]
  },
  {
   "cell_type": "code",
   "execution_count": 76,
   "metadata": {},
   "outputs": [
    {
     "data": {
      "text/plain": [
       "PLAYER                    0\n",
       "pageviews                 0\n",
       "TWITTER_FAVORITE_COUNT    0\n",
       "TWITTER_RETWEET_COUNT     0\n",
       "POSITION                  0\n",
       "TEAM                      0\n",
       "SALARY                    0\n",
       "AVG                       0\n",
       "PCT                       0\n",
       "dtype: int64"
      ]
     },
     "execution_count": 76,
     "metadata": {},
     "output_type": "execute_result"
    }
   ],
   "source": [
    "nba_fullbuzz_df.isnull().sum()"
   ]
  },
  {
   "cell_type": "code",
   "execution_count": 77,
   "metadata": {},
   "outputs": [],
   "source": [
    "nba_final_df = pd.merge(nba_finalstats_df, nba_fullbuzz_df, on=['PLAYER'])"
   ]
  },
  {
   "cell_type": "code",
   "execution_count": 78,
   "metadata": {},
   "outputs": [
    {
     "name": "stdout",
     "output_type": "stream",
     "text": [
      "              PLAYER TEAM_x   G  GS    MP   TRB   AST  STL  BLK  PS/G  ...  \\\n",
      "0  Russell Westbrook    OKC  81  81  34.6  10.7  10.4  1.6  0.4  31.6  ...   \n",
      "1       James Harden    HOU  81  81  36.4   8.1  11.2  1.5  0.5  29.1  ...   \n",
      "2     Damian Lillard    POR  75  75  35.9   4.9   5.9  0.9  0.3  27.0  ...   \n",
      "3       LeBron James    CLE  74  74  37.8   8.6   8.7  1.2  0.6  26.4  ...   \n",
      "4       Kyrie Irving    CLE  72  72  35.1   3.2   5.8  1.2  0.3  25.2  ...   \n",
      "\n",
      "    RPM   WINS  pageviews  TWITTER_FAVORITE_COUNT  TWITTER_RETWEET_COUNT  \\\n",
      "0  6.27  17.34   2367.837                  2130.5                  559.0   \n",
      "1  4.81  15.54   1337.869                   969.0                  321.5   \n",
      "2  3.14  10.72    926.756                   186.5                   43.0   \n",
      "3  8.42  20.43   8823.785                  5533.5                 1501.5   \n",
      "4  2.05   8.28   3022.758                  1541.0                  695.0   \n",
      "\n",
      "   POSITION                  TEAM_y      SALARY    AVG    PCT  \n",
      "0        PG   Oklahoma City Thunder  26500000.0  18203  100.0  \n",
      "1        PG         Houston Rockets  26500000.0  16973   94.1  \n",
      "2        PG  Portland Trail Blazers  24328425.0  19317   99.4  \n",
      "3        SF     Cleveland Cavaliers  30963450.0  20562  100.0  \n",
      "4        PG     Cleveland Cavaliers  17638063.0  20562  100.0  \n",
      "\n",
      "[5 rows x 27 columns]\n"
     ]
    }
   ],
   "source": [
    "print(nba_final_df.head())"
   ]
  },
  {
   "cell_type": "code",
   "execution_count": 82,
   "metadata": {},
   "outputs": [],
   "source": [
    "nba_final_df.columns = nba_final_df.columns.str.replace('pageviews ','WIKI_PAGE_VIEWS')"
   ]
  },
  {
   "cell_type": "code",
   "execution_count": 83,
   "metadata": {},
   "outputs": [],
   "source": [
    "nba_final_df.columns = nba_final_df.columns.str.replace('TEAM_x','TEAM_SH')"
   ]
  },
  {
   "cell_type": "code",
   "execution_count": 86,
   "metadata": {},
   "outputs": [],
   "source": [
    "nba_final_df.columns = nba_final_df.columns.str.replace('TEAM_y','TEAM')"
   ]
  },
  {
   "cell_type": "code",
   "execution_count": 87,
   "metadata": {},
   "outputs": [
    {
     "name": "stdout",
     "output_type": "stream",
     "text": [
      "Index(['PLAYER', 'TEAM_SH', 'G', 'GS', 'MP', 'TRB', 'AST', 'STL', 'BLK',\n",
      "       'PS/G', 'GP', 'W', 'L', 'NETRTG', 'TS%', 'PIE', 'MPG', 'RPM', 'WINS',\n",
      "       'pageviews', 'TWITTER_FAVORITE_COUNT', 'TWITTER_RETWEET_COUNT',\n",
      "       'POSITION', 'TEAM', 'SALARY', 'AVG', 'PCT'],\n",
      "      dtype='object')\n"
     ]
    }
   ],
   "source": [
    "print(nba_final_df.columns)"
   ]
  },
  {
   "cell_type": "code",
   "execution_count": null,
   "metadata": {},
   "outputs": [],
   "source": []
  }
 ],
 "metadata": {
  "kernelspec": {
   "display_name": "Python 3",
   "language": "python",
   "name": "python3"
  },
  "language_info": {
   "codemirror_mode": {
    "name": "ipython",
    "version": 3
   },
   "file_extension": ".py",
   "mimetype": "text/x-python",
   "name": "python",
   "nbconvert_exporter": "python",
   "pygments_lexer": "ipython3",
   "version": "3.7.3"
  }
 },
 "nbformat": 4,
 "nbformat_minor": 2
}
