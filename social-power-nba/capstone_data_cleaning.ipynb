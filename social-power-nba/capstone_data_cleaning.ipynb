{
 "cells": [
  {
   "cell_type": "code",
   "execution_count": 116,
   "metadata": {},
   "outputs": [],
   "source": [
    "#import pandas\n",
    "import pandas as pd"
   ]
  },
  {
   "cell_type": "code",
   "execution_count": 117,
   "metadata": {},
   "outputs": [],
   "source": [
    "#import numpy\n",
    "import numpy as np"
   ]
  },
  {
   "cell_type": "code",
   "execution_count": 118,
   "metadata": {},
   "outputs": [],
   "source": [
    "# read the nba_2017_br.csv and use it as dataframe \n",
    "nba_stats_df = pd.read_csv('nba_2017_br.csv')"
   ]
  },
  {
   "cell_type": "code",
   "execution_count": 119,
   "metadata": {},
   "outputs": [
    {
     "name": "stdout",
     "output_type": "stream",
     "text": [
      "Index(['Rk', 'PLAYER', 'Pos', 'Age', 'TEAM', 'G', 'GS', 'MP', 'FG', 'FGA',\n",
      "       'FG%', '3P', '3PA', '3P%', '2P', '2PA', '2P%', 'eFG%', 'FT', 'FTA',\n",
      "       'FT%', 'ORB', 'DRB', 'TRB', 'AST', 'STL', 'BLK', 'TOV', 'PF', 'PS/G'],\n",
      "      dtype='object')\n"
     ]
    }
   ],
   "source": [
    "# print the columns of the above dataframe\n",
    "print(nba_stats_df.keys())"
   ]
  },
  {
   "cell_type": "code",
   "execution_count": 120,
   "metadata": {},
   "outputs": [],
   "source": [
    "# read the nba_2017_pie.csv and use it as dataframe \n",
    "nba_advstats_df = pd.read_csv('nba_2017_pie.csv')"
   ]
  },
  {
   "cell_type": "code",
   "execution_count": 121,
   "metadata": {},
   "outputs": [],
   "source": [
    "# read the nba_2017_real_plus_minus.csv and use it as dataframe \n",
    "nba_plusminus_df = pd.read_csv('nba_2017_real_plus_minus.csv')"
   ]
  },
  {
   "cell_type": "code",
   "execution_count": 122,
   "metadata": {},
   "outputs": [
    {
     "name": "stdout",
     "output_type": "stream",
     "text": [
      "Index(['NAME', 'TEAM', 'GP', 'MPG', 'ORPM', 'DRPM', 'RPM', 'WINS'], dtype='object')\n"
     ]
    }
   ],
   "source": [
    "# print the columns of the above dataframe\n",
    "print(nba_plusminus_df.keys())"
   ]
  },
  {
   "cell_type": "code",
   "execution_count": 123,
   "metadata": {},
   "outputs": [
    {
     "name": "stdout",
     "output_type": "stream",
     "text": [
      "Index(['PLAYER', 'TEAM', 'AGE', 'GP', 'W', 'L', 'MIN', 'OFFRTG', 'DEFRTG',\n",
      "       'NETRTG', 'AST%', 'AST/TO', 'AST RATIO', 'OREB%', 'DREB%', 'REB%',\n",
      "       'TO RATIO', 'EFG%', 'TS%', 'USG%', 'PACE', 'PIE'],\n",
      "      dtype='object')\n"
     ]
    }
   ],
   "source": [
    "# print the columns of the nba_advstats_df\n",
    "print(nba_advstats_df.keys())"
   ]
  },
  {
   "cell_type": "code",
   "execution_count": 124,
   "metadata": {},
   "outputs": [],
   "source": [
    "# change the column name to PLAYER from NAME\n",
    "nba_plusminus_df.columns = nba_plusminus_df.columns.str.replace('NAME','PLAYER')"
   ]
  },
  {
   "cell_type": "code",
   "execution_count": 125,
   "metadata": {},
   "outputs": [
    {
     "name": "stdout",
     "output_type": "stream",
     "text": [
      "Index(['PLAYER', 'TEAM', 'GP', 'MPG', 'ORPM', 'DRPM', 'RPM', 'WINS'], dtype='object')\n"
     ]
    }
   ],
   "source": [
    "# verfity the above change worked\n",
    "print(nba_plusminus_df.keys())"
   ]
  },
  {
   "cell_type": "code",
   "execution_count": 126,
   "metadata": {},
   "outputs": [],
   "source": [
    "# filter the nba_advstats_df to only use data from the column I need\n",
    "nba_advfilter_df = nba_advstats_df[['PLAYER', 'TEAM', 'GP', 'W', 'L', 'NETRTG', 'TS%', 'PIE']]"
   ]
  },
  {
   "cell_type": "code",
   "execution_count": 127,
   "metadata": {},
   "outputs": [
    {
     "name": "stdout",
     "output_type": "stream",
     "text": [
      "              PLAYER TEAM  GP   W   L  NETRTG   TS%   PIE\n",
      "0  Russell Westbrook  OKC  81  46  35     3.3  55.4  23.0\n",
      "1   Boban Marjanovic  DET  35  16  19     1.9  60.6  19.6\n",
      "2  Demetrius Jackson  BOS   5   1   4     6.3  75.3  19.4\n",
      "3      Anthony Davis  NOP  75  31  44     1.7  58.0  19.2\n",
      "4       James Harden  HOU  81  54  27     6.3  61.3  19.0\n"
     ]
    }
   ],
   "source": [
    "#verify the filter worked\n",
    "print(nba_advfilter_df.head())"
   ]
  },
  {
   "cell_type": "code",
   "execution_count": 128,
   "metadata": {},
   "outputs": [],
   "source": [
    "# filter the nba_stats_df to only use data from the column I need\n",
    "nba_statsfilter_df = nba_stats_df[['PLAYER', 'TEAM', 'G', 'GS', 'MP', 'TRB', 'AST', 'STL', 'BLK', 'PS/G']]"
   ]
  },
  {
   "cell_type": "code",
   "execution_count": 129,
   "metadata": {},
   "outputs": [],
   "source": [
    "# filter the nba_plusminus_df to only use data from the column I need\n",
    "nba_plusminusfilter_df = nba_plusminus_df[['PLAYER', 'TEAM', 'MPG', 'RPM', 'WINS']]"
   ]
  },
  {
   "cell_type": "code",
   "execution_count": 130,
   "metadata": {},
   "outputs": [
    {
     "name": "stdout",
     "output_type": "stream",
     "text": [
      "                  PLAYER TEAM   MPG   RPM   WINS\n",
      "0       LeBron James, SF  CLE  37.8  8.42  20.43\n",
      "1      Stephen Curry, PG   GS  33.4  7.41  18.80\n",
      "2       Jimmy Butler, SG  CHI  37.0  6.62  17.35\n",
      "3  Russell Westbrook, PG  OKC  34.6  6.27  17.34\n",
      "4     Draymond Green, PF   GS  32.5  7.14  16.84\n"
     ]
    }
   ],
   "source": [
    "#verify the filter worked noticed PLAYER has name and position\n",
    "print(nba_plusminusfilter_df.head())"
   ]
  },
  {
   "cell_type": "code",
   "execution_count": 131,
   "metadata": {},
   "outputs": [],
   "source": [
    "# reset the index of the nba_plusminus_df in order to spilt the PLAYER column\n",
    "nba_C= nba_plusminusfilter_df.reset_index(drop=True)"
   ]
  },
  {
   "cell_type": "code",
   "execution_count": 132,
   "metadata": {},
   "outputs": [
    {
     "name": "stderr",
     "output_type": "stream",
     "text": [
      "C:\\Users\\ngmat\\Anaconda3\\lib\\site-packages\\ipykernel_launcher.py:2: SettingWithCopyWarning: \n",
      "A value is trying to be set on a copy of a slice from a DataFrame.\n",
      "Try using .loc[row_indexer,col_indexer] = value instead\n",
      "\n",
      "See the caveats in the documentation: http://pandas.pydata.org/pandas-docs/stable/indexing.html#indexing-view-versus-copy\n",
      "  \n"
     ]
    }
   ],
   "source": [
    "# lambda function to get the name from the PLAYER column and assigned to PLAYERNAME column\n",
    "nba_plusminusfilter_df['PLAYERNAME'] = nba_plusminusfilter_df.PLAYER.map(lambda x: x.split(',')[0])"
   ]
  },
  {
   "cell_type": "code",
   "execution_count": 133,
   "metadata": {},
   "outputs": [
    {
     "name": "stdout",
     "output_type": "stream",
     "text": [
      "                  PLAYER TEAM   MPG   RPM   WINS         PLAYERNAME\n",
      "0       LeBron James, SF  CLE  37.8  8.42  20.43       LeBron James\n",
      "1      Stephen Curry, PG   GS  33.4  7.41  18.80      Stephen Curry\n",
      "2       Jimmy Butler, SG  CHI  37.0  6.62  17.35       Jimmy Butler\n",
      "3  Russell Westbrook, PG  OKC  34.6  6.27  17.34  Russell Westbrook\n",
      "4     Draymond Green, PF   GS  32.5  7.14  16.84     Draymond Green\n"
     ]
    }
   ],
   "source": [
    "# verify if the above changed worked\n",
    "print(nba_plusminusfilter_df.head())"
   ]
  },
  {
   "cell_type": "code",
   "execution_count": 134,
   "metadata": {},
   "outputs": [],
   "source": [
    "# drop the PLAYER column\n",
    "nba_plusminusfilter_df=nba_plusminusfilter_df.drop(columns='PLAYER')"
   ]
  },
  {
   "cell_type": "code",
   "execution_count": 135,
   "metadata": {},
   "outputs": [
    {
     "name": "stdout",
     "output_type": "stream",
     "text": [
      "  TEAM   MPG   RPM   WINS         PLAYERNAME\n",
      "0  CLE  37.8  8.42  20.43       LeBron James\n",
      "1   GS  33.4  7.41  18.80      Stephen Curry\n",
      "2  CHI  37.0  6.62  17.35       Jimmy Butler\n",
      "3  OKC  34.6  6.27  17.34  Russell Westbrook\n",
      "4   GS  32.5  7.14  16.84     Draymond Green\n"
     ]
    }
   ],
   "source": [
    "#verify the above change\n",
    "print(nba_plusminusfilter_df.head())"
   ]
  },
  {
   "cell_type": "code",
   "execution_count": 136,
   "metadata": {},
   "outputs": [],
   "source": [
    "#change column to PLAYER\n",
    "nba_plusminusfilter_df.columns = nba_plusminusfilter_df.columns.str.replace('PLAYERNAME','PLAYER')"
   ]
  },
  {
   "cell_type": "code",
   "execution_count": 137,
   "metadata": {},
   "outputs": [
    {
     "name": "stdout",
     "output_type": "stream",
     "text": [
      "  TEAM   MPG   RPM   WINS             PLAYER\n",
      "0  CLE  37.8  8.42  20.43       LeBron James\n",
      "1   GS  33.4  7.41  18.80      Stephen Curry\n",
      "2  CHI  37.0  6.62  17.35       Jimmy Butler\n",
      "3  OKC  34.6  6.27  17.34  Russell Westbrook\n",
      "4   GS  32.5  7.14  16.84     Draymond Green\n"
     ]
    }
   ],
   "source": [
    "#verifty the above changed worked\n",
    "print(nba_plusminusfilter_df.head())"
   ]
  },
  {
   "cell_type": "code",
   "execution_count": 138,
   "metadata": {},
   "outputs": [],
   "source": [
    "# merge the nba stats and efficenty filter dataframed together\n",
    "nba_fullstats_df = pd.merge(nba_statsfilter_df, nba_advfilter_df, on=['PLAYER','TEAM'])"
   ]
  },
  {
   "cell_type": "code",
   "execution_count": 139,
   "metadata": {},
   "outputs": [
    {
     "name": "stdout",
     "output_type": "stream",
     "text": [
      "              PLAYER TEAM   G  GS    MP   TRB   AST  STL  BLK  PS/G  GP   W  \\\n",
      "0  Russell Westbrook  OKC  81  81  34.6  10.7  10.4  1.6  0.4  31.6  81  46   \n",
      "1       James Harden  HOU  81  81  36.4   8.1  11.2  1.5  0.5  29.1  81  54   \n",
      "2      Isaiah Thomas  BOS  76  76  33.8   2.7   5.9  0.9  0.2  28.9  76  51   \n",
      "3      Anthony Davis  NOP  75  75  36.1  11.8   2.1  1.3  2.2  28.0  75  31   \n",
      "4      DeMar DeRozan  TOR  74  74  35.4   5.2   3.9  1.1  0.2  27.3  74  47   \n",
      "\n",
      "    L  NETRTG   TS%   PIE  \n",
      "0  35     3.3  55.4  23.0  \n",
      "1  27     6.3  61.3  19.0  \n",
      "2  25     5.0  62.5  16.1  \n",
      "3  44     1.7  58.0  19.2  \n",
      "4  27     3.3  55.2  15.5  \n"
     ]
    }
   ],
   "source": [
    "#verify the change work\n",
    "print(nba_fullstats_df.head())"
   ]
  },
  {
   "cell_type": "code",
   "execution_count": 140,
   "metadata": {},
   "outputs": [],
   "source": [
    "# merge the last dataset to get a final stats dataframe\n",
    "nba_finalstats_df = pd.merge(nba_fullstats_df, nba_plusminusfilter_df, on=['PLAYER','TEAM'])"
   ]
  },
  {
   "cell_type": "code",
   "execution_count": 141,
   "metadata": {},
   "outputs": [
    {
     "name": "stdout",
     "output_type": "stream",
     "text": [
      "              PLAYER TEAM   G  GS    MP   TRB   AST  STL  BLK  PS/G  GP   W  \\\n",
      "0  Russell Westbrook  OKC  81  81  34.6  10.7  10.4  1.6  0.4  31.6  81  46   \n",
      "1       James Harden  HOU  81  81  36.4   8.1  11.2  1.5  0.5  29.1  81  54   \n",
      "2      Isaiah Thomas  BOS  76  76  33.8   2.7   5.9  0.9  0.2  28.9  76  51   \n",
      "3      DeMar DeRozan  TOR  74  74  35.4   5.2   3.9  1.1  0.2  27.3  74  47   \n",
      "4     Damian Lillard  POR  75  75  35.9   4.9   5.9  0.9  0.3  27.0  75  38   \n",
      "\n",
      "    L  NETRTG   TS%   PIE   MPG   RPM   WINS  \n",
      "0  35     3.3  55.4  23.0  34.6  6.27  17.34  \n",
      "1  27     6.3  61.3  19.0  36.4  4.81  15.54  \n",
      "2  25     5.0  62.5  16.1  33.8  1.83   8.19  \n",
      "3  27     3.3  55.2  15.5  35.4  0.17   5.46  \n",
      "4  37     1.2  58.6  15.9  35.9  3.14  10.72  \n"
     ]
    }
   ],
   "source": [
    "# verify if change work\n",
    "print(nba_finalstats_df.head())"
   ]
  },
  {
   "cell_type": "code",
   "execution_count": 142,
   "metadata": {},
   "outputs": [
    {
     "data": {
      "text/plain": [
       "PLAYER    0\n",
       "TEAM      0\n",
       "G         0\n",
       "GS        0\n",
       "MP        0\n",
       "TRB       0\n",
       "AST       0\n",
       "STL       0\n",
       "BLK       0\n",
       "PS/G      0\n",
       "GP        0\n",
       "W         0\n",
       "L         0\n",
       "NETRTG    0\n",
       "TS%       0\n",
       "PIE       0\n",
       "MPG       0\n",
       "RPM       0\n",
       "WINS      0\n",
       "dtype: int64"
      ]
     },
     "execution_count": 142,
     "metadata": {},
     "output_type": "execute_result"
    }
   ],
   "source": [
    "# see if there is any null values\n",
    "nba_finalstats_df.isnull().sum()"
   ]
  },
  {
   "cell_type": "code",
   "execution_count": 143,
   "metadata": {},
   "outputs": [
    {
     "name": "stdout",
     "output_type": "stream",
     "text": [
      "                    PLAYER TEAM   G  GS    MP   TRB   AST  STL  BLK  PS/G  GP  \\\n",
      "0        Russell Westbrook  OKC  81  81  34.6  10.7  10.4  1.6  0.4  31.6  81   \n",
      "1             James Harden  HOU  81  81  36.4   8.1  11.2  1.5  0.5  29.1  81   \n",
      "2            Isaiah Thomas  BOS  76  76  33.8   2.7   5.9  0.9  0.2  28.9  76   \n",
      "3            DeMar DeRozan  TOR  74  74  35.4   5.2   3.9  1.1  0.2  27.3  74   \n",
      "4           Damian Lillard  POR  75  75  35.9   4.9   5.9  0.9  0.3  27.0  75   \n",
      "5             LeBron James  CLE  74  74  37.8   8.6   8.7  1.2  0.6  26.4  74   \n",
      "6             Kyrie Irving  CLE  72  72  35.1   3.2   5.8  1.2  0.3  25.2  72   \n",
      "7       Karl-Anthony Towns  MIN  82  82  37.0  12.3   2.7  0.7  1.3  25.1  82   \n",
      "8             Jimmy Butler  CHI  76  75  37.0   6.2   5.5  1.9  0.4  23.9  76   \n",
      "9              Paul George  IND  75  75  35.9   6.6   3.3  1.6  0.4  23.7  75   \n",
      "10          Andrew Wiggins  MIN  82  82  37.2   4.0   2.3  1.0  0.4  23.6  82   \n",
      "11   Giannis Antetokounmpo  MIL  80  80  35.6   8.8   5.4  1.6  1.9  22.9  80   \n",
      "12              Kyle Lowry  TOR  60  60  37.4   4.8   7.0  1.5  0.3  22.4  60   \n",
      "13           Blake Griffin  LAC  61  61  34.0   8.1   4.9  0.9  0.4  21.6  61   \n",
      "14             Mike Conley  MEM  69  68  33.2   3.5   6.3  1.3  0.3  20.5  69   \n",
      "15            Goran Dragic  MIA  73  73  33.7   3.8   5.8  1.2  0.2  20.3  73   \n",
      "16             Joel Embiid  PHI  31  31  25.4   7.8   2.1  0.9  2.5  20.2  31   \n",
      "17           Jabari Parker  MIL  51  50  33.9   6.2   2.8  1.0  0.4  20.1  51   \n",
      "18              Marc Gasol  MEM  74  74  34.2   6.3   4.6  0.9  1.3  19.5  74   \n",
      "19         Harrison Barnes  DAL  79  79  35.5   5.0   1.5  0.8  0.2  19.2  79   \n",
      "20              Kevin Love  CLE  60  60  31.4  11.1   1.9  0.9  0.4  19.0  60   \n",
      "21             Zach LaVine  MIN  47  47  37.2   3.4   3.0  0.9  0.2  18.9  47   \n",
      "22                Rudy Gay  SAC  30  30  33.8   6.3   2.8  1.5  0.9  18.7  30   \n",
      "23             Dwyane Wade  CHI  60  59  29.9   4.5   3.8  1.4  0.7  18.3  60   \n",
      "24        Danilo Gallinari  DEN  63  63  33.9   5.2   2.1  0.6  0.2  18.2  63   \n",
      "25            Paul Millsap  ATL  69  67  34.0   7.7   3.7  1.3  0.9  18.1  69   \n",
      "26              Chris Paul  LAC  61  61  31.5   5.0   9.2  2.0  0.1  18.1  61   \n",
      "27         Dennis Schroder  ATL  79  78  31.5   3.1   6.3  0.9  0.2  17.9  79   \n",
      "28           Evan Fournier  ORL  68  66  32.9   3.1   3.0  1.0  0.1  17.2  68   \n",
      "29        Hassan Whiteside  MIA  77  77  32.6  14.1   0.7  0.7  2.1  17.0  77   \n",
      "..                     ...  ...  ..  ..   ...   ...   ...  ...  ...   ...  ..   \n",
      "247         Chris Andersen  CLE  12   0   9.5   2.6   0.4  0.4  0.6   2.3  12   \n",
      "248      Metta World Peace  LAL  25   2   6.4   0.8   0.4  0.4  0.1   2.3  25   \n",
      "249            James Young  BOS  29   0   7.6   0.9   0.1  0.3  0.1   2.3  29   \n",
      "250            Jake Layman  POR  35   1   7.1   0.7   0.3  0.3  0.1   2.2  35   \n",
      "251              Joe Young  IND  33   0   4.1   0.5   0.5  0.1  0.0   2.1  33   \n",
      "252       Rakeem Christmas  IND  29   0   7.6   1.9   0.1  0.1  0.2   2.0  29   \n",
      "253      Demetrius Jackson  BOS   5   0   3.4   0.8   0.6  0.0  0.0   2.0   5   \n",
      "254          Udonis Haslem  MIA  16   0   8.1   2.3   0.4  0.4  0.1   1.9  16   \n",
      "255         Tim Quarterman  POR  16   0   5.0   0.9   0.7  0.1  0.2   1.9  16   \n",
      "256        Lamar Patterson  ATL   5   0   8.0   1.4   1.2  0.2  0.0   1.8   5   \n",
      "257           Damjan Rudez  ORL  45   0   7.0   0.6   0.4  0.3  0.0   1.8  45   \n",
      "258           Cole Aldrich  MIN  62   0   8.6   2.5   0.4  0.4  0.4   1.7  62   \n",
      "259          Nick Collison  OKC  20   0   6.4   1.6   0.6  0.1  0.1   1.7  20   \n",
      "260            Jordan Hill  MIN   7   0   6.7   2.0   0.0  0.1  0.0   1.7   7   \n",
      "261          Bruno Caboclo  TOR   9   0   4.4   1.1   0.4  0.2  0.1   1.6   9   \n",
      "262          Deyonta Davis  MEM  36   0   6.6   1.7   0.1  0.1  0.5   1.6  36   \n",
      "263             Ryan Kelly  ATL  16   0   6.9   1.1   0.5  0.3  0.3   1.6  16   \n",
      "264          Jordan Mickey  BOS  25   1   5.6   1.4   0.3  0.1  0.2   1.5  25   \n",
      "265            Mike Miller  DEN  20   0   7.6   1.9   1.1  0.1  0.0   1.4  20   \n",
      "266          Diamond Stone  LAC   7   0   3.4   0.9   0.0  0.0  0.1   1.4   7   \n",
      "267          Brice Johnson  LAC   3   0   3.0   1.0   0.3  0.7  0.3   1.3   3   \n",
      "268      Stephen Zimmerman  ORL  19   0   5.7   1.8   0.2  0.1  0.3   1.2  19   \n",
      "269          Georges Niang  IND  23   0   4.0   0.7   0.2  0.1  0.0   0.9  23   \n",
      "270           Kyle Wiltjer  HOU  14   0   3.1   0.7   0.1  0.2  0.1   0.9  14   \n",
      "271             Alonzo Gee  DEN  13   0   6.8   1.2   0.5  0.4  0.1   0.8  13   \n",
      "272          Isaiah Taylor  HOU   4   0  13.0   0.8   0.8  0.3  0.3   0.8   4   \n",
      "273        Michael Gbinije  DET   9   0   3.6   0.3   0.2  0.0  0.0   0.4   9   \n",
      "274         John Lucas III  MIN   5   0   2.2   0.0   0.2  0.4  0.0   0.4   5   \n",
      "275             Ben Bentil  DAL   3   0   3.3   0.7   0.0  0.0  0.0   0.0   3   \n",
      "276        Patricio Garino  ORL   5   0   8.6   1.4   0.0  0.0  0.0   0.0   5   \n",
      "\n",
      "      W   L  NETRTG   TS%   PIE   MPG   RPM   WINS  \n",
      "0    46  35     3.3  55.4  23.0  34.6  6.27  17.34  \n",
      "1    54  27     6.3  61.3  19.0  36.4  4.81  15.54  \n",
      "2    51  25     5.0  62.5  16.1  33.8  1.83   8.19  \n",
      "3    47  27     3.3  55.2  15.5  35.4  0.17   5.46  \n",
      "4    38  37     1.2  58.6  15.9  35.9  3.14  10.72  \n",
      "5    51  23     7.7  61.9  18.3  37.8  8.42  20.43  \n",
      "6    47  25     5.1  58.0  13.5  35.1  2.05   8.28  \n",
      "7    31  51    -0.9  61.8  17.1  37.0  2.13  10.00  \n",
      "8    40  36     3.0  58.6  16.4  37.0  6.62  17.35  \n",
      "9    39  36     2.9  58.7  13.6  35.9  2.58   9.72  \n",
      "10   31  51    -0.5  53.4   9.5  37.2 -1.60   2.94  \n",
      "11   42  38     1.5  59.9  17.6  35.6  4.21  13.00  \n",
      "12   36  24     8.2  62.3  14.7  37.4  5.88  12.67  \n",
      "13   40  21    10.6  56.9  15.2  34.0  3.78   9.20  \n",
      "14   35  34     3.1  60.4  16.0  33.2  4.47  10.50  \n",
      "15   40  33     0.6  57.5  13.0  33.7  0.92   6.30  \n",
      "16   13  18     3.2  58.4  17.4  25.4  1.70   2.46  \n",
      "17   22  29    -2.5  56.3  12.1  33.9 -0.78   2.59  \n",
      "18   40  34     1.4  55.4  15.1  34.2  2.58   8.69  \n",
      "19   32  47    -2.1  54.1  11.2  35.5 -0.33   4.78  \n",
      "20   40  20     7.2  57.3  14.8  31.4  5.03   9.76  \n",
      "21   16  31    -3.6  57.6   9.5  37.2 -2.97   0.17  \n",
      "22   11  19     1.7  55.9  12.5  33.8  1.75   3.10  \n",
      "23   29  31    -2.4  50.8  12.1  29.9 -0.91   2.52  \n",
      "24   31  32     2.7  62.2  11.4  33.9  2.88   8.39  \n",
      "25   40  29     2.0  54.2  12.6  34.0  4.58  11.51  \n",
      "26   43  18    14.9  61.4  18.2  31.5  7.92  13.48  \n",
      "27   42  37    -2.0  53.3  11.7  31.5 -2.45   1.07  \n",
      "28   23  45    -4.9  55.5   8.5  32.9 -1.10   2.89  \n",
      "29   39  38     1.3  57.9  16.3  32.6  2.03   8.15  \n",
      "..   ..  ..     ...   ...   ...   ...   ...    ...  \n",
      "247   8   4     4.3  49.7   6.3   9.5 -0.38   0.20  \n",
      "248   8  17   -17.7  38.0   2.9   6.4 -2.08   0.11  \n",
      "249  16  13    -5.8  54.9   6.4   7.6 -2.16   0.14  \n",
      "250  16  19    -0.4  40.4   2.5   7.1 -3.02   0.02  \n",
      "251  18  15   -26.1  43.3   8.7   4.1 -4.06  -0.08  \n",
      "252  14  15   -10.6  52.9   4.9   7.6 -1.70   0.20  \n",
      "253   1   4     6.3  75.3  19.4   3.4 -2.07   0.01  \n",
      "254   6  10   -23.8  52.4   7.3   8.1 -2.06   0.09  \n",
      "255   6  10     0.0  51.1   8.1   5.0 -2.35   0.04  \n",
      "256   1   4    16.8  27.6  -0.4   8.0 -1.61   0.03  \n",
      "257  12  33   -17.3  46.6   3.6   7.0 -3.28  -0.03  \n",
      "258  23  39    -0.2  54.9   7.6   8.6  0.01   1.04  \n",
      "259  10  10   -17.2  62.2  12.0   6.4 -1.06   0.17  \n",
      "260   2   5    13.9  43.2   1.5   6.7 -1.15   0.06  \n",
      "261   8   1     6.2  43.8   9.4   4.4 -1.65   0.04  \n",
      "262  23  13    -7.2  52.8   6.0   6.6 -3.12   0.00  \n",
      "263   6  10     2.6  40.8   7.3   6.9 -0.49   0.08  \n",
      "264   9  16   -17.1  47.3   6.0   5.6 -2.77   0.03  \n",
      "265   9  11    -3.3  58.6   8.4   7.6 -1.58   0.16  \n",
      "266   6   1   -58.7  33.9  -1.4   3.4 -2.28   0.01  \n",
      "267   1   2    44.9  28.6  10.8   3.0 -1.24   0.01  \n",
      "268   8  11   -18.1  34.6   4.6   5.7 -2.22   0.06  \n",
      "269  11  12    -5.3  28.5   2.0   4.0 -2.62   0.03  \n",
      "270  12   2   -35.9  43.7   3.3   3.1 -1.97   0.04  \n",
      "271   4   9     1.4  30.6   0.8   6.8 -1.68   0.08  \n",
      "272   3   1   -14.6  19.0  -1.3  13.0 -3.09   0.00  \n",
      "273   7   2    -1.8  18.4  -2.7   3.6 -2.34   0.02  \n",
      "274   3   2    46.9  25.0   7.3   2.2 -1.91   0.01  \n",
      "275   2   1   -44.0   0.0  -6.1   3.3 -1.30   0.01  \n",
      "276   2   3   -21.1   0.0  -4.9   8.6 -3.01   0.00  \n",
      "\n",
      "[277 rows x 19 columns]\n"
     ]
    }
   ],
   "source": [
    "print(nba_finalstats_df)"
   ]
  },
  {
   "cell_type": "code",
   "execution_count": 28,
   "metadata": {},
   "outputs": [],
   "source": [
    "# read the nba_2017_player_wikipedia.csv and use it as dataframe \n",
    "nba_wiki_df = pd.read_csv('nba_2017_player_wikipedia.csv')"
   ]
  },
  {
   "cell_type": "code",
   "execution_count": 29,
   "metadata": {},
   "outputs": [],
   "source": [
    "# get the sum of each days pageviews based on the player\n",
    "nba_wikisum_df = (nba_wiki_df.groupby('names', as_index=False)['pageviews'].sum())"
   ]
  },
  {
   "cell_type": "code",
   "execution_count": 30,
   "metadata": {},
   "outputs": [
    {
     "name": "stdout",
     "output_type": "stream",
     "text": [
      "            names  pageviews\n",
      "0    A.J. Hammons        996\n",
      "1    Aaron Brooks       4083\n",
      "2    Aaron Gordon     627319\n",
      "3  Aaron Harrison     222966\n",
      "4   Adreian Payne      75343\n"
     ]
    }
   ],
   "source": [
    "# verfiy the sum work\n",
    "print(nba_wikisum_df.head())"
   ]
  },
  {
   "cell_type": "code",
   "execution_count": 31,
   "metadata": {},
   "outputs": [],
   "source": [
    "# divide the above sum by 1000\n",
    "nba_wikisum_df['pageviews'] = nba_wikisum_df['pageviews']/1000"
   ]
  },
  {
   "cell_type": "code",
   "execution_count": 32,
   "metadata": {},
   "outputs": [
    {
     "name": "stdout",
     "output_type": "stream",
     "text": [
      "            names  pageviews\n",
      "0    A.J. Hammons      0.996\n",
      "1    Aaron Brooks      4.083\n",
      "2    Aaron Gordon    627.319\n",
      "3  Aaron Harrison    222.966\n",
      "4   Adreian Payne     75.343\n"
     ]
    }
   ],
   "source": [
    "#verifty the code above workedd\n",
    "print(nba_wikisum_df.head())"
   ]
  },
  {
   "cell_type": "code",
   "execution_count": 33,
   "metadata": {},
   "outputs": [],
   "source": [
    "#change 'names' column to 'PLAYER'\n",
    "nba_wikisum_df.columns = nba_wikisum_df.columns.str.replace('names','PLAYER')"
   ]
  },
  {
   "cell_type": "code",
   "execution_count": 34,
   "metadata": {},
   "outputs": [
    {
     "name": "stdout",
     "output_type": "stream",
     "text": [
      "           PLAYER  pageviews\n",
      "0    A.J. Hammons      0.996\n",
      "1    Aaron Brooks      4.083\n",
      "2    Aaron Gordon    627.319\n",
      "3  Aaron Harrison    222.966\n",
      "4   Adreian Payne     75.343\n"
     ]
    }
   ],
   "source": [
    "#verrify change above worked\n",
    "print(nba_wikisum_df.head())"
   ]
  },
  {
   "cell_type": "code",
   "execution_count": 35,
   "metadata": {},
   "outputs": [],
   "source": [
    "# read the nba_2017_twitter_players.csv and use it as dataframe \n",
    "nba_twitter_df = pd.read_csv('nba_2017_twitter_players.csv')"
   ]
  },
  {
   "cell_type": "code",
   "execution_count": 36,
   "metadata": {},
   "outputs": [
    {
     "name": "stdout",
     "output_type": "stream",
     "text": [
      "              PLAYER  TWITTER_FAVORITE_COUNT  TWITTER_RETWEET_COUNT\n",
      "0  Russell Westbrook                  2130.5                  559.0\n",
      "1       James Harden                   969.0                  321.5\n",
      "2      Isaiah Thomas                   467.5                  155.5\n",
      "3      Anthony Davis                   368.0                  104.0\n",
      "4      DeMar DeRozan                     0.0                  186.0\n"
     ]
    }
   ],
   "source": [
    "#explore the above dataframe\n",
    "print(nba_twitter_df.head())"
   ]
  },
  {
   "cell_type": "code",
   "execution_count": 37,
   "metadata": {},
   "outputs": [],
   "source": [
    "# read the nba_2017_salary.csv' and use it as dataframe \n",
    "nba_salary_df = pd.read_csv('nba_2017_salary.csv')"
   ]
  },
  {
   "cell_type": "code",
   "execution_count": 38,
   "metadata": {},
   "outputs": [],
   "source": [
    "#change 'NAME' column to 'PLAYER'\n",
    "nba_salary_df.columns = nba_salary_df.columns.str.replace('NAME','PLAYER')"
   ]
  },
  {
   "cell_type": "code",
   "execution_count": 39,
   "metadata": {},
   "outputs": [
    {
     "name": "stdout",
     "output_type": "stream",
     "text": [
      "            PLAYER POSITION                 TEAM      SALARY\n",
      "0     LeBron James       SF  Cleveland Cavaliers  30963450.0\n",
      "1      Mike Conley       PG    Memphis Grizzlies  26540100.0\n",
      "2       Al Horford        C       Boston Celtics  26540100.0\n",
      "3    Dirk Nowitzki       PF     Dallas Mavericks  25000000.0\n",
      "4  Carmelo Anthony       SF      New York Knicks  24559380.0\n"
     ]
    }
   ],
   "source": [
    "#verify if the above changed worked\n",
    "print(nba_salary_df.head())"
   ]
  },
  {
   "cell_type": "code",
   "execution_count": 40,
   "metadata": {},
   "outputs": [],
   "source": [
    "# merge wikipedia and twitter dataframes\n",
    "nba_socialmedia_df = pd.merge(nba_wikisum_df, nba_twitter_df, on='PLAYER')"
   ]
  },
  {
   "cell_type": "code",
   "execution_count": 41,
   "metadata": {},
   "outputs": [
    {
     "name": "stdout",
     "output_type": "stream",
     "text": [
      "            PLAYER  pageviews  TWITTER_FAVORITE_COUNT  TWITTER_RETWEET_COUNT\n",
      "0     Aaron Brooks      4.083                     1.0                    3.0\n",
      "1     Aaron Gordon    627.319                    42.5                   16.0\n",
      "2    Adreian Payne     75.343                     0.0                   13.0\n",
      "3       Al Horford    569.636                   136.0                   71.0\n",
      "4  Al-Farouq Aminu    221.189                    33.0                    9.0\n"
     ]
    }
   ],
   "source": [
    "#see if the merged worked\n",
    "print(nba_socialmedia_df.head())"
   ]
  },
  {
   "cell_type": "code",
   "execution_count": 42,
   "metadata": {},
   "outputs": [],
   "source": [
    "#merge the salary datrframe to wikipedia and twitter dataframes\n",
    "nba_socialmediasalary_df = pd.merge(nba_socialmedia_df, nba_salary_df, on='PLAYER')"
   ]
  },
  {
   "cell_type": "code",
   "execution_count": 43,
   "metadata": {},
   "outputs": [
    {
     "name": "stdout",
     "output_type": "stream",
     "text": [
      "            PLAYER  pageviews  TWITTER_FAVORITE_COUNT  TWITTER_RETWEET_COUNT  \\\n",
      "0     Aaron Brooks      4.083                     1.0                    3.0   \n",
      "1     Aaron Gordon    627.319                    42.5                   16.0   \n",
      "2    Adreian Payne     75.343                     0.0                   13.0   \n",
      "3       Al Horford    569.636                   136.0                   71.0   \n",
      "4  Al-Farouq Aminu    221.189                    33.0                    9.0   \n",
      "\n",
      "  POSITION                    TEAM      SALARY  \n",
      "0       PG          Indiana Pacers   2700000.0  \n",
      "1       PF           Orlando Magic   4351320.0  \n",
      "2       PF  Minnesota Timberwolves   2022240.0  \n",
      "3        C          Boston Celtics  26540100.0  \n",
      "4       SF  Portland Trail Blazers   7680965.0  \n"
     ]
    }
   ],
   "source": [
    "#verify change\n",
    "print(nba_socialmediasalary_df.head())"
   ]
  },
  {
   "cell_type": "code",
   "execution_count": 44,
   "metadata": {},
   "outputs": [],
   "source": [
    "# read the nba_2017_attendance.csv and use it as dataframe \n",
    "nba_attendance_df = pd.read_csv('nba_2017_attendance.csv')"
   ]
  },
  {
   "cell_type": "code",
   "execution_count": 45,
   "metadata": {},
   "outputs": [],
   "source": [
    "#filter the values needed from the attendance dataframe\n",
    "nba_attendancefilter_df = nba_attendance_df[['TEAM', 'AVG', 'PCT']]"
   ]
  },
  {
   "cell_type": "code",
   "execution_count": 46,
   "metadata": {},
   "outputs": [],
   "source": [
    "#merge attendance to the other three dataframes\n",
    "nba_buzz_df = pd.merge(nba_socialmediasalary_df, nba_attendancefilter_df , on='TEAM')"
   ]
  },
  {
   "cell_type": "code",
   "execution_count": 144,
   "metadata": {},
   "outputs": [
    {
     "name": "stdout",
     "output_type": "stream",
     "text": [
      "<bound method NDFrame.head of                        PLAYER  pageviews  TWITTER_FAVORITE_COUNT  \\\n",
      "0                Aaron Brooks      4.083                     1.0   \n",
      "1                 Jeff Teague      6.856                    17.5   \n",
      "2              Kevin Seraphin      6.717                     4.5   \n",
      "3                Myles Turner      4.574                    53.0   \n",
      "4                 Paul George    769.595                   228.5   \n",
      "5            Rakeem Christmas     77.258                    13.0   \n",
      "6              Thaddeus Young    148.319                     0.0   \n",
      "7                Aaron Gordon    627.319                    42.5   \n",
      "8               Anthony Brown      4.596                     3.0   \n",
      "9               Elfrid Payton      1.951                    19.0   \n",
      "10              Evan Fournier    125.612                    21.0   \n",
      "11                 Jeff Green      7.284                    57.5   \n",
      "12                Jodie Meeks     86.753                    36.5   \n",
      "13              Mario Hezonja    168.320                   272.0   \n",
      "14             Nikola Vucevic      4.234                     5.5   \n",
      "15              Adreian Payne     75.343                     0.0   \n",
      "16             Andrew Wiggins    786.978                   182.0   \n",
      "17               Brandon Rush    242.794                    14.0   \n",
      "18               Cole Aldrich    119.275                    22.0   \n",
      "19         Karl-Anthony Towns    920.783                     0.0   \n",
      "20                  Kris Dunn    412.255                   165.0   \n",
      "21                Ricky Rubio    332.978                   262.5   \n",
      "22                 Tyus Jones    240.930                     0.0   \n",
      "23                Zach LaVine    848.226                   178.5   \n",
      "24                 Al Horford    569.636                   136.0   \n",
      "25               Amir Johnson    136.077                    31.5   \n",
      "26                Jae Crowder    217.840                    55.0   \n",
      "27                James Young      4.970                     0.0   \n",
      "28               Jaylen Brown    308.763                     0.0   \n",
      "29              Jonas Jerebko    130.587                     7.0   \n",
      "..                        ...        ...                     ...   \n",
      "207             Dirk Nowitzki   1303.433                  1564.0   \n",
      "208             Dwight Powell    113.626                     0.0   \n",
      "209                J.J. Barea      1.880                     0.0   \n",
      "210              Manny Harris     27.415                     2.0   \n",
      "211               Eric Gordon    206.977                    55.0   \n",
      "212              James Harden   1337.869                   969.0   \n",
      "213              Nene Hilario      2.871                    22.0   \n",
      "214                Sam Dekker    179.946                   139.0   \n",
      "215              Trevor Ariza    206.381                    10.0   \n",
      "216             Troy Williams     45.013                     5.0   \n",
      "217          Gerald Henderson     54.097                     1.0   \n",
      "218            Jerryd Bayless    102.134                     2.0   \n",
      "219               Joel Embiid    682.937                  6852.5   \n",
      "220           Justin Anderson      1.850                     5.0   \n",
      "221              Nerlens Noel    333.784                   105.0   \n",
      "222              Nik Stauskas    200.937                    28.0   \n",
      "223            Tiago Splitter    113.143                     8.0   \n",
      "224               Greg Monroe    115.932                     9.0   \n",
      "225             Jabari Parker    353.413                   267.0   \n",
      "226           Khris Middleton    121.220                    16.0   \n",
      "227       Matthew Dellavedova    639.403                   175.0   \n",
      "228           Michael Beasley    539.285                     8.0   \n",
      "229             Rashad Vaughn     52.528                     2.0   \n",
      "230                Thon Maker    653.591                     0.0   \n",
      "231            Henry Ellenson     89.107                     6.5   \n",
      "232  Kentavious Caldwell-Pope    104.187                     9.0   \n",
      "233             Marcus Morris      2.575                     6.0   \n",
      "234            Reggie Bullock     60.195                    20.0   \n",
      "235           Stanley Johnson      6.921                     0.0   \n",
      "236             Tobias Harris    207.311                     2.0   \n",
      "\n",
      "     TWITTER_RETWEET_COUNT POSITION                    TEAM      SALARY  \\\n",
      "0                      3.0       PG          Indiana Pacers   2700000.0   \n",
      "1                     13.5       PG          Indiana Pacers   8800000.0   \n",
      "2                      8.0        C          Indiana Pacers   1800000.0   \n",
      "3                     31.0        C          Indiana Pacers   2463840.0   \n",
      "4                    128.0       SF          Indiana Pacers  18314532.0   \n",
      "5                      3.0       PF          Indiana Pacers   1471382.0   \n",
      "6                      1.5       PF          Indiana Pacers  14153652.0   \n",
      "7                     16.0       PF           Orlando Magic   4351320.0   \n",
      "8                      3.0       SF           Orlando Magic     57672.0   \n",
      "9                      8.0       PG           Orlando Magic   2613600.0   \n",
      "10                    10.0       SG           Orlando Magic  17000000.0   \n",
      "11                    28.5       SF           Orlando Magic  15000000.0   \n",
      "12                    15.0       SG           Orlando Magic   6540000.0   \n",
      "13                   207.0       SG           Orlando Magic   3909840.0   \n",
      "14                    35.5        C           Orlando Magic  11750000.0   \n",
      "15                    13.0       PF  Minnesota Timberwolves   2022240.0   \n",
      "16                    54.5       SG  Minnesota Timberwolves   6006600.0   \n",
      "17                     1.5       SG  Minnesota Timberwolves   3500000.0   \n",
      "18                     9.0        C  Minnesota Timberwolves   7643979.0   \n",
      "19                   105.0        C  Minnesota Timberwolves   5960160.0   \n",
      "20                    47.0       PG  Minnesota Timberwolves   3872520.0   \n",
      "21                    76.0       PG  Minnesota Timberwolves  13550000.0   \n",
      "22                    14.0       PG  Minnesota Timberwolves   1471382.0   \n",
      "23                    67.0       PG  Minnesota Timberwolves   2240880.0   \n",
      "24                    71.0        C          Boston Celtics  26540100.0   \n",
      "25                     6.0       PF          Boston Celtics  12000000.0   \n",
      "26                    47.0       SF          Boston Celtics   6286408.0   \n",
      "27                    12.0       SG          Boston Celtics   1825200.0   \n",
      "28                   100.0        F          Boston Celtics   4743000.0   \n",
      "29                    17.0       PF          Boston Celtics   5000000.0   \n",
      "..                     ...      ...                     ...         ...   \n",
      "207                  500.5       PF        Dallas Mavericks  25000000.0   \n",
      "208                   10.0       PF        Dallas Mavericks   8375000.0   \n",
      "209                   17.5       PG        Dallas Mavericks   4096950.0   \n",
      "210                    3.0       PG        Dallas Mavericks    115344.0   \n",
      "211                   26.0       SG         Houston Rockets  12385364.0   \n",
      "212                  321.5       PG         Houston Rockets  26500000.0   \n",
      "213                   16.5        C         Houston Rockets   2898000.0   \n",
      "214                   13.0       SF         Houston Rockets   1720560.0   \n",
      "215                   15.0       SF         Houston Rockets   7806971.0   \n",
      "216                    9.0       SF         Houston Rockets   1575133.0   \n",
      "217                    8.0       SG      Philadelphia 76ers   9000000.0   \n",
      "218                    5.0       PG      Philadelphia 76ers   9424084.0   \n",
      "219                 2941.0        C      Philadelphia 76ers   4826160.0   \n",
      "220                   10.0       SG      Philadelphia 76ers   1514160.0   \n",
      "221                   64.0       PF      Philadelphia 76ers   4384490.0   \n",
      "222                   11.0       SG      Philadelphia 76ers   2993040.0   \n",
      "223                    9.0        C      Philadelphia 76ers   8550000.0   \n",
      "224                    7.0        C         Milwaukee Bucks  17145838.0   \n",
      "225                  125.0       PF         Milwaukee Bucks   5374320.0   \n",
      "226                    9.0       SG         Milwaukee Bucks  15200000.0   \n",
      "227                   30.0       PG         Milwaukee Bucks   9607500.0   \n",
      "228                    5.0       SF         Milwaukee Bucks   1403611.0   \n",
      "229                    7.0       SG         Milwaukee Bucks   1811040.0   \n",
      "230                   39.5       PF         Milwaukee Bucks   2568600.0   \n",
      "231                    5.0        F         Detroit Pistons   1704120.0   \n",
      "232                   10.0       SG         Detroit Pistons   3678319.0   \n",
      "233                   23.0       PF         Detroit Pistons   4625000.0   \n",
      "234                   13.0       SF         Detroit Pistons   2255644.0   \n",
      "235                   19.0       SF         Detroit Pistons   2969880.0   \n",
      "236                    4.0       SF         Detroit Pistons  17200000.0   \n",
      "\n",
      "       AVG    PCT  \n",
      "0    16697   91.9  \n",
      "1    16697   91.9  \n",
      "2    16697   91.9  \n",
      "3    16697   91.9  \n",
      "4    16697   91.9  \n",
      "5    16697   91.9  \n",
      "6    16697   91.9  \n",
      "7    17753   94.2  \n",
      "8    17753   94.2  \n",
      "9    17753   94.2  \n",
      "10   17753   94.2  \n",
      "11   17753   94.2  \n",
      "12   17753   94.2  \n",
      "13   17753   94.2  \n",
      "14   17753   94.2  \n",
      "15   14809   76.5  \n",
      "16   14809   76.5  \n",
      "17   14809   76.5  \n",
      "18   14809   76.5  \n",
      "19   14809   76.5  \n",
      "20   14809   76.5  \n",
      "21   14809   76.5  \n",
      "22   14809   76.5  \n",
      "23   14809   76.5  \n",
      "24   18553   99.6  \n",
      "25   18553   99.6  \n",
      "26   18553   99.6  \n",
      "27   18553   99.6  \n",
      "28   18553   99.6  \n",
      "29   18553   99.6  \n",
      "..     ...    ...  \n",
      "207  19789  103.1  \n",
      "208  19789  103.1  \n",
      "209  19789  103.1  \n",
      "210  19789  103.1  \n",
      "211  16973   94.1  \n",
      "212  16973   94.1  \n",
      "213  16973   94.1  \n",
      "214  16973   94.1  \n",
      "215  16973   94.1  \n",
      "216  16973   94.1  \n",
      "217  17330   85.3  \n",
      "218  17330   85.3  \n",
      "219  17330   85.3  \n",
      "220  17330   85.3  \n",
      "221  17330   85.3  \n",
      "222  17330   85.3  \n",
      "223  17330   85.3  \n",
      "224  15828   84.6  \n",
      "225  15828   84.6  \n",
      "226  15828   84.6  \n",
      "227  15828   84.6  \n",
      "228  15828   84.6  \n",
      "229  15828   84.6  \n",
      "230  15828   84.6  \n",
      "231  15979   72.4  \n",
      "232  15979   72.4  \n",
      "233  15979   72.4  \n",
      "234  15979   72.4  \n",
      "235  15979   72.4  \n",
      "236  15979   72.4  \n",
      "\n",
      "[237 rows x 9 columns]>\n"
     ]
    }
   ],
   "source": [
    "#verify the merged worked\n",
    "print(nba_buzz_df.head)"
   ]
  },
  {
   "cell_type": "code",
   "execution_count": 48,
   "metadata": {},
   "outputs": [
    {
     "data": {
      "text/plain": [
       "PLAYER                    0\n",
       "pageviews                 0\n",
       "TWITTER_FAVORITE_COUNT    3\n",
       "TWITTER_RETWEET_COUNT     3\n",
       "POSITION                  0\n",
       "TEAM                      0\n",
       "SALARY                    0\n",
       "AVG                       0\n",
       "PCT                       0\n",
       "dtype: int64"
      ]
     },
     "execution_count": 48,
     "metadata": {},
     "output_type": "execute_result"
    }
   ],
   "source": [
    "#check for null values\n",
    "nba_buzz_df.isnull().sum()"
   ]
  },
  {
   "cell_type": "code",
   "execution_count": 49,
   "metadata": {},
   "outputs": [],
   "source": [
    "# fill the missing values with 0.0\n",
    "nba_fullbuzz_df = nba_buzz_df.fillna(0.0)"
   ]
  },
  {
   "cell_type": "code",
   "execution_count": 50,
   "metadata": {},
   "outputs": [
    {
     "data": {
      "text/plain": [
       "PLAYER                    0\n",
       "pageviews                 0\n",
       "TWITTER_FAVORITE_COUNT    0\n",
       "TWITTER_RETWEET_COUNT     0\n",
       "POSITION                  0\n",
       "TEAM                      0\n",
       "SALARY                    0\n",
       "AVG                       0\n",
       "PCT                       0\n",
       "dtype: int64"
      ]
     },
     "execution_count": 50,
     "metadata": {},
     "output_type": "execute_result"
    }
   ],
   "source": [
    "# verify if there is any null values\n",
    "nba_fullbuzz_df.isnull().sum()"
   ]
  },
  {
   "cell_type": "code",
   "execution_count": 51,
   "metadata": {},
   "outputs": [],
   "source": [
    "#merge all the dataframes togehter\n",
    "nba_final_df = pd.merge(nba_finalstats_df, nba_fullbuzz_df, on=['PLAYER'])"
   ]
  },
  {
   "cell_type": "code",
   "execution_count": 145,
   "metadata": {},
   "outputs": [
    {
     "name": "stdout",
     "output_type": "stream",
     "text": [
      "                 PLAYER TEAM_SH   G  GS    MP   TRB   AST  STL  BLK  PS/G  \\\n",
      "0     Russell Westbrook     OKC  81  81  34.6  10.7  10.4  1.6  0.4  31.6   \n",
      "1          James Harden     HOU  81  81  36.4   8.1  11.2  1.5  0.5  29.1   \n",
      "2        Damian Lillard     POR  75  75  35.9   4.9   5.9  0.9  0.3  27.0   \n",
      "3          LeBron James     CLE  74  74  37.8   8.6   8.7  1.2  0.6  26.4   \n",
      "4          Kyrie Irving     CLE  72  72  35.1   3.2   5.8  1.2  0.3  25.2   \n",
      "5    Karl-Anthony Towns     MIN  82  82  37.0  12.3   2.7  0.7  1.3  25.1   \n",
      "6          Jimmy Butler     CHI  76  75  37.0   6.2   5.5  1.9  0.4  23.9   \n",
      "7           Paul George     IND  75  75  35.9   6.6   3.3  1.6  0.4  23.7   \n",
      "8        Andrew Wiggins     MIN  82  82  37.2   4.0   2.3  1.0  0.4  23.6   \n",
      "9           Mike Conley     MEM  69  68  33.2   3.5   6.3  1.3  0.3  20.5   \n",
      "10         Goran Dragic     MIA  73  73  33.7   3.8   5.8  1.2  0.2  20.3   \n",
      "11          Joel Embiid     PHI  31  31  25.4   7.8   2.1  0.9  2.5  20.2   \n",
      "12        Jabari Parker     MIL  51  50  33.9   6.2   2.8  1.0  0.4  20.1   \n",
      "13           Marc Gasol     MEM  74  74  34.2   6.3   4.6  0.9  1.3  19.5   \n",
      "14           Kevin Love     CLE  60  60  31.4  11.1   1.9  0.9  0.4  19.0   \n",
      "15          Zach LaVine     MIN  47  47  37.2   3.4   3.0  0.9  0.2  18.9   \n",
      "16          Dwyane Wade     CHI  60  59  29.9   4.5   3.8  1.4  0.7  18.3   \n",
      "17     Danilo Gallinari     DEN  63  63  33.9   5.2   2.1  0.6  0.2  18.2   \n",
      "18         Paul Millsap     ATL  69  67  34.0   7.7   3.7  1.3  0.9  18.1   \n",
      "19      Dennis Schroder     ATL  79  78  31.5   3.1   6.3  0.9  0.2  17.9   \n",
      "20        Evan Fournier     ORL  68  66  32.9   3.1   3.0  1.0  0.1  17.2   \n",
      "21         Nikola Jokic     DEN  73  59  27.9   9.8   4.9  0.8  0.8  16.7   \n",
      "22          Eric Gordon     HOU  75  15  31.0   2.7   2.5  0.6  0.5  16.2   \n",
      "23        Tobias Harris     DET  82  48  31.3   5.1   1.7  0.7  0.5  16.1   \n",
      "24       Victor Oladipo     OKC  67  67  33.2   4.3   2.6  1.2  0.3  15.9   \n",
      "25         Dion Waiters     MIA  46  43  30.1   3.3   4.3  0.9  0.4  15.8   \n",
      "26      Wilson Chandler     DEN  71  33  30.9   6.5   2.0  0.7  0.4  15.7   \n",
      "27     D'Angelo Russell     LAL  63  60  28.7   3.5   4.8  1.4  0.3  15.6   \n",
      "28          Jeff Teague     IND  82  82  32.4   4.0   7.8  1.2  0.4  15.3   \n",
      "29          Gary Harris     DEN  57  56  31.3   3.1   2.9  1.2  0.1  14.9   \n",
      "..                  ...     ...  ..  ..   ...   ...   ...  ...  ...   ...   \n",
      "116       Isaiah Canaan     CHI  39   0  15.2   1.3   0.9  0.6  0.0   4.6   \n",
      "117      Kris Humphries     ATL  56   4  12.3   3.7   0.5  0.3  0.4   4.6   \n",
      "118      Reggie Bullock     DET  31   5  15.1   2.1   0.9  0.6  0.1   4.5   \n",
      "119     Stanley Johnson     DET  77   1  17.8   2.5   1.4  0.7  0.3   4.4   \n",
      "120         Noah Vonleh     POR  74  41  17.1   5.2   0.4  0.4  0.4   4.4   \n",
      "121        Brandon Rush     MIN  47  33  21.9   2.1   1.0  0.5  0.5   4.2   \n",
      "122          Thon Maker     MIL  57  34   9.9   2.0   0.4  0.2  0.5   4.0   \n",
      "123       Jarell Martin     MEM  42   3  13.3   3.9   0.2  0.4  0.2   3.9   \n",
      "124       Malik Beasley     DEN  22   1   7.5   0.8   0.5  0.3  0.0   3.8   \n",
      "125           Kris Dunn     MIN  78   7  17.1   2.1   2.4  1.0  0.5   3.8   \n",
      "126       Jonas Jerebko     BOS  78   6  15.8   3.5   0.9  0.3  0.2   3.8   \n",
      "127          Tyus Jones     MIN  60   0  12.9   1.1   2.6  0.8  0.1   3.5   \n",
      "128       Adreian Payne     MIN  18   0   7.5   1.8   0.4  0.4  0.4   3.5   \n",
      "129       Rashad Vaughn     MIL  41   2  11.2   1.2   0.6  0.5  0.2   3.5   \n",
      "130        Tyler Zeller     BOS  51   5  10.3   2.4   0.8  0.1  0.4   3.5   \n",
      "131     Jared Sullinger     TOR  11   1  10.7   2.5   0.3  0.4  0.1   3.4   \n",
      "132      Henry Ellenson     DET  19   2   7.7   2.2   0.4  0.1  0.1   3.2   \n",
      "133       Fred VanVleet     TOR  37   0   7.9   1.1   0.9  0.4  0.1   2.9   \n",
      "134        Kyle Singler     OKC  32   2  12.0   1.5   0.3  0.2  0.2   2.8   \n",
      "135          Mike Scott     ATL  18   0  10.8   2.1   0.9  0.2  0.2   2.5   \n",
      "136         James Young     BOS  29   0   7.6   0.9   0.1  0.3  0.1   2.3   \n",
      "137    Rakeem Christmas     IND  29   0   7.6   1.9   0.1  0.1  0.2   2.0   \n",
      "138       Udonis Haslem     MIA  16   0   8.1   2.3   0.4  0.4  0.1   1.9   \n",
      "139     Lamar Patterson     ATL   5   0   8.0   1.4   1.2  0.2  0.0   1.8   \n",
      "140        Cole Aldrich     MIN  62   0   8.6   2.5   0.4  0.4  0.4   1.7   \n",
      "141       Nick Collison     OKC  20   0   6.4   1.6   0.6  0.1  0.1   1.7   \n",
      "142       Bruno Caboclo     TOR   9   0   4.4   1.1   0.4  0.2  0.1   1.6   \n",
      "143          Ryan Kelly     ATL  16   0   6.9   1.1   0.5  0.3  0.3   1.6   \n",
      "144       Jordan Mickey     BOS  25   1   5.6   1.4   0.3  0.1  0.2   1.5   \n",
      "145          Alonzo Gee     DEN  13   0   6.8   1.2   0.5  0.4  0.1   0.8   \n",
      "\n",
      "     ...   RPM   WINS  pageviews  TWITTER_FAVORITE_COUNT  \\\n",
      "0    ...  6.27  17.34   2367.837                  2130.5   \n",
      "1    ...  4.81  15.54   1337.869                   969.0   \n",
      "2    ...  3.14  10.72    926.756                   186.5   \n",
      "3    ...  8.42  20.43   8823.785                  5533.5   \n",
      "4    ...  2.05   8.28   3022.758                  1541.0   \n",
      "5    ...  2.13  10.00    920.783                     0.0   \n",
      "6    ...  6.62  17.35     21.700                    89.5   \n",
      "7    ...  2.58   9.72    769.595                   228.5   \n",
      "8    ... -1.60   2.94    786.978                   182.0   \n",
      "9    ...  4.47  10.50      5.111                   257.5   \n",
      "10   ...  0.92   6.30      8.239                    62.5   \n",
      "11   ...  1.70   2.46    682.937                  6852.5   \n",
      "12   ... -0.78   2.59    353.413                   267.0   \n",
      "13   ...  2.58   8.69    378.529                     0.0   \n",
      "14   ...  5.03   9.76   1418.113                   866.5   \n",
      "15   ... -2.97   0.17    848.226                   178.5   \n",
      "16   ... -0.91   2.52   2694.345                   349.5   \n",
      "17   ...  2.88   8.39    155.862                    29.0   \n",
      "18   ...  4.58  11.51    221.887                    60.0   \n",
      "19   ... -2.45   1.07      1.233                    51.5   \n",
      "20   ... -1.10   2.89    125.612                    21.0   \n",
      "21   ...  6.73  13.18      3.950                     0.0   \n",
      "22   ...  1.03   6.36    206.977                    55.0   \n",
      "23   ...  0.94   6.55    207.311                     2.0   \n",
      "24   ...  1.66   6.88    468.359                    78.0   \n",
      "25   ...  0.05   2.80    353.063                     0.0   \n",
      "26   ... -1.24   2.69     77.575                    31.5   \n",
      "27   ... -1.70   1.69    769.891                     0.0   \n",
      "28   ...  1.64   8.08      6.856                    17.5   \n",
      "29   ...  0.51   4.29     80.128                     6.0   \n",
      "..   ...   ...    ...        ...                     ...   \n",
      "116  ... -4.12  -0.37     97.905                    24.5   \n",
      "117  ... -1.89   0.54   1235.839                    67.0   \n",
      "118  ... -0.41   0.79     60.195                    20.0   \n",
      "119  ... -2.38   0.63      6.921                     0.0   \n",
      "120  ... -2.99   0.11     93.414                    23.5   \n",
      "121  ... -3.86  -0.48    242.794                    14.0   \n",
      "122  ... -1.06   0.70    653.591                     0.0   \n",
      "123  ... -3.06   0.02     33.578                     2.0   \n",
      "124  ... -1.53   0.18     61.280                     0.0   \n",
      "125  ... -3.05   0.06    412.255                   165.0   \n",
      "126  ... -1.03   1.63    130.587                     7.0   \n",
      "127  ... -0.23   1.40    240.930                     0.0   \n",
      "128  ... -0.33   0.24     75.343                     0.0   \n",
      "129  ... -4.33  -0.35     52.528                     2.0   \n",
      "130  ... -2.30   0.28    148.930                    15.0   \n",
      "131  ... -1.80   0.10    198.922                    11.0   \n",
      "132  ... -1.94   0.10     89.107                     6.5   \n",
      "133  ... -1.61   0.28     99.549                     0.0   \n",
      "134  ... -2.35   0.19    196.406                     9.0   \n",
      "135  ... -2.66   0.06      2.705                     2.0   \n",
      "136  ... -2.16   0.14      4.970                     0.0   \n",
      "137  ... -1.70   0.20     77.258                    13.0   \n",
      "138  ... -2.06   0.09    210.091                    28.5   \n",
      "139  ... -1.61   0.03     36.143                     4.0   \n",
      "140  ...  0.01   1.04    119.275                    22.0   \n",
      "141  ... -1.06   0.17    144.787                    10.0   \n",
      "142  ... -1.65   0.04    111.359                    11.0   \n",
      "143  ... -0.49   0.08     10.160                    17.0   \n",
      "144  ... -2.77   0.03     56.781                     0.0   \n",
      "145  ... -1.68   0.08     47.575                     0.0   \n",
      "\n",
      "     TWITTER_RETWEET_COUNT  POSITION                    TEAM      SALARY  \\\n",
      "0                    559.0        PG   Oklahoma City Thunder  26500000.0   \n",
      "1                    321.5        PG         Houston Rockets  26500000.0   \n",
      "2                     43.0        PG  Portland Trail Blazers  24328425.0   \n",
      "3                   1501.5        SF     Cleveland Cavaliers  30963450.0   \n",
      "4                    695.0        PG     Cleveland Cavaliers  17638063.0   \n",
      "5                    105.0         C  Minnesota Timberwolves   5960160.0   \n",
      "6                     30.0        SG           Chicago Bulls  17552209.0   \n",
      "7                    128.0        SF          Indiana Pacers  18314532.0   \n",
      "8                     54.5        SG  Minnesota Timberwolves   6006600.0   \n",
      "9                     90.0        PG       Memphis Grizzlies  26540100.0   \n",
      "10                    45.0        PG              Miami Heat  15891725.0   \n",
      "11                  2941.0         C      Philadelphia 76ers   4826160.0   \n",
      "12                   125.0        PF         Milwaukee Bucks   5374320.0   \n",
      "13                    75.5         C       Memphis Grizzlies  21165675.0   \n",
      "14                   194.5        PF     Cleveland Cavaliers  21165675.0   \n",
      "15                    67.0        PG  Minnesota Timberwolves   2240880.0   \n",
      "16                   149.5        SG           Chicago Bulls  23200000.0   \n",
      "17                     6.0        SF          Denver Nuggets  15050000.0   \n",
      "18                    32.0        PF           Atlanta Hawks  20072033.0   \n",
      "19                    20.0        PG           Atlanta Hawks   2708582.0   \n",
      "20                    10.0        SG           Orlando Magic  17000000.0   \n",
      "21                     1.0         C          Denver Nuggets   1358500.0   \n",
      "22                    26.0        SG         Houston Rockets  12385364.0   \n",
      "23                     4.0        SF         Detroit Pistons  17200000.0   \n",
      "24                    28.0        SG   Oklahoma City Thunder   6552961.0   \n",
      "25                     7.0        SG              Miami Heat   2898000.0   \n",
      "26                    18.5        SF          Denver Nuggets  11233146.0   \n",
      "27                   232.0        PG      Los Angeles Lakers   5332800.0   \n",
      "28                    13.5        PG          Indiana Pacers   8800000.0   \n",
      "29                     2.5        SG          Denver Nuggets   1655880.0   \n",
      "..                     ...       ...                     ...         ...   \n",
      "116                    8.0        PG           Chicago Bulls   1015696.0   \n",
      "117                    9.0        PF           Atlanta Hawks   4000000.0   \n",
      "118                   13.0        SF         Detroit Pistons   2255644.0   \n",
      "119                   19.0        SF         Detroit Pistons   2969880.0   \n",
      "120                   12.0        PF  Portland Trail Blazers   2751360.0   \n",
      "121                    1.5        SG  Minnesota Timberwolves   3500000.0   \n",
      "122                   39.5        PF         Milwaukee Bucks   2568600.0   \n",
      "123                    4.0        PF       Memphis Grizzlies   1471382.0   \n",
      "124                   14.0        SG          Denver Nuggets   1627320.0   \n",
      "125                   47.0        PG  Minnesota Timberwolves   3872520.0   \n",
      "126                   17.0        PF          Boston Celtics   5000000.0   \n",
      "127                   14.0        PG  Minnesota Timberwolves   1471382.0   \n",
      "128                   13.0        PF  Minnesota Timberwolves   2022240.0   \n",
      "129                    7.0        SG         Milwaukee Bucks   1811040.0   \n",
      "130                   14.0         C          Boston Celtics   8000000.0   \n",
      "131                    2.0         C         Toronto Raptors   5628000.0   \n",
      "132                    5.0         F         Detroit Pistons   1704120.0   \n",
      "133                   17.5        PG         Toronto Raptors   1312611.0   \n",
      "134                    6.0        SF   Oklahoma City Thunder   4837500.0   \n",
      "135                    1.0        PF           Atlanta Hawks   3333334.0   \n",
      "136                   12.0        SG          Boston Celtics   1825200.0   \n",
      "137                    3.0        PF          Indiana Pacers   1471382.0   \n",
      "138                   18.0        PF              Miami Heat   4000000.0   \n",
      "139                    4.0        SG           Atlanta Hawks    246956.0   \n",
      "140                    9.0         C  Minnesota Timberwolves   7643979.0   \n",
      "141                   12.0        PF   Oklahoma City Thunder   3750000.0   \n",
      "142                    8.0        SF         Toronto Raptors   1589640.0   \n",
      "143                   10.0        PF           Atlanta Hawks   1577230.0   \n",
      "144                    3.0        PF          Boston Celtics   1471382.0   \n",
      "145                    0.0        SF          Denver Nuggets     57672.0   \n",
      "\n",
      "       AVG    PCT  \n",
      "0    18203  100.0  \n",
      "1    16973   94.1  \n",
      "2    19317   99.4  \n",
      "3    20562  100.0  \n",
      "4    20562  100.0  \n",
      "5    14809   76.5  \n",
      "6    21680  103.6  \n",
      "7    16697   91.9  \n",
      "8    14809   76.5  \n",
      "9    16519   91.2  \n",
      "10   19643  100.2  \n",
      "11   17330   85.3  \n",
      "12   15828   84.6  \n",
      "13   16519   91.2  \n",
      "14   20562  100.0  \n",
      "15   14809   76.5  \n",
      "16   21680  103.6  \n",
      "17   14770   77.1  \n",
      "18   15958   85.2  \n",
      "19   15958   85.2  \n",
      "20   17753   94.2  \n",
      "21   14770   77.1  \n",
      "22   16973   94.1  \n",
      "23   15979   72.4  \n",
      "24   18203  100.0  \n",
      "25   19643  100.2  \n",
      "26   14770   77.1  \n",
      "27   18949   99.4  \n",
      "28   16697   91.9  \n",
      "29   14770   77.1  \n",
      "..     ...    ...  \n",
      "116  21680  103.6  \n",
      "117  15958   85.2  \n",
      "118  15979   72.4  \n",
      "119  15979   72.4  \n",
      "120  19317   99.4  \n",
      "121  14809   76.5  \n",
      "122  15828   84.6  \n",
      "123  16519   91.2  \n",
      "124  14770   77.1  \n",
      "125  14809   76.5  \n",
      "126  18553   99.6  \n",
      "127  14809   76.5  \n",
      "128  14809   76.5  \n",
      "129  15828   84.6  \n",
      "130  18553   99.6  \n",
      "131  19830  100.2  \n",
      "132  15979   72.4  \n",
      "133  19830  100.2  \n",
      "134  18203  100.0  \n",
      "135  15958   85.2  \n",
      "136  18553   99.6  \n",
      "137  16697   91.9  \n",
      "138  19643  100.2  \n",
      "139  15958   85.2  \n",
      "140  14809   76.5  \n",
      "141  18203  100.0  \n",
      "142  19830  100.2  \n",
      "143  15958   85.2  \n",
      "144  18553   99.6  \n",
      "145  14770   77.1  \n",
      "\n",
      "[146 rows x 27 columns]\n"
     ]
    }
   ],
   "source": [
    "#verifty it worked\n",
    "print(nba_final_df)"
   ]
  },
  {
   "cell_type": "code",
   "execution_count": 146,
   "metadata": {},
   "outputs": [],
   "source": [
    "#remane columns\n",
    "nba_final_df.columns = nba_final_df.columns.str.replace('pageviews ','WIKI_PAGE_VIEWS')"
   ]
  },
  {
   "cell_type": "code",
   "execution_count": 147,
   "metadata": {},
   "outputs": [],
   "source": [
    "nba_final_df.columns = nba_final_df.columns.str.replace('TEAM_x','TEAM_SH')"
   ]
  },
  {
   "cell_type": "code",
   "execution_count": 148,
   "metadata": {},
   "outputs": [],
   "source": [
    "nba_final_df.columns = nba_final_df.columns.str.replace('TEAM_y','TEAM')"
   ]
  },
  {
   "cell_type": "code",
   "execution_count": 149,
   "metadata": {},
   "outputs": [
    {
     "name": "stdout",
     "output_type": "stream",
     "text": [
      "Index(['PLAYER', 'TEAM_SH', 'G', 'GS', 'MP', 'TRB', 'AST', 'STL', 'BLK',\n",
      "       'PS/G', 'GP', 'W', 'L', 'NETRTG', 'TS%', 'PIE', 'MPG', 'RPM', 'WINS',\n",
      "       'pageviews', 'TWITTER_FAVORITE_COUNT', 'TWITTER_RETWEET_COUNT',\n",
      "       'POSITION', 'TEAM', 'SALARY', 'AVG', 'PCT'],\n",
      "      dtype='object')\n"
     ]
    }
   ],
   "source": [
    "#veirfy the renaming worked\n",
    "print(nba_final_df.columns)"
   ]
  },
  {
   "cell_type": "code",
   "execution_count": 150,
   "metadata": {},
   "outputs": [],
   "source": [
    "nba_final_df.to_csv('nba_final.csv', encoding='utf-8', index=False)"
   ]
  },
  {
   "cell_type": "code",
   "execution_count": null,
   "metadata": {},
   "outputs": [],
   "source": []
  }
 ],
 "metadata": {
  "kernelspec": {
   "display_name": "Python 3",
   "language": "python",
   "name": "python3"
  },
  "language_info": {
   "codemirror_mode": {
    "name": "ipython",
    "version": 3
   },
   "file_extension": ".py",
   "mimetype": "text/x-python",
   "name": "python",
   "nbconvert_exporter": "python",
   "pygments_lexer": "ipython3",
   "version": "3.7.3"
  }
 },
 "nbformat": 4,
 "nbformat_minor": 2
}
