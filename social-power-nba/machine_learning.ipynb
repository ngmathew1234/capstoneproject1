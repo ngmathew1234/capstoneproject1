{
 "cells": [
  {
   "cell_type": "code",
   "execution_count": 209,
   "metadata": {},
   "outputs": [],
   "source": [
    "import pandas as pd\n",
    "import numpy as np\n",
    "import matplotlib.pyplot as plt\n",
    "import seaborn as sns\n",
    "from sklearn.ensemble import RandomForestRegressor\n",
    "from sklearn.model_selection import train_test_split\n",
    "from sklearn.linear_model import LinearRegression\n",
    "from sklearn import svm\n",
    "from sklearn.model_selection import cross_val_score\n",
    "from sklearn import tree\n",
    "from sklearn import preprocessing\n",
    "from sklearn import utils\n",
    "from sklearn.metrics import mean_squared_error\n",
    "from sklearn.neighbors import KNeighborsRegressor\n",
    "from sklearn import ensemble\n",
    "from sklearn.metrics import classification_report"
   ]
  },
  {
   "cell_type": "code",
   "execution_count": 210,
   "metadata": {},
   "outputs": [],
   "source": [
    "nba_final_df = pd.read_csv('nba_final2.csv')"
   ]
  },
  {
   "cell_type": "code",
   "execution_count": 211,
   "metadata": {},
   "outputs": [
    {
     "name": "stdout",
     "output_type": "stream",
     "text": [
      "Index(['PLAYER', 'TEAM_SH', 'G', 'GS', 'MP', 'TRB', 'AST', 'STL', 'BLK',\n",
      "       'PS/G', 'GP', 'W', 'L', 'NETRTG', 'TS%', 'PIE', 'MPG', 'RPM', 'WINS',\n",
      "       'pageviews', 'TWITTER_FAVORITE_COUNT', 'TWITTER_RETWEET_COUNT', 'TEAM',\n",
      "       'SALARY', 'AVG', 'PCT'],\n",
      "      dtype='object')\n"
     ]
    }
   ],
   "source": [
    "print(nba_final_df.columns)"
   ]
  },
  {
   "cell_type": "code",
   "execution_count": 212,
   "metadata": {},
   "outputs": [],
   "source": [
    "nba_final_df2 = nba_final_df"
   ]
  },
  {
   "cell_type": "code",
   "execution_count": 213,
   "metadata": {},
   "outputs": [],
   "source": [
    "nba_final_df2['FULL_SOCIAL_MEDIA'] = nba_final_df2['TWITTER_FAVORITE_COUNT'] + nba_final_df2['TWITTER_RETWEET_COUNT'] + nba_final_df2['pageviews'] "
   ]
  },
  {
   "cell_type": "code",
   "execution_count": 214,
   "metadata": {},
   "outputs": [],
   "source": [
    "# Labels are the values we want to predict\n",
    "labels = np.array(nba_final_df2['FULL_SOCIAL_MEDIA'])\n",
    "# Remove the labels from the features\n",
    "# axis 1 refers to the columns\n",
    "features = nba_final_df2.drop('FULL_SOCIAL_MEDIA', axis = 1)\n",
    "features = features.drop('TWITTER_FAVORITE_COUNT', axis = 1)\n",
    "features = features.drop('TWITTER_RETWEET_COUNT', axis = 1)\n",
    "features = features.drop('pageviews', axis = 1)\n",
    "features = features.drop('PLAYER', axis = 1)\n",
    "features = features.drop('TEAM_SH', axis = 1) \n",
    "features = features.drop('TEAM', axis = 1)\n",
    "features = features.drop('SALARY', axis = 1)\n",
    "# Saving feature names for later use\n",
    "feature_list = list(features.columns)\n",
    "# Convert to numpy array\n",
    "features = np.array(features)"
   ]
  },
  {
   "cell_type": "code",
   "execution_count": 215,
   "metadata": {},
   "outputs": [
    {
     "name": "stdout",
     "output_type": "stream",
     "text": [
      "['G', 'GS', 'MP', 'TRB', 'AST', 'STL', 'BLK', 'PS/G', 'GP', 'W', 'L', 'NETRTG', 'TS%', 'PIE', 'MPG', 'RPM', 'WINS', 'AVG', 'PCT']\n"
     ]
    }
   ],
   "source": [
    "print(feature_list)"
   ]
  },
  {
   "cell_type": "code",
   "execution_count": 216,
   "metadata": {},
   "outputs": [],
   "source": [
    "train_features, test_features, train_labels, test_labels = train_test_split(features, labels, test_size = 0.25, random_state = 42)"
   ]
  },
  {
   "cell_type": "code",
   "execution_count": 217,
   "metadata": {},
   "outputs": [],
   "source": [
    "_,testplayers,_,_ = train_test_split(nba_final_df2.PLAYER.values, nba_final_df2.PLAYER.values, test_size = 0.25, random_state = 42)\n",
    "trainplayers,_,_,_ = train_test_split(nba_final_df2.PLAYER.values, nba_final_df2.PLAYER.values, test_size = 0.25, random_state = 42)"
   ]
  },
  {
   "cell_type": "code",
   "execution_count": 218,
   "metadata": {},
   "outputs": [
    {
     "name": "stdout",
     "output_type": "stream",
     "text": [
      "Training Features Shape: (339, 19)\n",
      "Training Labels Shape: (339,)\n",
      "Testing Features Shape: (113, 19)\n",
      "Testing Labels Shape: (113,)\n"
     ]
    }
   ],
   "source": [
    "print('Training Features Shape:', train_features.shape)\n",
    "print('Training Labels Shape:', train_labels.shape)\n",
    "print('Testing Features Shape:', test_features.shape)\n",
    "print('Testing Labels Shape:', test_labels.shape)"
   ]
  },
  {
   "cell_type": "code",
   "execution_count": 219,
   "metadata": {},
   "outputs": [],
   "source": [
    "rf = RandomForestRegressor(random_state = 42)"
   ]
  },
  {
   "cell_type": "code",
   "execution_count": 220,
   "metadata": {},
   "outputs": [
    {
     "name": "stderr",
     "output_type": "stream",
     "text": [
      "C:\\Users\\ngmat\\Anaconda3\\lib\\site-packages\\sklearn\\ensemble\\forest.py:246: FutureWarning: The default value of n_estimators will change from 10 in version 0.20 to 100 in 0.22.\n",
      "  \"10 in version 0.20 to 100 in 0.22.\", FutureWarning)\n"
     ]
    }
   ],
   "source": [
    "rf.fit(train_features, train_labels);"
   ]
  },
  {
   "cell_type": "code",
   "execution_count": 221,
   "metadata": {},
   "outputs": [],
   "source": [
    "predictions = rf.predict(test_features)"
   ]
  },
  {
   "cell_type": "code",
   "execution_count": 222,
   "metadata": {},
   "outputs": [
    {
     "name": "stdout",
     "output_type": "stream",
     "text": [
      "1103.0457828889182\n",
      "500.23964753786856\n"
     ]
    }
   ],
   "source": [
    "print(mean_squared_error(test_labels, predictions)**0.5)\n",
    "print(np.mean(test_labels))"
   ]
  },
  {
   "cell_type": "code",
   "execution_count": 223,
   "metadata": {},
   "outputs": [
    {
     "name": "stdout",
     "output_type": "stream",
     "text": [
      "[ 5.81556571e+01 -2.09867229e+02  3.48016423e+01  1.28612014e+02\n",
      "  1.01234214e+02 -5.20772859e+01 -4.69172859e+01  2.22063044e+02\n",
      "  1.58604815e+02  1.93137957e+02  8.17408006e+01  1.17247367e+03\n",
      "  8.63223577e+01 -1.04412615e+02  1.94774187e+02 -1.60352758e+02\n",
      " -1.26060786e+02 -7.14243000e+01 -1.75949486e+02 -1.67596423e+01\n",
      "  2.20370844e+02 -1.89196472e+02 -1.50666043e+02  1.27059571e+01\n",
      " -1.65273900e+02  5.54861282e+01  1.04836015e+02  1.99016801e+02\n",
      " -7.30208282e+01  3.23487117e+00  7.88538528e+00  6.26878141e+01\n",
      "  8.30671141e+01 -1.52418086e+02 -6.74394294e+00  3.99104396e+03\n",
      "  3.93530216e+03  1.52191015e+02  2.17612000e+01  9.08645814e+02\n",
      "  1.74593458e+02 -1.46125615e+02 -9.28768429e+01  1.69417358e+02\n",
      " -1.47677786e+02  9.62445436e+01  9.23313057e+02  1.24024015e+02\n",
      "  8.38473436e+01  1.35851500e+02  7.45480712e+01 -2.58166486e+02\n",
      " -1.63125214e+03  8.66703147e+01 -1.07302515e+02 -1.47953586e+02\n",
      " -1.97699086e+02 -4.20993718e+01 -2.26996101e+02 -5.63207134e+03\n",
      " -1.48638658e+02  1.20991316e+03  3.88284571e+01  1.01927015e+02\n",
      " -4.23878135e+01 -1.04152772e+02  1.99078942e+02 -3.03835515e+02\n",
      "  6.14825571e+02 -4.96910429e+01 -6.00647859e+01 -2.40794558e+02\n",
      "  3.60062822e+00 -7.68366577e+01 -4.43509929e+02 -8.02297371e+02\n",
      " -1.85763329e+02  2.19414544e+02 -1.13515500e+02  8.51755706e+00\n",
      " -1.58613015e+02  1.54146944e+02 -8.71798429e+01 -4.83797288e+01\n",
      " -3.62213629e+02  1.22956000e+01 -2.11291986e+02  8.91176718e+01\n",
      "  1.49841801e+02  1.94359000e+01  4.83617288e+01 -1.39888086e+02\n",
      " -3.47678613e+02  2.00166914e+02  9.53340061e+00  1.56460644e+02\n",
      "  4.20691436e+01 -1.09878528e+00 -8.11409423e+01  3.60112426e+03\n",
      "  2.25254429e+02 -2.41134472e+02  1.96777144e+02  3.36708571e+01\n",
      " -6.88604860e+03 -1.25994819e+03  5.46809285e+02  2.64027914e+02\n",
      " -1.36506143e+02 -2.93219929e+02  8.98893028e+02  8.63553328e+02\n",
      " -1.76811486e+02]\n"
     ]
    }
   ],
   "source": [
    "print(test_labels - predictions)"
   ]
  },
  {
   "cell_type": "code",
   "execution_count": 224,
   "metadata": {},
   "outputs": [],
   "source": [
    "pred_diff = predictions - test_labels"
   ]
  },
  {
   "cell_type": "code",
   "execution_count": 225,
   "metadata": {},
   "outputs": [
    {
     "name": "stdout",
     "output_type": "stream",
     "text": [
      "35\n",
      "104\n",
      "Kyrie Irving\n",
      "Chris Paul\n"
     ]
    }
   ],
   "source": [
    "mostor = np.argmin(pred_diff)\n",
    "mostud = np.argmax(pred_diff)\n",
    "print(mostor)\n",
    "print(mostud)\n",
    "print(testplayers[mostor])\n",
    "print(testplayers[mostud])"
   ]
  },
  {
   "cell_type": "code",
   "execution_count": 226,
   "metadata": {},
   "outputs": [
    {
     "name": "stdout",
     "output_type": "stream",
     "text": [
      "{'G': 0.0008934268429600017, 'GS': 0.0013539048880033028, 'MP': 0.007341062769483761, 'TRB': 0.024888233825043148, 'AST': 0.004366280946311799, 'STL': 0.01326423818233415, 'BLK': 0.09548401152263832, 'PS/G': 0.0522270653060025, 'GP': 0.0017752944336265834, 'W': 0.01466694440736752, 'L': 0.023383111473357785, 'NETRTG': 0.008555741814274126, 'TS%': 0.011087437810866352, 'PIE': 0.005046796113216872, 'MPG': 0.08191766534594093, 'RPM': 0.3189186139869267, 'WINS': 0.288217864683936, 'AVG': 0.012766724081530057, 'PCT': 0.03384558156618012}\n"
     ]
    }
   ],
   "source": [
    "dictionary = dict(zip(feature_list, rf.feature_importances_))\n",
    "print(dictionary)"
   ]
  },
  {
   "cell_type": "code",
   "execution_count": 227,
   "metadata": {},
   "outputs": [
    {
     "name": "stderr",
     "output_type": "stream",
     "text": [
      "No handles with labels found to put in legend.\n"
     ]
    },
    {
     "data": {
      "image/png": "[encoded data removed]",
      "text/plain": [
       "<Figure size 432x288 with 1 Axes>"
      ]
     },
     "metadata": {
      "needs_background": "light"
     },
     "output_type": "display_data"
    }
   ],
   "source": [
    "sns.barplot(x=feature_list, y=rf.feature_importances_)\n",
    "plt.xlabel('Feature Importance Score')\n",
    "plt.ylabel('Features')\n",
    "plt.title(\"Visualizing Important Features\")\n",
    "plt.xticks(rotation = 90)\n",
    "plt.legend()\n",
    "plt.show()"
   ]
  },
  {
   "cell_type": "code",
   "execution_count": 228,
   "metadata": {},
   "outputs": [
    {
     "data": {
      "text/plain": [
       "0.7515440592303381"
      ]
     },
     "execution_count": 228,
     "metadata": {},
     "output_type": "execute_result"
    }
   ],
   "source": [
    "rf.score(features, labels)"
   ]
  },
  {
   "cell_type": "code",
   "execution_count": 229,
   "metadata": {},
   "outputs": [
    {
     "data": {
      "text/plain": [
       "-0.531725018123451"
      ]
     },
     "execution_count": 229,
     "metadata": {},
     "output_type": "execute_result"
    }
   ],
   "source": [
    "rf.score(test_features, test_labels)"
   ]
  },
  {
   "cell_type": "code",
   "execution_count": 230,
   "metadata": {},
   "outputs": [
    {
     "data": {
      "text/plain": [
       "LinearRegression(copy_X=True, fit_intercept=True, n_jobs=None,\n",
       "         normalize=False)"
      ]
     },
     "execution_count": 230,
     "metadata": {},
     "output_type": "execute_result"
    }
   ],
   "source": [
    "lm = LinearRegression()\n",
    "lm.fit(train_features,train_labels)"
   ]
  },
  {
   "cell_type": "code",
   "execution_count": 231,
   "metadata": {},
   "outputs": [],
   "source": [
    "predreg = lm.predict(test_features)"
   ]
  },
  {
   "cell_type": "code",
   "execution_count": 232,
   "metadata": {},
   "outputs": [
    {
     "data": {
      "text/plain": [
       "<matplotlib.collections.PathCollection at 0x251132c11d0>"
      ]
     },
     "execution_count": 232,
     "metadata": {},
     "output_type": "execute_result"
    },
    {
     "data": {
      "image/png": "[encoded data removed]",
      "text/plain": [
       "<Figure size 432x288 with 1 Axes>"
      ]
     },
     "metadata": {
      "needs_background": "light"
     },
     "output_type": "display_data"
    }
   ],
   "source": [
    "plt.scatter(test_labels,predreg)"
   ]
  },
  {
   "cell_type": "code",
   "execution_count": 233,
   "metadata": {},
   "outputs": [
    {
     "data": {
      "text/plain": [
       "0.2689741931224148"
      ]
     },
     "execution_count": 233,
     "metadata": {},
     "output_type": "execute_result"
    }
   ],
   "source": [
    "lm.score(features, labels)"
   ]
  },
  {
   "cell_type": "code",
   "execution_count": 234,
   "metadata": {},
   "outputs": [
    {
     "data": {
      "text/plain": [
       "0.2607684613570822"
      ]
     },
     "execution_count": 234,
     "metadata": {},
     "output_type": "execute_result"
    }
   ],
   "source": [
    "lm.score(test_features, test_labels)"
   ]
  },
  {
   "cell_type": "code",
   "execution_count": 235,
   "metadata": {},
   "outputs": [
    {
     "name": "stdout",
     "output_type": "stream",
     "text": [
      "766.2903903783679\n",
      "500.23964753786856\n"
     ]
    }
   ],
   "source": [
    "print(mean_squared_error(test_labels, predreg)**0.5)\n",
    "print(np.mean(test_labels))"
   ]
  },
  {
   "cell_type": "code",
   "execution_count": 236,
   "metadata": {},
   "outputs": [
    {
     "name": "stdout",
     "output_type": "stream",
     "text": [
      "35\n",
      "92\n",
      "Kyrie Irving\n",
      "Isaiah Thomas\n"
     ]
    }
   ],
   "source": [
    "predreg_diff = predreg - test_labels\n",
    "mostor = np.argmin(predreg_diff)\n",
    "mostud = np.argmax(predreg_diff)\n",
    "print(mostor)\n",
    "print(mostud)\n",
    "print(testplayers[mostor])\n",
    "print(testplayers[mostud])"
   ]
  },
  {
   "cell_type": "code",
   "execution_count": 237,
   "metadata": {},
   "outputs": [
    {
     "name": "stdout",
     "output_type": "stream",
     "text": [
      "[-3.79412444e+00 -2.23851463e+00 -1.52767810e+04  4.55256318e+01\n",
      "  1.87406027e+02  2.10340583e+02  3.32743760e+02  1.71514998e+02\n",
      " -3.79412442e+00  4.91422967e+00 -8.70835410e+00  1.21169675e+01\n",
      "  2.65589586e+01 -1.12921489e+02  1.51630616e+04 -2.48877332e+02\n",
      "  2.93562812e+02  2.28929555e-01 -2.25791839e+01]\n"
     ]
    }
   ],
   "source": [
    "print(lm.coef_)"
   ]
  },
  {
   "cell_type": "code",
   "execution_count": 238,
   "metadata": {},
   "outputs": [],
   "source": [
    "scores = cross_val_score(rf, features, labels, cv=5)"
   ]
  },
  {
   "cell_type": "code",
   "execution_count": 239,
   "metadata": {},
   "outputs": [],
   "source": [
    "scores2 = cross_val_score(lm, features, labels, cv=5)"
   ]
  },
  {
   "cell_type": "code",
   "execution_count": 240,
   "metadata": {},
   "outputs": [
    {
     "name": "stdout",
     "output_type": "stream",
     "text": [
      "[ 0.4731508   0.29768027 -0.64375698  0.2642301  -1.25321532]\n",
      "[ 0.32194184  0.19003645 -1.14092659 -0.11097556 -1.97335029]\n"
     ]
    }
   ],
   "source": [
    "print(scores)\n",
    "print(scores2)"
   ]
  },
  {
   "cell_type": "code",
   "execution_count": 241,
   "metadata": {},
   "outputs": [
    {
     "name": "stdout",
     "output_type": "stream",
     "text": [
      "635.1951681687782\n",
      "7\n",
      "99\n",
      "Mike Miller\n",
      "Kevin Durant\n",
      "['Clint Capela' 'Klay Thompson' 'Stephen Curry' 'Draymond Green'\n",
      " 'Zaza Pachulia']\n"
     ]
    }
   ],
   "source": [
    "neigh = KNeighborsRegressor()\n",
    "neigh.fit(train_features, train_labels) \n",
    "neigh.predict(test_features)\n",
    "print(mean_squared_error(test_labels, neigh.predict(test_features))**0.5)\n",
    "mostor = np.argmin(neigh.predict(test_features))\n",
    "mostud = np.argmax(neigh.predict(test_features))\n",
    "print(mostor)\n",
    "print(mostud)\n",
    "print(testplayers[mostor])\n",
    "print(testplayers[mostud])\n",
    "neigh.kneighbors(np.atleast_2d(test_features[99]), 5)\n",
    "fivenear = neigh.kneighbors(np.atleast_2d(test_features[99]), 5)[1]\n",
    "for i in fivenear:\n",
    "    print(trainplayers[i])\n",
    "\n"
   ]
  },
  {
   "cell_type": "code",
   "execution_count": 242,
   "metadata": {},
   "outputs": [],
   "source": [
    "nba_final_df3 = nba_final_df2"
   ]
  },
  {
   "cell_type": "code",
   "execution_count": 243,
   "metadata": {},
   "outputs": [],
   "source": [
    "# Labels are the values we want to predict\n",
    "labels1 = np.array(nba_final_df3['FULL_SOCIAL_MEDIA'])\n",
    "# Remove the labels from the features\n",
    "# axis 1 refers to the columns\n",
    "features1 = nba_final_df3.drop('FULL_SOCIAL_MEDIA', axis = 1)\n",
    "features1 = features1.drop('TWITTER_FAVORITE_COUNT', axis = 1)\n",
    "features1 = features1.drop('TWITTER_RETWEET_COUNT', axis = 1)\n",
    "features1 = features1.drop('pageviews', axis = 1)\n",
    "features1 = features1.drop('PLAYER', axis = 1)\n",
    "features1 = features1.drop('TEAM_SH', axis = 1) \n",
    "features1 = features1.drop('TEAM', axis = 1)\n",
    "features1 = features1.drop('SALARY', axis = 1)\n",
    "features1 = features1.drop('W', axis = 1)\n",
    "features1 = features1.drop('L', axis = 1)\n",
    "features1 = features1.drop('AVG', axis = 1)\n",
    "features1 = features1.drop('PCT', axis = 1)\n",
    "# Saving feature names for later use\n",
    "feature1_list = list(features1.columns)\n",
    "# Convert to numpy array\n",
    "features1 = np.array(features1)"
   ]
  },
  {
   "cell_type": "code",
   "execution_count": 244,
   "metadata": {},
   "outputs": [],
   "source": [
    "train_features1, test_features1, train_labels1, test_labels1 = train_test_split(features1, labels1, test_size = 0.25, random_state = 42)"
   ]
  },
  {
   "cell_type": "code",
   "execution_count": 245,
   "metadata": {},
   "outputs": [],
   "source": [
    "rf1 = RandomForestRegressor(random_state = 42)"
   ]
  },
  {
   "cell_type": "code",
   "execution_count": 246,
   "metadata": {},
   "outputs": [
    {
     "name": "stderr",
     "output_type": "stream",
     "text": [
      "C:\\Users\\ngmat\\Anaconda3\\lib\\site-packages\\sklearn\\ensemble\\forest.py:246: FutureWarning: The default value of n_estimators will change from 10 in version 0.20 to 100 in 0.22.\n",
      "  \"10 in version 0.20 to 100 in 0.22.\", FutureWarning)\n"
     ]
    }
   ],
   "source": [
    "rf1.fit(train_features1, train_labels1);"
   ]
  },
  {
   "cell_type": "code",
   "execution_count": 247,
   "metadata": {},
   "outputs": [],
   "source": [
    "predictions1 = rf1.predict(test_features1)"
   ]
  },
  {
   "cell_type": "code",
   "execution_count": 248,
   "metadata": {},
   "outputs": [
    {
     "name": "stdout",
     "output_type": "stream",
     "text": [
      "[  71.039       250.94201472  221.30317178  232.02707178  228.52438589\n",
      "   62.13074294  405.30027178  189.16487178  318.32185767  114.13814294\n",
      "   41.4559       85.4496      163.98442883  297.32598589  317.2068\n",
      "  214.00417178  267.77507178 1036.8296      269.49831472  306.59228589\n",
      "  116.16188589  281.86402883  214.19552883  129.65978589  535.64084294\n",
      "  247.58365767  210.96857178  165.09488589  305.72914356  217.50347178\n",
      "  156.02442883  192.94382883  469.09074294  399.41872883   89.98264294\n",
      "  457.79334294 1886.32284294  232.64501472  349.9673      526.69002883\n",
      "  116.89004294  188.10074294  158.00624294  189.40377178  363.69662883\n",
      "  241.99682883 2100.30244294  224.97971472  296.1262      269.59597178\n",
      "   43.3077      227.9185     2438.58728589  195.62972883  156.93022883\n",
      "  267.77507178  177.74842883  231.99688589  265.28810061 6864.73114294\n",
      "  181.40927178  134.84378589  750.53838589  229.48217178  169.6668\n",
      "  312.32831472  353.66365767  438.54732883  286.22642883  189.61862883\n",
      "  239.36744294  149.31598589  235.92641472  241.53141472  580.07722883\n",
      " 1221.2391      226.86962883  114.69918589  333.15892883  233.94121472\n",
      "  132.84478589  272.09810061  181.45804294  326.88340061  288.41807178\n",
      "  469.1891      533.76698589  265.76851472  237.25792883  384.47772883\n",
      "  178.26318589   58.4654      545.44138589  495.04244294  261.42012883\n",
      "  367.26347178  282.85578589  292.69654356  338.87084294 2187.9499\n",
      "  128.52278589  309.39061472  189.68194294  207.59181472 6951.9589\n",
      "  877.11374294  637.35814294  224.18288589  308.75324294  317.1751\n",
      "  410.85575767  361.41017178  202.38192883]\n"
     ]
    }
   ],
   "source": [
    "print(predictions1)"
   ]
  },
  {
   "cell_type": "code",
   "execution_count": 249,
   "metadata": {},
   "outputs": [
    {
     "name": "stdout",
     "output_type": "stream",
     "text": [
      "[0.01030092 0.0288669  0.07862728 0.03146963 0.01907158 0.00818223\n",
      " 0.0948413  0.05544692 0.00746139 0.02141923 0.00917004 0.00986728\n",
      " 0.02242682 0.23223558 0.3706129 ]\n"
     ]
    }
   ],
   "source": [
    "print(rf1.feature_importances_)"
   ]
  },
  {
   "cell_type": "code",
   "execution_count": 250,
   "metadata": {},
   "outputs": [],
   "source": [
    "dictionary1 = dict(zip(feature1_list, rf1.feature_importances_))"
   ]
  },
  {
   "cell_type": "code",
   "execution_count": 251,
   "metadata": {},
   "outputs": [
    {
     "name": "stdout",
     "output_type": "stream",
     "text": [
      "{'G': 0.010300917953017475, 'GS': 0.028866899390051482, 'MP': 0.07862728411194594, 'TRB': 0.031469630211983554, 'AST': 0.019071580574689318, 'STL': 0.008182230318559709, 'BLK': 0.09484129730527933, 'PS/G': 0.05544692290382243, 'GP': 0.007461385786062501, 'NETRTG': 0.021419234947072936, 'TS%': 0.00917003620000545, 'PIE': 0.009867280913203592, 'MPG': 0.022426816871786073, 'RPM': 0.23223558382913662, 'WINS': 0.37061289868338365}\n"
     ]
    }
   ],
   "source": [
    "print(dictionary1)"
   ]
  },
  {
   "cell_type": "code",
   "execution_count": 252,
   "metadata": {},
   "outputs": [
    {
     "data": {
      "text/plain": [
       "0.7732360180108762"
      ]
     },
     "execution_count": 252,
     "metadata": {},
     "output_type": "execute_result"
    }
   ],
   "source": [
    "rf1.score(features1, labels1)"
   ]
  },
  {
   "cell_type": "code",
   "execution_count": 253,
   "metadata": {},
   "outputs": [
    {
     "data": {
      "text/plain": [
       "-0.24738672947204665"
      ]
     },
     "execution_count": 253,
     "metadata": {},
     "output_type": "execute_result"
    }
   ],
   "source": [
    "rf1.score(test_features1, test_labels1)"
   ]
  },
  {
   "cell_type": "code",
   "execution_count": 254,
   "metadata": {},
   "outputs": [
    {
     "name": "stdout",
     "output_type": "stream",
     "text": [
      "995.4138871849867\n",
      "500.23964753786856\n"
     ]
    }
   ],
   "source": [
    "print(mean_squared_error(test_labels1, predictions1)**0.5)\n",
    "print(np.mean(test_labels1))"
   ]
  },
  {
   "cell_type": "code",
   "execution_count": 255,
   "metadata": {},
   "outputs": [
    {
     "name": "stdout",
     "output_type": "stream",
     "text": [
      "35\n",
      "59\n",
      "Kyrie Irving\n",
      "Rudy Gobert\n"
     ]
    }
   ],
   "source": [
    "pred_diff1 = predictions1 - test_labels1\n",
    "mostor = np.argmin(pred_diff1)\n",
    "mostud = np.argmax(pred_diff1)\n",
    "print(mostor)\n",
    "print(mostud)\n",
    "print(testplayers[mostor])\n",
    "print(testplayers[mostud])"
   ]
  },
  {
   "cell_type": "code",
   "execution_count": 256,
   "metadata": {},
   "outputs": [],
   "source": [
    "scores = cross_val_score(rf1, features, labels, cv=5)"
   ]
  },
  {
   "cell_type": "code",
   "execution_count": 257,
   "metadata": {},
   "outputs": [
    {
     "name": "stdout",
     "output_type": "stream",
     "text": [
      "[ 0.4731508   0.29768027 -0.64375698  0.2642301  -1.25321532]\n"
     ]
    }
   ],
   "source": [
    "print(scores)"
   ]
  },
  {
   "cell_type": "code",
   "execution_count": 258,
   "metadata": {},
   "outputs": [
    {
     "name": "stderr",
     "output_type": "stream",
     "text": [
      "No handles with labels found to put in legend.\n"
     ]
    },
    {
     "data": {
      "image/png": "[encoded data removed]",
      "text/plain": [
       "<Figure size 432x288 with 1 Axes>"
      ]
     },
     "metadata": {
      "needs_background": "light"
     },
     "output_type": "display_data"
    }
   ],
   "source": [
    "sns.barplot(x=feature1_list, y=rf1.feature_importances_)\n",
    "plt.xlabel('Feature Importance Score')\n",
    "plt.ylabel('Features')\n",
    "plt.title(\"Visualizing Important Features\")\n",
    "plt.xticks(rotation = 90)\n",
    "plt.legend()\n",
    "plt.show()"
   ]
  },
  {
   "cell_type": "code",
   "execution_count": 259,
   "metadata": {},
   "outputs": [
    {
     "data": {
      "text/plain": [
       "LinearRegression(copy_X=True, fit_intercept=True, n_jobs=None,\n",
       "         normalize=False)"
      ]
     },
     "execution_count": 259,
     "metadata": {},
     "output_type": "execute_result"
    }
   ],
   "source": [
    "lm1 = LinearRegression()\n",
    "lm1.fit(train_features1,train_labels1)"
   ]
  },
  {
   "cell_type": "code",
   "execution_count": 260,
   "metadata": {},
   "outputs": [],
   "source": [
    "predreg1 = lm1.predict(test_features1)"
   ]
  },
  {
   "cell_type": "code",
   "execution_count": 261,
   "metadata": {},
   "outputs": [
    {
     "data": {
      "text/plain": [
       "<matplotlib.collections.PathCollection at 0x251145859e8>"
      ]
     },
     "execution_count": 261,
     "metadata": {},
     "output_type": "execute_result"
    },
    {
     "data": {
      "image/png": "[encoded data removed]",
      "text/plain": [
       "<Figure size 432x288 with 1 Axes>"
      ]
     },
     "metadata": {
      "needs_background": "light"
     },
     "output_type": "display_data"
    }
   ],
   "source": [
    "plt.scatter(test_labels1,predreg1)"
   ]
  },
  {
   "cell_type": "code",
   "execution_count": 262,
   "metadata": {},
   "outputs": [
    {
     "name": "stdout",
     "output_type": "stream",
     "text": [
      "727.1057338120266\n",
      "500.23964753786856\n"
     ]
    }
   ],
   "source": [
    "print(mean_squared_error(test_labels1, predreg1)**0.5)\n",
    "print(np.mean(test_labels1))"
   ]
  },
  {
   "cell_type": "code",
   "execution_count": 263,
   "metadata": {},
   "outputs": [
    {
     "name": "stdout",
     "output_type": "stream",
     "text": [
      "35\n",
      "92\n",
      "Kyrie Irving\n",
      "Isaiah Thomas\n"
     ]
    }
   ],
   "source": [
    "predreg_diff1 = predreg1 - test_labels1\n",
    "mostor1 = np.argmin(predreg_diff1)\n",
    "mostud1 = np.argmax(predreg_diff1)\n",
    "print(mostor1)\n",
    "print(mostud1)\n",
    "print(testplayers[mostor1])\n",
    "print(testplayers[mostud1])"
   ]
  },
  {
   "cell_type": "code",
   "execution_count": 264,
   "metadata": {},
   "outputs": [],
   "source": [
    "scores2 = cross_val_score(lm1, features, labels, cv=5)"
   ]
  },
  {
   "cell_type": "code",
   "execution_count": 265,
   "metadata": {},
   "outputs": [
    {
     "name": "stdout",
     "output_type": "stream",
     "text": [
      "[ 0.32194184  0.19003645 -1.14092659 -0.11097556 -1.97335029]\n"
     ]
    }
   ],
   "source": [
    "print(scores2)"
   ]
  },
  {
   "cell_type": "code",
   "execution_count": 266,
   "metadata": {},
   "outputs": [],
   "source": [
    "nba_final_df4 = nba_final_df"
   ]
  },
  {
   "cell_type": "code",
   "execution_count": 267,
   "metadata": {},
   "outputs": [],
   "source": [
    "nba_final_df4['FULL_SOCIAL_MEDIA'] = nba_final_df4['TWITTER_FAVORITE_COUNT'] + nba_final_df4['TWITTER_RETWEET_COUNT']"
   ]
  },
  {
   "cell_type": "code",
   "execution_count": 268,
   "metadata": {
    "scrolled": false
   },
   "outputs": [
    {
     "name": "stdout",
     "output_type": "stream",
     "text": [
      "452\n"
     ]
    }
   ],
   "source": [
    "print(nba_final_df4['FULL_SOCIAL_MEDIA'].count())"
   ]
  },
  {
   "cell_type": "code",
   "execution_count": 269,
   "metadata": {},
   "outputs": [],
   "source": [
    "# Labels are the values we want to predict\n",
    "labels2 = np.array(nba_final_df4['FULL_SOCIAL_MEDIA'])\n",
    "# Remove the labels from the features\n",
    "# axis 1 refers to the columns\n",
    "features2 = nba_final_df4.drop('FULL_SOCIAL_MEDIA', axis = 1)\n",
    "features2 = features2.drop('TWITTER_FAVORITE_COUNT', axis = 1)\n",
    "features2 = features2.drop('TWITTER_RETWEET_COUNT', axis = 1)\n",
    "features2 = features2.drop('pageviews', axis = 1)\n",
    "features2 = features2.drop('PLAYER', axis = 1)\n",
    "features2 = features2.drop('TEAM_SH', axis = 1) \n",
    "features2 = features2.drop('TEAM', axis = 1)\n",
    "features2 = features2.drop('SALARY', axis = 1)\n",
    "features2 = features2.drop('MP', axis = 1)\n",
    "features2 = features2.drop('WINS', axis = 1)\n",
    "features2 = features2.drop('W', axis = 1)\n",
    "features2 = features2.drop('L', axis = 1)\n",
    "features2 = features2.drop('AVG', axis = 1)\n",
    "features2 = features2.drop('PCT', axis = 1)\n",
    "# Saving feature names for later use\n",
    "feature_list2 = list(features2.columns)\n",
    "# Convert to numpy array\n",
    "features2 = np.array(features2)"
   ]
  },
  {
   "cell_type": "code",
   "execution_count": 270,
   "metadata": {},
   "outputs": [],
   "source": [
    "train_features2, test_features2, train_labels2, test_labels2 = train_test_split(features2, labels2, test_size = 0.25, random_state = 42)"
   ]
  },
  {
   "cell_type": "code",
   "execution_count": 271,
   "metadata": {},
   "outputs": [],
   "source": [
    "_,testplayers2,_,_ = train_test_split(nba_final_df4.PLAYER.values, nba_final_df4.PLAYER.values, test_size = 0.25, random_state = 42)"
   ]
  },
  {
   "cell_type": "code",
   "execution_count": 272,
   "metadata": {},
   "outputs": [
    {
     "name": "stderr",
     "output_type": "stream",
     "text": [
      "C:\\Users\\ngmat\\Anaconda3\\lib\\site-packages\\sklearn\\ensemble\\forest.py:246: FutureWarning: The default value of n_estimators will change from 10 in version 0.20 to 100 in 0.22.\n",
      "  \"10 in version 0.20 to 100 in 0.22.\", FutureWarning)\n"
     ]
    },
    {
     "data": {
      "text/plain": [
       "RandomForestRegressor(bootstrap=True, criterion='mse', max_depth=None,\n",
       "           max_features='auto', max_leaf_nodes=None,\n",
       "           min_impurity_decrease=0.0, min_impurity_split=None,\n",
       "           min_samples_leaf=1, min_samples_split=2,\n",
       "           min_weight_fraction_leaf=0.0, n_estimators=10, n_jobs=None,\n",
       "           oob_score=False, random_state=42, verbose=0, warm_start=False)"
      ]
     },
     "execution_count": 272,
     "metadata": {},
     "output_type": "execute_result"
    }
   ],
   "source": [
    "rf2 = RandomForestRegressor(random_state = 42)\n",
    "rf2.fit(train_features2, train_labels2)"
   ]
  },
  {
   "cell_type": "code",
   "execution_count": 273,
   "metadata": {},
   "outputs": [],
   "source": [
    "pred2 = rf2.predict(test_features2)"
   ]
  },
  {
   "cell_type": "code",
   "execution_count": 274,
   "metadata": {},
   "outputs": [
    {
     "name": "stdout",
     "output_type": "stream",
     "text": [
      "818.0246022113325\n",
      "126.7566371681416\n"
     ]
    }
   ],
   "source": [
    "print(mean_squared_error(test_labels2, pred2)**0.5)\n",
    "print(np.mean(test_labels2))"
   ]
  },
  {
   "cell_type": "code",
   "execution_count": 275,
   "metadata": {},
   "outputs": [
    {
     "name": "stdout",
     "output_type": "stream",
     "text": [
      "36\n",
      "104\n",
      "Russell Westbrook\n",
      "Chris Paul\n"
     ]
    }
   ],
   "source": [
    "pred_diff2 = pred2 - test_labels2\n",
    "mostor2 = np.argmin(pred_diff2)\n",
    "mostud2 = np.argmax(pred_diff2)\n",
    "print(mostor2)\n",
    "print(mostud2)\n",
    "print(testplayers2[mostor2])\n",
    "print(testplayers2[mostud2])"
   ]
  },
  {
   "cell_type": "code",
   "execution_count": 276,
   "metadata": {},
   "outputs": [],
   "source": [
    "scores = cross_val_score(rf2, features2, labels2, cv=5)"
   ]
  },
  {
   "cell_type": "code",
   "execution_count": 277,
   "metadata": {},
   "outputs": [
    {
     "name": "stdout",
     "output_type": "stream",
     "text": [
      "[ 0.34352324  0.27790454 -0.28355778  0.06446747 -2.33617428]\n"
     ]
    }
   ],
   "source": [
    "print(scores)"
   ]
  },
  {
   "cell_type": "code",
   "execution_count": 278,
   "metadata": {},
   "outputs": [
    {
     "name": "stderr",
     "output_type": "stream",
     "text": [
      "No handles with labels found to put in legend.\n"
     ]
    },
    {
     "data": {
      "image/png": "[encoded data removed]",
      "text/plain": [
       "<Figure size 432x288 with 1 Axes>"
      ]
     },
     "metadata": {
      "needs_background": "light"
     },
     "output_type": "display_data"
    }
   ],
   "source": [
    "sns.barplot(x=feature_list2, y=rf2.feature_importances_)\n",
    "plt.xlabel('Feature Importance Score')\n",
    "plt.ylabel('Features')\n",
    "plt.title(\"Visualizing Important Features\")\n",
    "plt.xticks(rotation = 90)\n",
    "plt.legend()\n",
    "plt.show()"
   ]
  },
  {
   "cell_type": "code",
   "execution_count": 279,
   "metadata": {},
   "outputs": [],
   "source": [
    "lm2 = LinearRegression()"
   ]
  },
  {
   "cell_type": "code",
   "execution_count": 280,
   "metadata": {},
   "outputs": [
    {
     "data": {
      "text/plain": [
       "LinearRegression(copy_X=True, fit_intercept=True, n_jobs=None,\n",
       "         normalize=False)"
      ]
     },
     "execution_count": 280,
     "metadata": {},
     "output_type": "execute_result"
    }
   ],
   "source": [
    "lm2.fit(train_features2, train_labels2)"
   ]
  },
  {
   "cell_type": "code",
   "execution_count": 281,
   "metadata": {},
   "outputs": [],
   "source": [
    "predreg3 = lm2.predict(test_features2)"
   ]
  },
  {
   "cell_type": "code",
   "execution_count": 282,
   "metadata": {},
   "outputs": [
    {
     "name": "stdout",
     "output_type": "stream",
     "text": [
      "389.3158944423413\n",
      "126.7566371681416\n"
     ]
    }
   ],
   "source": [
    "print(mean_squared_error(test_labels2, predreg3)**0.5)\n",
    "print(np.mean(test_labels2))"
   ]
  },
  {
   "cell_type": "code",
   "execution_count": 283,
   "metadata": {},
   "outputs": [
    {
     "name": "stdout",
     "output_type": "stream",
     "text": [
      "39\n",
      "92\n",
      "Tristan Thompson\n",
      "Isaiah Thomas\n"
     ]
    }
   ],
   "source": [
    "pred_diff3 = predreg3 - test_labels2\n",
    "mostor2 = np.argmin(pred_diff3)\n",
    "mostud2 = np.argmax(pred_diff3)\n",
    "print(mostor2)\n",
    "print(mostud2)\n",
    "print(testplayers2[mostor2])\n",
    "print(testplayers2[mostud2])"
   ]
  },
  {
   "cell_type": "code",
   "execution_count": 284,
   "metadata": {},
   "outputs": [
    {
     "name": "stdout",
     "output_type": "stream",
     "text": [
      "970.8842949421575\n",
      "1\n",
      "105\n",
      "Greivis Vasquez\n",
      "Kristaps Porzingis\n",
      "['Blake Griffin' 'Danilo Gallinari' 'Mike Conley' 'Clint Capela'\n",
      " 'Nikola Jokic']\n"
     ]
    }
   ],
   "source": [
    "neigh = KNeighborsRegressor()\n",
    "neigh.fit(train_features2, train_labels2) \n",
    "neigh.predict(test_features2)\n",
    "print(mean_squared_error(test_labels1, neigh.predict(test_features2))**0.5)\n",
    "mostor = np.argmin(neigh.predict(test_features2))\n",
    "mostud = np.argmax(neigh.predict(test_features2))\n",
    "print(mostor)\n",
    "print(mostud)\n",
    "print(testplayers[mostor])\n",
    "print(testplayers[mostud])\n",
    "neigh.kneighbors(np.atleast_2d(test_features2[99]), 5)\n",
    "fivenear = neigh.kneighbors(np.atleast_2d(test_features2[99]), 5)[1]\n",
    "for i in fivenear:\n",
    "    print(trainplayers[i])\n"
   ]
  },
  {
   "cell_type": "code",
   "execution_count": 285,
   "metadata": {},
   "outputs": [],
   "source": [
    "scores = cross_val_score(lm2, features2, labels2, cv=5)"
   ]
  },
  {
   "cell_type": "code",
   "execution_count": 286,
   "metadata": {},
   "outputs": [
    {
     "name": "stdout",
     "output_type": "stream",
     "text": [
      "[ 0.21791081  0.1300919  -0.83473214  0.05769235 -0.6832567 ]\n"
     ]
    }
   ],
   "source": [
    "print(scores)"
   ]
  },
  {
   "cell_type": "code",
   "execution_count": 287,
   "metadata": {},
   "outputs": [
    {
     "name": "stderr",
     "output_type": "stream",
     "text": [
      "No handles with labels found to put in legend.\n"
     ]
    },
    {
     "data": {
      "image/png": "[encoded data removed]",
      "text/plain": [
       "<Figure size 432x288 with 1 Axes>"
      ]
     },
     "metadata": {
      "needs_background": "light"
     },
     "output_type": "display_data"
    }
   ],
   "source": [
    "sns.barplot(x=feature_list2, y=lm2.coef_)\n",
    "plt.xlabel('Feature Importance Score')\n",
    "plt.ylabel('Features')\n",
    "plt.title(\"Visualizing Important Features\")\n",
    "plt.xticks(rotation = 90)\n",
    "plt.legend()\n",
    "plt.show()"
   ]
  },
  {
   "cell_type": "code",
   "execution_count": 288,
   "metadata": {},
   "outputs": [
    {
     "data": {
      "text/plain": [
       "Text(0, 0.5, 'TWITTER_FAVORITE_COUNT')"
      ]
     },
     "execution_count": 288,
     "metadata": {},
     "output_type": "execute_result"
    },
    {
     "data": {
      "image/png": "[encoded data removed]",
      "text/plain": [
       "<Figure size 432x288 with 1 Axes>"
      ]
     },
     "metadata": {
      "needs_background": "light"
     },
     "output_type": "display_data"
    }
   ],
   "source": [
    "plt.hist(nba_final_df['TWITTER_FAVORITE_COUNT'], bins=50)\n",
    "plt.xlabel('TWITTER_FAVORITE_COUNT')\n",
    "plt.ylabel('TWITTER_FAVORITE_COUNT')"
   ]
  },
  {
   "cell_type": "code",
   "execution_count": null,
   "metadata": {},
   "outputs": [],
   "source": []
  },
  {
   "cell_type": "code",
   "execution_count": 289,
   "metadata": {},
   "outputs": [],
   "source": [
    "nba_final_df6 = nba_final_df"
   ]
  },
  {
   "cell_type": "code",
   "execution_count": 290,
   "metadata": {},
   "outputs": [
    {
     "name": "stdout",
     "output_type": "stream",
     "text": [
      "<bound method DataFrame.info of                 PLAYER TEAM_SH   G  GS    MP   TRB   AST  STL  BLK  PS/G  ...  \\\n",
      "0       Kris Humphries     ATL  56   4  12.3   3.7   0.5  0.3  0.4   4.6  ...   \n",
      "1      DeAndre' Bembry     ATL  38   1   9.8   1.6   0.7  0.2  0.1   2.7  ...   \n",
      "2      Thabo Sefolosha     ATL  62  42  25.7   4.4   1.7  1.5  0.5   7.2  ...   \n",
      "3           Ryan Kelly     ATL  16   0   6.9   1.1   0.5  0.3  0.3   1.6  ...   \n",
      "4      Dennis Schroder     ATL  79  78  31.5   3.1   6.3  0.9  0.2  17.9  ...   \n",
      "5        Dwight Howard     ATL  74  74  29.7  12.7   1.4  0.9  1.2  13.5  ...   \n",
      "6         Paul Millsap     ATL  69  67  34.0   7.7   3.7  1.3  0.9  18.1  ...   \n",
      "7      DeAndre' Bembry     ATL  38   1   9.8   1.6   0.7  0.2  0.1   2.7  ...   \n",
      "8        Kent Bazemore     ATL  73  64  26.9   3.2   2.4  1.2  0.7  11.0  ...   \n",
      "9         Mike Muscala     ATL  70   3  17.7   3.4   1.4  0.4  0.6   6.2  ...   \n",
      "10     Lamar Patterson     ATL   5   0   8.0   1.4   1.2  0.2  0.0   1.8  ...   \n",
      "11     Malcolm Delaney     ATL  73   2  17.1   1.7   2.6  0.5  0.0   5.4  ...   \n",
      "12          Mike Scott     ATL  18   0  10.8   2.1   0.9  0.2  0.2   2.5  ...   \n",
      "13        Jaylen Brown     BOS  78  20  17.2   2.8   0.8  0.4  0.2   6.6  ...   \n",
      "14        Gerald Green     BOS  47   0  11.4   1.8   0.7  0.2  0.1   5.6  ...   \n",
      "15       Jordan Mickey     BOS  25   1   5.6   1.4   0.3  0.1  0.2   1.5  ...   \n",
      "16       Jonas Jerebko     BOS  78   6  15.8   3.5   0.9  0.3  0.2   3.8  ...   \n",
      "17       Isaiah Thomas     BOS  76  76  33.8   2.7   5.9  0.9  0.2  28.9  ...   \n",
      "18   Demetrius Jackson     BOS   5   0   3.4   0.8   0.6  0.0  0.0   2.0  ...   \n",
      "19          Al Horford     BOS  68  68  32.3   6.8   5.0  0.8  1.3  14.0  ...   \n",
      "20       Avery Bradley     BOS  55  55  33.4   6.1   2.2  1.2  0.2  16.3  ...   \n",
      "21        Marcus Smart     BOS  79  24  30.4   3.9   4.6  1.6  0.4  10.6  ...   \n",
      "22        Tyler Zeller     BOS  51   5  10.3   2.4   0.8  0.1  0.4   3.5  ...   \n",
      "23   Demetrius Jackson     BOS   5   0   3.4   0.8   0.6  0.0  0.0   2.0  ...   \n",
      "24         James Young     BOS  29   0   7.6   0.9   0.1  0.3  0.1   2.3  ...   \n",
      "25        Kelly Olynyk     BOS  75   6  20.5   4.8   2.0  0.6  0.4   9.0  ...   \n",
      "26         Jae Crowder     BOS  72  72  32.4   5.8   2.2  1.0  0.3  13.9  ...   \n",
      "27        Terry Rozier     BOS  74   0  17.1   3.1   1.8  0.6  0.1   5.5  ...   \n",
      "28        Amir Johnson     BOS  80  77  20.1   4.6   1.8  0.6  0.8   6.5  ...   \n",
      "29       Trevor Booker     BRK  71  43  24.7   8.0   1.9  1.1  0.4  10.0  ...   \n",
      "..                 ...     ...  ..  ..   ...   ...   ...  ...  ...   ...  ...   \n",
      "422     Terrence Jones     TOT  54  12  23.5   5.7   1.1  0.7  1.0  10.8  ...   \n",
      "423  Langston Galloway     TOT  74   2  20.2   2.1   1.3  0.6  0.1   7.9  ...   \n",
      "424   Andrew Nicholson     TOT  38   0   9.0   1.6   0.3  0.4  0.2   2.6  ...   \n",
      "425         Taj Gibson     TOT  78  71  25.5   6.2   0.9  0.5  0.8  10.8  ...   \n",
      "426    DeAndre Liggins     TOT  62  19  12.5   1.7   0.9  0.8  0.2   2.5  ...   \n",
      "427       Shelvin Mack     UTA  55   9  21.9   2.3   2.8  0.8  0.1   7.8  ...   \n",
      "428         Boris Diaw     UTA  73  33  17.6   2.2   2.3  0.2  0.1   4.6  ...   \n",
      "429        Joe Johnson     UTA  78  14  23.6   3.1   1.8  0.5  0.2   9.2  ...   \n",
      "430         Alec Burks     UTA  42   0  15.5   2.9   0.7  0.4  0.1   6.7  ...   \n",
      "431          Raul Neto     UTA  40   0   8.7   0.8   0.9  0.5  0.1   2.5  ...   \n",
      "432     Gordon Hayward     UTA  73  73  34.5   5.4   3.5  1.0  0.3  21.9  ...   \n",
      "433     Derrick Favors     UTA  50  39  23.7   6.1   1.1  0.9  0.8   9.5  ...   \n",
      "434        Jeff Withey     UTA  51   1   8.5   2.4   0.1  0.3  0.6   2.9  ...   \n",
      "435      Joel Bolomboy     UTA  12   0   4.4   1.4   0.2  0.1  0.2   1.8  ...   \n",
      "436         Trey Lyles     UTA  71   4  16.3   3.3   1.0  0.4  0.3   6.2  ...   \n",
      "437        Rodney Hood     UTA  59  55  27.0   3.4   1.6  0.6  0.2  12.7  ...   \n",
      "438        George Hill     UTA  49  49  31.5   3.4   4.2  1.0  0.2  16.9  ...   \n",
      "439        Rudy Gobert     UTA  81  81  33.9  12.8   1.2  0.6  2.6  14.0  ...   \n",
      "440         Joe Ingles     UTA  82  26  24.0   3.2   2.7  1.2  0.1   7.1  ...   \n",
      "441         Dante Exum     UTA  66  26  18.6   2.0   1.7  0.3  0.2   6.2  ...   \n",
      "442    Marcus Thornton     WAS  33   1  17.4   2.3   1.2  0.6  0.1   6.6  ...   \n",
      "443    Markieff Morris     WAS  76  76  31.2   6.5   1.7  1.1  0.6  14.0  ...   \n",
      "444       Bradley Beal     WAS  77  77  34.9   3.1   3.5  1.1  0.3  23.1  ...   \n",
      "445        Jason Smith     WAS  74   3  14.4   3.5   0.5  0.3  0.7   5.7  ...   \n",
      "446        Ian Mahinmi     WAS  31   0  17.9   4.8   0.6  1.1  0.8   5.6  ...   \n",
      "447      Marcin Gortat     WAS  82  82  31.2  10.4   1.5  0.5  0.7  10.8  ...   \n",
      "448      Daniel Ochefu     WAS  19   0   3.9   1.2   0.2  0.1  0.0   1.3  ...   \n",
      "449   Tomas Satoransky     WAS  57   3  12.6   1.5   1.6  0.5  0.1   2.7  ...   \n",
      "450          John Wall     WAS  78  78  36.4   4.2  10.7  2.0  0.6  23.1  ...   \n",
      "451         Trey Burke     WAS  57   0  12.3   0.8   1.8  0.2  0.1   5.0  ...   \n",
      "\n",
      "      RPM   WINS    pageviews  TWITTER_FAVORITE_COUNT  TWITTER_RETWEET_COUNT  \\\n",
      "0   -1.89   0.54  1235.839000                    67.0                    9.0   \n",
      "1   -3.39  -0.05    34.889000                     0.0                    0.0   \n",
      "2    0.34   3.55   151.367000                    28.5                   17.5   \n",
      "3   -0.49   0.08    10.160000                    17.0                   10.0   \n",
      "4   -2.45   1.07     1.233000                    51.5                   20.0   \n",
      "5    0.90   5.65  1323.270000                     7.0                    1.0   \n",
      "6    4.58  11.51   221.887000                    60.0                   32.0   \n",
      "7   -3.39  -0.05    34.889000                     0.0                    0.0   \n",
      "8   -1.19   2.41   220.928000                     0.0                    0.0   \n",
      "9   -0.38   2.11   356.073429                     0.0                    0.0   \n",
      "10  -1.61   0.03    36.143000                     4.0                    4.0   \n",
      "11  -2.89   0.18   106.111000                     1.0                    1.0   \n",
      "12  -2.66   0.06     2.705000                     2.0                    1.0   \n",
      "13  -3.37  -0.21   308.763000                     0.0                  100.0   \n",
      "14  -2.74   0.13   356.073429                     0.0                    0.0   \n",
      "15  -2.77   0.03    56.781000                     0.0                    3.0   \n",
      "16  -1.03   1.63   130.587000                     7.0                   17.0   \n",
      "17   1.83   8.19   356.073429                     0.0                    0.0   \n",
      "18  -2.07   0.01    75.052000                     0.0                    0.0   \n",
      "19   1.82   6.93   569.636000                   136.0                   71.0   \n",
      "20  -2.16   1.13   171.512000                     0.0                    0.0   \n",
      "21   0.75   5.98   194.047000                     1.0                    9.0   \n",
      "22  -2.30   0.28   148.930000                    15.0                   14.0   \n",
      "23  -2.07   0.01    75.052000                     0.0                    0.0   \n",
      "24  -2.16   0.14     4.970000                     0.0                   12.0   \n",
      "25   0.50   3.54   191.661000                    56.5                   16.0   \n",
      "26   3.89  10.52   217.840000                    55.0                   47.0   \n",
      "27  -1.06   1.65    97.465000                     2.0                    6.0   \n",
      "28   3.80   7.02   136.077000                    31.5                    6.0   \n",
      "29  -0.29   3.30    80.971000                    16.5                    8.0   \n",
      "..    ...    ...          ...                     ...                    ...   \n",
      "422 -2.10   0.84   356.073429                     0.0                    0.0   \n",
      "423 -1.55   1.46    80.065000                    14.5                    2.0   \n",
      "424 -4.21  -0.23     1.297000                     5.0                    5.0   \n",
      "425  0.26   4.29   119.433000                    52.0                   17.0   \n",
      "426 -2.37   0.37   148.356000                     2.0                    2.0   \n",
      "427 -2.79   0.25    73.685000                     6.0                    3.0   \n",
      "428 -3.08   0.03   254.387000                   136.5                   13.0   \n",
      "429 -0.77   2.58    11.271000                     0.0                    0.0   \n",
      "430 -3.41  -0.12    44.837000                    10.0                   15.0   \n",
      "431 -0.51   0.53   356.073429                     0.0                    0.0   \n",
      "432  3.06   9.45   362.713000                   319.0                   50.5   \n",
      "433 -0.70   1.73   120.839000                    25.0                    6.5   \n",
      "434 -0.93   0.58   356.073429                     0.0                    0.0   \n",
      "435 -0.92   0.07   356.073429                     0.0                    0.0   \n",
      "436 -2.71   0.29   157.163000                    48.0                   12.0   \n",
      "437 -0.77   2.23   100.654000                     0.0                    0.0   \n",
      "438  3.75   6.28     6.356000                    33.5                    3.0   \n",
      "439  6.37  15.55   185.720000                   731.0                  225.5   \n",
      "440  2.55   6.68   131.576000                    86.5                    4.0   \n",
      "441 -2.79   0.25   208.543000                    48.5                   28.0   \n",
      "442 -4.95  -0.66   356.073429                     0.0                    0.0   \n",
      "443  1.86   7.61   205.138000                     9.0                   18.0   \n",
      "444  2.25   9.26   181.803000                    55.5                   40.5   \n",
      "445 -0.54   1.75   356.073429                     0.0                    0.0   \n",
      "446  0.89   1.44    86.347000                    10.0                    5.0   \n",
      "447 -0.07   5.01   136.497000                     1.0                    1.0   \n",
      "448 -1.80   0.06   356.073429                     0.0                    0.0   \n",
      "449 -1.02   0.93     1.921000                     7.0                    8.5   \n",
      "450  2.26   9.90    22.924000                     0.0                   77.0   \n",
      "451 -5.24  -0.92   192.548000                    41.0                   14.0   \n",
      "\n",
      "                      TEAM      SALARY      AVG    PCT  FULL_SOCIAL_MEDIA  \n",
      "0            Atlanta Hawks   4000000.0  15958.0   85.2               76.0  \n",
      "1            Atlanta Hawks   1499760.0  15958.0   85.2                0.0  \n",
      "2            Atlanta Hawks   3850000.0  15958.0   85.2               46.0  \n",
      "3            Atlanta Hawks   1577230.0  15958.0   85.2               27.0  \n",
      "4            Atlanta Hawks   2708582.0  15958.0   85.2               71.5  \n",
      "5            Atlanta Hawks  23180275.0  15958.0   85.2                8.0  \n",
      "6            Atlanta Hawks  20072033.0  15958.0   85.2               92.0  \n",
      "7            Atlanta Hawks   1567200.0  15958.0   85.2                0.0  \n",
      "8            Atlanta Hawks  15730338.0  15958.0   85.2                0.0  \n",
      "9            Atlanta Hawks   2649557.0  15958.0   85.2                0.0  \n",
      "10           Atlanta Hawks    246956.0  15958.0   85.2                8.0  \n",
      "11           Atlanta Hawks   2500000.0  15958.0   85.2                2.0  \n",
      "12           Atlanta Hawks   3333334.0  15958.0   85.2                3.0  \n",
      "13          Boston Celtics   4743000.0  18553.0   99.6              100.0  \n",
      "14          Boston Celtics   2649557.0  18553.0   99.6                0.0  \n",
      "15          Boston Celtics   1471382.0  18553.0   99.6                3.0  \n",
      "16          Boston Celtics   5000000.0  18553.0   99.6               24.0  \n",
      "17          Boston Celtics   2649557.0  18553.0   99.6                0.0  \n",
      "18          Boston Celtics   1450000.0  18553.0   99.6                0.0  \n",
      "19          Boston Celtics  26540100.0  18553.0   99.6              207.0  \n",
      "20          Boston Celtics   8269663.0  18553.0   99.6                0.0  \n",
      "21          Boston Celtics   3578880.0  18553.0   99.6               10.0  \n",
      "22          Boston Celtics   8000000.0  18553.0   99.6               29.0  \n",
      "23          Boston Celtics   1384750.0  18553.0   99.6                0.0  \n",
      "24          Boston Celtics   1825200.0  18553.0   99.6               12.0  \n",
      "25          Boston Celtics   3094014.0  18553.0   99.6               72.5  \n",
      "26          Boston Celtics   6286408.0  18553.0   99.6              102.0  \n",
      "27          Boston Celtics   1906440.0  18553.0   99.6                8.0  \n",
      "28          Boston Celtics  12000000.0  18553.0   99.6               37.5  \n",
      "29           Brooklyn Nets   9250000.0  15429.0   85.2               24.5  \n",
      "..                     ...         ...      ...    ...                ...  \n",
      "422  Oklahoma City Thunder   2649557.0  18203.0  100.0                0.0  \n",
      "423       Sacramento Kings   5200000.0  17608.0  100.6               16.5  \n",
      "424     Washington Wizards   6088993.0  17002.0   83.8               10.0  \n",
      "425  Oklahoma City Thunder   8950000.0  18203.0  100.0               69.0  \n",
      "426            LA Clippers   1577230.0  19088.0  100.1                4.0  \n",
      "427              Utah Jazz   2433334.0  19673.0   98.8                9.0  \n",
      "428              Utah Jazz   7000000.0  19673.0   98.8              149.5  \n",
      "429              Utah Jazz  11000000.0  19673.0   98.8                0.0  \n",
      "430              Utah Jazz  10154495.0  19673.0   98.8               25.0  \n",
      "431              Utah Jazz   2649557.0  19673.0   98.8                0.0  \n",
      "432              Utah Jazz  16073140.0  19673.0   98.8              369.5  \n",
      "433              Utah Jazz  11050000.0  19673.0   98.8               31.5  \n",
      "434              Utah Jazz   2649557.0  19673.0   98.8                0.0  \n",
      "435              Utah Jazz   2649557.0  19673.0   98.8                0.0  \n",
      "436              Utah Jazz   2340600.0  19673.0   98.8               60.0  \n",
      "437              Utah Jazz   1406520.0  19673.0   98.8                0.0  \n",
      "438              Utah Jazz   8000000.0  19673.0   98.8               36.5  \n",
      "439              Utah Jazz   2121288.0  19673.0   98.8              956.5  \n",
      "440              Utah Jazz   2150000.0  19673.0   98.8               90.5  \n",
      "441              Utah Jazz   3940320.0  19673.0   98.8               76.5  \n",
      "442              Utah Jazz   2649557.0  19673.0   98.8                0.0  \n",
      "443     Washington Wizards   7400000.0  17002.0   83.8               27.0  \n",
      "444     Washington Wizards  22116750.0  17002.0   83.8               96.0  \n",
      "445     Washington Wizards   2649557.0  17002.0   83.8                0.0  \n",
      "446     Washington Wizards  15944154.0  17002.0   83.8               15.0  \n",
      "447     Washington Wizards  12000000.0  17002.0   83.8                2.0  \n",
      "448     Washington Wizards   2649557.0  17002.0   83.8                0.0  \n",
      "449     Washington Wizards   2870813.0  17002.0   83.8               15.5  \n",
      "450     Washington Wizards  16957900.0  17002.0   83.8               77.0  \n",
      "451     Washington Wizards   3386598.0  17002.0   83.8               55.0  \n",
      "\n",
      "[452 rows x 27 columns]>\n"
     ]
    }
   ],
   "source": [
    "print(nba_final_df6.info)"
   ]
  },
  {
   "cell_type": "code",
   "execution_count": 291,
   "metadata": {},
   "outputs": [],
   "source": [
    "nba_final_df6['FULL_SOCIAL_MEDIA'] = nba_final_df6['TWITTER_FAVORITE_COUNT'] + nba_final_df6['TWITTER_RETWEET_COUNT']"
   ]
  },
  {
   "cell_type": "code",
   "execution_count": 292,
   "metadata": {},
   "outputs": [],
   "source": [
    "nba_final_df6['FULL_BASIC_STATS'] = nba_final_df6['TRB'] + nba_final_df6['AST'] + nba_final_df6['STL'] + nba_final_df6['BLK'] + nba_final_df6['PS/G'] "
   ]
  },
  {
   "cell_type": "code",
   "execution_count": 293,
   "metadata": {},
   "outputs": [],
   "source": [
    "# Labels are the values we want to predict\n",
    "labels3 = np.array(nba_final_df6['FULL_SOCIAL_MEDIA'])\n",
    "# Remove the labels from the features\n",
    "# axis 1 refers to the columns\n",
    "features2 = nba_final_df6.drop('FULL_SOCIAL_MEDIA', axis = 1)\n",
    "features2 = features2.drop('TWITTER_FAVORITE_COUNT', axis = 1)\n",
    "features2 = features2.drop('TWITTER_RETWEET_COUNT', axis = 1)\n",
    "features2 = features2.drop('pageviews', axis = 1)\n",
    "features2 = features2.drop('PLAYER', axis = 1)\n",
    "features2 = features2.drop('TEAM_SH', axis = 1) \n",
    "features2 = features2.drop('TEAM', axis = 1)\n",
    "features2 = features2.drop('SALARY', axis = 1)\n",
    "features2 = features2.drop('MP', axis = 1)\n",
    "features2 = features2.drop('WINS', axis = 1)\n",
    "features2 = features2.drop('TRB', axis = 1)\n",
    "features2 = features2.drop('AST', axis = 1)\n",
    "features2 = features2.drop('STL', axis = 1)\n",
    "features2 = features2.drop('BLK', axis = 1)\n",
    "features2 = features2.drop('PS/G', axis = 1)\n",
    "features2 = features2.drop('W', axis = 1)\n",
    "features2 = features2.drop('L', axis = 1)\n",
    "features2 = features2.drop('AVG', axis = 1)\n",
    "features2 = features2.drop('PCT', axis = 1)\n",
    "# Saving feature names for later use\n",
    "feature_list2 = list(features2.columns)\n",
    "# Convert to numpy array\n",
    "features2 = np.array(features2)"
   ]
  },
  {
   "cell_type": "code",
   "execution_count": 294,
   "metadata": {},
   "outputs": [],
   "source": [
    "train_features2, test_features2, train_labels2, test_labels2 = train_test_split(features2, labels3, test_size = 0.25, random_state = 42)"
   ]
  },
  {
   "cell_type": "code",
   "execution_count": 295,
   "metadata": {},
   "outputs": [],
   "source": [
    "_,testplayers2,_,_ = train_test_split(nba_final_df4.PLAYER.values, nba_final_df4.PLAYER.values, test_size = 0.25, random_state = 42)"
   ]
  },
  {
   "cell_type": "code",
   "execution_count": 296,
   "metadata": {},
   "outputs": [
    {
     "name": "stderr",
     "output_type": "stream",
     "text": [
      "C:\\Users\\ngmat\\Anaconda3\\lib\\site-packages\\sklearn\\ensemble\\forest.py:246: FutureWarning: The default value of n_estimators will change from 10 in version 0.20 to 100 in 0.22.\n",
      "  \"10 in version 0.20 to 100 in 0.22.\", FutureWarning)\n"
     ]
    },
    {
     "data": {
      "text/plain": [
       "RandomForestRegressor(bootstrap=True, criterion='mse', max_depth=None,\n",
       "           max_features='auto', max_leaf_nodes=None,\n",
       "           min_impurity_decrease=0.0, min_impurity_split=None,\n",
       "           min_samples_leaf=1, min_samples_split=2,\n",
       "           min_weight_fraction_leaf=0.0, n_estimators=10, n_jobs=None,\n",
       "           oob_score=False, random_state=42, verbose=0, warm_start=False)"
      ]
     },
     "execution_count": 296,
     "metadata": {},
     "output_type": "execute_result"
    }
   ],
   "source": [
    "rf2 = RandomForestRegressor(random_state = 42)\n",
    "rf2.fit(train_features2, train_labels2)"
   ]
  },
  {
   "cell_type": "code",
   "execution_count": 297,
   "metadata": {},
   "outputs": [],
   "source": [
    "pred2 = rf2.predict(test_features2)"
   ]
  },
  {
   "cell_type": "code",
   "execution_count": 298,
   "metadata": {},
   "outputs": [
    {
     "name": "stdout",
     "output_type": "stream",
     "text": [
      "650.4459929591674\n",
      "126.7566371681416\n"
     ]
    }
   ],
   "source": [
    "print(mean_squared_error(test_labels2, pred2)**0.5)\n",
    "print(np.mean(test_labels2))"
   ]
  },
  {
   "cell_type": "code",
   "execution_count": 299,
   "metadata": {},
   "outputs": [
    {
     "name": "stdout",
     "output_type": "stream",
     "text": [
      "35\n",
      "104\n",
      "Kyrie Irving\n",
      "Chris Paul\n"
     ]
    }
   ],
   "source": [
    "pred_diff2 = pred2 - test_labels2\n",
    "mostor2 = np.argmin(pred_diff2)\n",
    "mostud2 = np.argmax(pred_diff2)\n",
    "print(mostor2)\n",
    "print(mostud2)\n",
    "print(testplayers2[mostor2])\n",
    "print(testplayers2[mostud2])"
   ]
  },
  {
   "cell_type": "code",
   "execution_count": 300,
   "metadata": {},
   "outputs": [],
   "source": [
    "scores = cross_val_score(rf2, features2, labels3, cv=5)"
   ]
  },
  {
   "cell_type": "code",
   "execution_count": 301,
   "metadata": {},
   "outputs": [
    {
     "name": "stdout",
     "output_type": "stream",
     "text": [
      "[ 0.34405021  0.32411672 -1.20614464  0.10276348  0.26124711]\n"
     ]
    }
   ],
   "source": [
    "print(scores)"
   ]
  },
  {
   "cell_type": "code",
   "execution_count": 302,
   "metadata": {},
   "outputs": [
    {
     "name": "stderr",
     "output_type": "stream",
     "text": [
      "No handles with labels found to put in legend.\n"
     ]
    },
    {
     "data": {
      "image/png": "[encoded data removed]",
      "text/plain": [
       "<Figure size 432x288 with 1 Axes>"
      ]
     },
     "metadata": {
      "needs_background": "light"
     },
     "output_type": "display_data"
    }
   ],
   "source": [
    "sns.barplot(x=feature_list2, y=rf2.feature_importances_)\n",
    "plt.xlabel('Feature Importance Score')\n",
    "plt.ylabel('Features')\n",
    "plt.title(\"Visualizing Important Features\")\n",
    "plt.xticks(rotation = 90)\n",
    "plt.legend()\n",
    "plt.show()"
   ]
  },
  {
   "cell_type": "code",
   "execution_count": 303,
   "metadata": {},
   "outputs": [],
   "source": [
    "lm2 = LinearRegression()"
   ]
  },
  {
   "cell_type": "code",
   "execution_count": 304,
   "metadata": {},
   "outputs": [
    {
     "data": {
      "text/plain": [
       "LinearRegression(copy_X=True, fit_intercept=True, n_jobs=None,\n",
       "         normalize=False)"
      ]
     },
     "execution_count": 304,
     "metadata": {},
     "output_type": "execute_result"
    }
   ],
   "source": [
    "lm2.fit(train_features2, train_labels2)"
   ]
  },
  {
   "cell_type": "code",
   "execution_count": 305,
   "metadata": {},
   "outputs": [],
   "source": [
    "predreg3 = lm2.predict(test_features2)"
   ]
  },
  {
   "cell_type": "code",
   "execution_count": 306,
   "metadata": {},
   "outputs": [
    {
     "name": "stdout",
     "output_type": "stream",
     "text": [
      "352.3056612353444\n",
      "126.7566371681416\n"
     ]
    }
   ],
   "source": [
    "print(mean_squared_error(test_labels2, predreg3)**0.5)\n",
    "print(np.mean(test_labels2))"
   ]
  },
  {
   "cell_type": "code",
   "execution_count": 307,
   "metadata": {},
   "outputs": [
    {
     "name": "stdout",
     "output_type": "stream",
     "text": [
      "35\n",
      "92\n",
      "Kyrie Irving\n",
      "Isaiah Thomas\n"
     ]
    }
   ],
   "source": [
    "pred_diff3 = predreg3 - test_labels2\n",
    "mostor2 = np.argmin(pred_diff3)\n",
    "mostud2 = np.argmax(pred_diff3)\n",
    "print(mostor2)\n",
    "print(mostud2)\n",
    "print(testplayers2[mostor2])\n",
    "print(testplayers2[mostud2])"
   ]
  },
  {
   "cell_type": "code",
   "execution_count": 308,
   "metadata": {},
   "outputs": [],
   "source": [
    "scores = cross_val_score(lm2, features2, labels3, cv=5)"
   ]
  },
  {
   "cell_type": "code",
   "execution_count": 309,
   "metadata": {},
   "outputs": [
    {
     "name": "stdout",
     "output_type": "stream",
     "text": [
      "[ 0.32045886  0.14606235 -0.69240981  0.20606522 -0.45185724]\n"
     ]
    }
   ],
   "source": [
    "print(scores)"
   ]
  },
  {
   "cell_type": "code",
   "execution_count": 310,
   "metadata": {
    "scrolled": true
   },
   "outputs": [
    {
     "name": "stderr",
     "output_type": "stream",
     "text": [
      "No handles with labels found to put in legend.\n"
     ]
    },
    {
     "data": {
      "image/png": "[encoded data removed]",
      "text/plain": [
       "<Figure size 432x288 with 1 Axes>"
      ]
     },
     "metadata": {
      "needs_background": "light"
     },
     "output_type": "display_data"
    }
   ],
   "source": [
    "sns.barplot(x=feature_list2, y=lm2.coef_)\n",
    "plt.xlabel('Feature Importance Score')\n",
    "plt.ylabel('Features')\n",
    "plt.title(\"Visualizing Important Features\")\n",
    "plt.xticks(rotation = 90)\n",
    "plt.legend()\n",
    "plt.show()"
   ]
  },
  {
   "cell_type": "code",
   "execution_count": 404,
   "metadata": {},
   "outputs": [
    {
     "name": "stdout",
     "output_type": "stream",
     "text": [
      "362.08181078192126\n",
      "1\n",
      "59\n",
      "Greivis Vasquez\n",
      "Rudy Gobert\n",
      "['DeAndre Jordan' 'Bradley Beal' 'Stephen Curry' 'Kemba Walker'\n",
      " 'Myles Turner']\n"
     ]
    }
   ],
   "source": [
    "neigh = KNeighborsRegressor()\n",
    "neigh.fit(train_features2, train_labels2) \n",
    "neigh.predict(test_features2)\n",
    "print(mean_squared_error(test_labels2, neigh.predict(test_features2))**0.5)\n",
    "mostor = np.argmin(neigh.predict(test_features2))\n",
    "mostud = np.argmax(neigh.predict(test_features2))\n",
    "print(mostor)\n",
    "print(mostud)\n",
    "print(testplayers[mostor])\n",
    "print(testplayers[mostud])\n",
    "neigh.kneighbors(np.atleast_2d(test_features2[59]), 5)\n",
    "fivenear = neigh.kneighbors(np.atleast_2d(test_features2[59]), 5)[1]\n",
    "for i in fivenear:\n",
    "    print(trainplayers[i])\n",
    "\n"
   ]
  },
  {
   "cell_type": "code",
   "execution_count": 363,
   "metadata": {},
   "outputs": [
    {
     "name": "stdout",
     "output_type": "stream",
     "text": [
      "Index(['PLAYER', 'TEAM_SH', 'G', 'GS', 'MP', 'TRB', 'AST', 'STL', 'BLK',\n",
      "       'PS/G', 'GP', 'W', 'L', 'NETRTG', 'TS%', 'PIE', 'MPG', 'RPM', 'WINS',\n",
      "       'pageviews', 'TWITTER_FAVORITE_COUNT', 'TWITTER_RETWEET_COUNT', 'TEAM',\n",
      "       'SALARY', 'AVG', 'PCT', 'FULL_SOCIAL_MEDIA', 'FULL_BASIC_STATS'],\n",
      "      dtype='object')\n"
     ]
    }
   ],
   "source": [
    "print(nba_final_df6.columns)"
   ]
  },
  {
   "cell_type": "code",
   "execution_count": 375,
   "metadata": {},
   "outputs": [],
   "source": [
    "newdf = nba_final_df6"
   ]
  },
  {
   "cell_type": "code",
   "execution_count": 376,
   "metadata": {},
   "outputs": [],
   "source": [
    "newdf2 = nba_final_df6"
   ]
  },
  {
   "cell_type": "code",
   "execution_count": 377,
   "metadata": {},
   "outputs": [],
   "source": [
    "# Labels are the values we want to predict\n",
    "labels3 = np.array(newdf2['FULL_SOCIAL_MEDIA'])\n",
    "# Remove the labels from the features\n",
    "# axis 1 refers to the columns\n",
    "features2 = newdf2.drop('FULL_SOCIAL_MEDIA', axis = 1)\n",
    "features2 = features2.drop('TWITTER_FAVORITE_COUNT', axis = 1)\n",
    "features2 = features2.drop('TWITTER_RETWEET_COUNT', axis = 1)\n",
    "features2 = features2.drop('pageviews', axis = 1)\n",
    "features2 = features2.drop('PLAYER', axis = 1)\n",
    "features2 = features2.drop('TEAM_SH', axis = 1) \n",
    "features2 = features2.drop('TEAM', axis = 1)\n",
    "features2 = features2.drop('SALARY', axis = 1)\n",
    "features2 = features2.drop('MP', axis = 1)\n",
    "features2 = features2.drop('WINS', axis = 1)\n",
    "features2 = features2.drop('TRB', axis = 1)\n",
    "features2 = features2.drop('AST', axis = 1)\n",
    "features2 = features2.drop('STL', axis = 1)\n",
    "features2 = features2.drop('BLK', axis = 1)\n",
    "features2 = features2.drop('PS/G', axis = 1)\n",
    "features2 = features2.drop('W', axis = 1)\n",
    "features2 = features2.drop('L', axis = 1)\n",
    "features2 = features2.drop('AVG', axis = 1)\n",
    "features2 = features2.drop('PCT', axis = 1)\n",
    "# Saving feature names for later use\n",
    "feature_list2 = list(features2.columns)\n",
    "# Convert to numpy array\n",
    "features2 = np.array(features2)"
   ]
  },
  {
   "cell_type": "code",
   "execution_count": 378,
   "metadata": {},
   "outputs": [],
   "source": [
    "train_features2, test_features2, train_labels2, test_labels2 = train_test_split(features2, labels3, test_size = 0.25, random_state = 42)"
   ]
  },
  {
   "cell_type": "code",
   "execution_count": 395,
   "metadata": {},
   "outputs": [
    {
     "name": "stdout",
     "output_type": "stream",
     "text": [
      "{'Kris Humphries': array([[402, 450, 389]], dtype=int64), \"DeAndre' Bembry\": array([[  1, 111,  76]], dtype=int64), 'Thabo Sefolosha': array([[414, 256, 219]], dtype=int64), 'Ryan Kelly': array([[116, 245, 328]], dtype=int64), 'Dennis Schroder': array([[ 91, 312, 393]], dtype=int64), 'Dwight Howard': array([[ 39, 207, 215]], dtype=int64), 'Paul Millsap': array([[ 18, 192, 253]], dtype=int64), 'Kent Bazemore': array([[194, 216, 377]], dtype=int64), 'Mike Muscala': array([[444, 209,  47]], dtype=int64), 'Lamar Patterson': array([[241,  95, 119]], dtype=int64), 'Malcolm Delaney': array([[435,  26, 110]], dtype=int64), 'Mike Scott': array([[283, 181, 379]], dtype=int64), 'Jaylen Brown': array([[376, 339,  80]], dtype=int64), 'Gerald Green': array([[ 21, 136, 429]], dtype=int64), 'Jordan Mickey': array([[146, 181, 179]], dtype=int64), 'Jonas Jerebko': array([[149, 129, 354]], dtype=int64), 'Isaiah Thomas': array([[330, 158,  53]], dtype=int64), 'Demetrius Jackson': array([[ 18, 434, 281]], dtype=int64), 'Al Horford': array([[282,   6, 359]], dtype=int64), 'Avery Bradley': array([[103,  87, 220]], dtype=int64), 'Marcus Smart': array([[371, 405, 231]], dtype=int64), 'Tyler Zeller': array([[402, 136, 327]], dtype=int64), 'James Young': array([[161, 394,  58]], dtype=int64), 'Kelly Olynyk': array([[ 67,  88, 239]], dtype=int64), 'Jae Crowder': array([[147, 155, 359]], dtype=int64), 'Terry Rozier': array([[ 11, 435, 422]], dtype=int64), 'Amir Johnson': array([[166, 201,  77]], dtype=int64), 'Trevor Booker': array([[ 82, 304, 414]], dtype=int64), 'Luis Scola': array([[387, 390,  76]], dtype=int64), 'Isaiah Whitehead': array([[247, 196, 385]], dtype=int64), 'Caris LeVert': array([[343,  35, 108]], dtype=int64), 'Rondae Hollis-Jefferson': array([[297, 222, 417]], dtype=int64), 'Joe Harris': array([[322, 384, 258]], dtype=int64), 'Justin Hamilton': array([[286, 185, 345]], dtype=int64), 'Spencer Dinwiddie': array([[300,  32, 218]], dtype=int64), 'Randy Foye': array([[304, 325, 256]], dtype=int64), 'Anthony Bennett': array([[348, 341, 342]], dtype=int64), 'Greivis Vasquez': array([[378, 135,  64]], dtype=int64), 'Brook Lopez': array([[  5, 265, 207]], dtype=int64), 'Jeremy Lin': array([[310, 336, 224]], dtype=int64), 'Sean Kilpatrick': array([[344, 247, 268]], dtype=int64), 'Paul Zipser': array([[ 50, 326, 246]], dtype=int64), 'Jerian Grant': array([[440, 343,  32]], dtype=int64), 'Rajon Rondo': array([[414,  29, 256]], dtype=int64), 'Robin Lopez': array([[ 56, 122, 276]], dtype=int64), 'Dwyane Wade': array([[267, 182,  20]], dtype=int64), 'Cristiano Felicio': array([[ 89,   9, 195]], dtype=int64), 'Bobby Portis': array([[ 49, 187,  98]], dtype=int64), 'Michael Carter-Williams': array([[ 43, 266, 258]], dtype=int64), 'Nikola Mirotic': array([[193,  65, 145]], dtype=int64), 'Denzel Valentine': array([[448, 244,   0]], dtype=int64), 'Jimmy Butler': array([[330, 158,  17]], dtype=int64), 'Isaiah Canaan': array([[229, 204,  76]], dtype=int64), 'Jeremy Lamb': array([[185, 313,  89]], dtype=int64), 'Michael Kidd-Gilchrist': array([[ 46, 237, 273]], dtype=int64), 'Brian Roberts': array([[ 78, 204,   1]], dtype=int64), 'Treveon Graham': array([[ 24, 161, 146]], dtype=int64), 'Christian Wood': array([[434,  71, 328]], dtype=int64), 'Ramon Sessions': array([[178, 420, 389]], dtype=int64), 'Kemba Walker': array([[215, 443, 158]], dtype=int64), 'Cody Zeller': array([[140, 103,  99]], dtype=int64), 'Aaron Harrison': array([[288, 144, 119]], dtype=int64), 'Mike Tobey': array([[144,  39,  64]], dtype=int64), 'Frank Kaminsky': array([[385, 193, 428]], dtype=int64), 'Nicolas Batum': array([[238,  91,   4]], dtype=int64), 'Marco Belinelli': array([[239, 422,  25]], dtype=int64), 'Marvin Williams': array([[155, 442, 121]], dtype=int64), 'Kevin Love': array([[168, 367, 167]], dtype=int64), 'Channing Frye': array([[376,  25, 193]], dtype=int64), 'Chris Andersen': array([[328, 401, 245]], dtype=int64), 'Dahntay Jones': array([[314, 401, 298]], dtype=int64), 'LeBron James': array([[254, 364,  54]], dtype=int64), 'James Jones': array([[171, 157, 433]], dtype=int64), 'Kyrie Irving': array([[431, 158, 370]], dtype=int64), 'Jordan McRae': array([[  1,   7, 349]], dtype=int64), 'Tristan Thompson': array([[273, 201,  69]], dtype=int64), 'Kay Felder': array([[229,  58, 204]], dtype=int64), 'Iman Shumpert': array([[152, 177, 231]], dtype=int64), 'Richard Jefferson': array([[428, 376,  16]], dtype=int64), 'Salah Mejri': array([[444,  71, 209]], dtype=int64), 'Seth Curry': array([[ 29, 107, 414]], dtype=int64), 'Nicolas Brussino': array([[450,   0, 157]], dtype=int64), 'Jarrod Uthoff': array([[217,  86, 135]], dtype=int64), 'J.J. Barea': array([[338, 289, 415]], dtype=int64), 'Jonathan Gibson': array([[217, 379, 255]], dtype=int64), 'Dirk Nowitzki': array([[ 20, 118, 436]], dtype=int64), 'Dwight Powell': array([[239, 269, 444]], dtype=int64), 'Devin Harris': array([[233,  48, 195]], dtype=int64), 'Dorian Finney-Smith': array([[ 80, 427, 113]], dtype=int64), 'Harrison Barnes': array([[  4, 312,  67]], dtype=int64), 'Ben Bentil': array([[288,  64,  65]], dtype=int64), 'Pierre Jackson': array([[392, 241, 175]], dtype=int64), 'Wesley Matthews': array([[121,  69, 261]], dtype=int64), 'Alonzo Gee': array([[283,   3, 119]], dtype=int64), 'Emmanuel Mudiay': array([[180, 212, 118]], dtype=int64), 'Darrell Arthur': array([[387, 289, 326]], dtype=int64), 'Juan Hernangomez': array([[ 50,  49, 313]], dtype=int64), 'Danilo Gallinari': array([[ 63, 271, 253]], dtype=int64), 'Mike Miller': array([[360, 262, 341]], dtype=int64), 'Nikola Jokic': array([[192,   6, 431]], dtype=int64), 'Wilson Chandler': array([[177, 109, 152]], dtype=int64), 'Gary Harris': array([[ 20,  63, 436]], dtype=int64), 'Malik Beasley': array([[369, 392, 164]], dtype=int64), 'Jamal Murray': array([[383, 165, 259]], dtype=int64), 'Will Barton': array([[324,  36, 346]], dtype=int64), 'Jameer Nelson': array([[109, 152,  80]], dtype=int64), 'Kenneth Faried': array([[219, 256,  32]], dtype=int64), 'Jon Leuer': array([[152, 108, 177]], dtype=int64), 'Stanley Johnson': array([[ 11, 242,  27]], dtype=int64), 'Darrun Hilliard': array([[  1,   7, 263]], dtype=int64), 'Aron Baynes': array([[129, 132, 149]], dtype=int64), 'Ish Smith': array([[309,  21, 371]], dtype=int64), 'Beno Udrih': array([[429, 156, 208]], dtype=int64), 'Reggie Bullock': array([[369, 264, 274]], dtype=int64), 'Henry Ellenson': array([[245,   3, 262]], dtype=int64), 'Boban Marjanovic': array([[115, 333, 200]], dtype=int64), 'Reggie Jackson': array([[ 88, 180,  97]], dtype=int64), 'Michael Gbinije': array([[ 96, 144, 316]], dtype=int64), 'Andre Drummond': array([[  4, 312,  92]], dtype=int64), 'Kentavious Caldwell-Pope': array([[ 95, 261,  69]], dtype=int64), 'Marcus Morris': array([[122,  46, 393]], dtype=int64), 'Tobias Harris': array([[388, 294, 297]], dtype=int64), 'Stephen Curry': array([[134, 364, 172]], dtype=int64), 'Kevin Durant': array([[167, 367, 168]], dtype=int64), 'Patrick McCaw': array([[301, 196, 187]], dtype=int64), 'Andre Iguodala': array([[351, 361, 211]], dtype=int64), 'David West': array([[363,  90, 358]], dtype=int64), 'Shaun Livingston': array([[113, 149, 132]], dtype=int64), 'Zaza Pachulia': array([[362, 147, 377]], dtype=int64), 'JaVale McGee': array([[361, 351, 355]], dtype=int64), 'Ian Clark': array([[113, 149, 130]], dtype=int64), 'Anderson Varejao': array([[135, 328, 379]], dtype=int64), 'Klay Thompson': array([[138, 443, 125]], dtype=int64), 'Damian Jones': array([[134, 378, 283]], dtype=int64), 'James Michael McAdoo': array([[137, 402, 327]], dtype=int64), 'Kevon Looney': array([[137, 327, 402]], dtype=int64), 'Draymond Green': array([[135, 359, 442]], dtype=int64), 'Chinanu Onuaku': array([[248,  85, 217]], dtype=int64), 'Clint Capela': array([[ 63, 100, 150]], dtype=int64), 'Kyle Wiltjer': array([[217, 447,  85]], dtype=int64), 'James Harden': array([[277, 226, 234]], dtype=int64), 'Montrezl Harrell': array([[375, 228, 218]], dtype=int64), 'Isaiah Taylor': array([[ 64,  65, 316]], dtype=int64), 'Eric Gordon': array([[ 66,  52, 193]], dtype=int64), 'Bobby Brown': array([[ 15, 161,  24]], dtype=int64), 'Ryan Anderson': array([[ 26, 155, 377]], dtype=int64), 'Trevor Ariza': array([[237, 273, 160]], dtype=int64), 'Sam Dekker': array([[133, 113, 239]], dtype=int64), 'Patrick Beverley': array([[282,  19, 362]], dtype=int64), 'Georges Niang': array([[ 12, 284, 316]], dtype=int64), 'Monta Ellis': array([[177, 110,  80]], dtype=int64), 'Aaron Brooks': array([[319, 195, 270]], dtype=int64), 'Jeff Teague': array([[160, 446, 237]], dtype=int64), 'Thaddeus Young': array([[ 69, 442, 148]], dtype=int64), 'Rodney Stuckey': array([[429,  55, 204]], dtype=int64), 'Kevin Seraphin': array([[178, 418, 389]], dtype=int64), 'Paul George': array([[330, 370, 203]], dtype=int64), 'Al Jefferson': array([[400, 399, 319]], dtype=int64), 'Myles Turner': array([[446, 155, 273]], dtype=int64), 'Rakeem Christmas': array([[ 24, 173, 147]], dtype=int64), 'Joe Young': array([[423,  15, 179]], dtype=int64), 'Lavoy Allen': array([[286, 154,   0]], dtype=int64), 'Paul Pierce': array([[262, 116, 341]], dtype=int64), 'Raymond Felton': array([[383, 106, 259]], dtype=int64), 'Luc Mbah a Moute': array([[ 28, 276, 250]], dtype=int64), 'Chris Paul': array([[126, 168,  70]], dtype=int64), 'Blake Griffin': array([[ 70, 367, 168]], dtype=int64), 'Wesley Johnson': array([[319, 154, 435]], dtype=int64), 'Diamond Stone': array([[142,  65,  93]], dtype=int64), 'Brandon Bass': array([[ 75, 418, 158]], dtype=int64), 'DeAndre Jordan': array([[438, 443, 135]], dtype=int64), 'Alan Anderson': array([[162,  24, 251]], dtype=int64), 'Marreese Speights': array([[259,  89, 239]], dtype=int64), 'Brice Johnson': array([[235,  94,  10]], dtype=int64), 'Jamal Crawford': array([[259, 239, 106]], dtype=int64), 'Austin Rivers': array([[153, 231, 110]], dtype=int64), 'Thomas Robinson': array([[158,  61, 311]], dtype=int64), 'Metta World Peace': array([[181, 284,  15]], dtype=int64), 'Luol Deng': array([[ 97, 119, 186]], dtype=int64), 'Marcelo Huertas': array([[379, 180,  15]], dtype=int64), \"D'Angelo Russell\": array([[267,  47, 271]], dtype=int64), 'Jordan Clarkson': array([[299, 296, 371]], dtype=int64), 'David Nwaba': array([[307, 257, 348]], dtype=int64), 'Larry Nance Jr.': array([[313, 345,  56]], dtype=int64), 'Timofey Mozgov': array([[181, 119, 340]], dtype=int64), 'Tarik Black': array([[301,  50,  49]], dtype=int64), 'Nick Young': array([[104, 183,  63]], dtype=int64), 'Brandon Ingram': array([[309, 304, 153]], dtype=int64), 'Julius Randle': array([[ 40, 265,  95]], dtype=int64), 'Ivica Zubac': array([[246, 289, 412]], dtype=int64), 'Mike Conley': array([[ 6, 19, 76]], dtype=int64), 'Vince Carter': array([[ 52, 428,  66]], dtype=int64), 'Tony Allen': array([[  8, 377, 362]], dtype=int64), 'Troy Daniels': array([[270, 233, 319]], dtype=int64), 'Andrew Harrison': array([[385, 301, 331]], dtype=int64), 'Chandler Parsons': array([[409, 249, 236]], dtype=int64), 'Deyonta Davis': array([[199, 349,  77]], dtype=int64), 'Brandan Wright': array([[445, 116, 369]], dtype=int64), 'JaMychal Green': array([[ 78,  69, 156]], dtype=int64), 'Zach Randolph': array([[213, 211, 280]], dtype=int64), 'Marc Gasol': array([[207, 159, 370]], dtype=int64), 'Jarell Martin': array([[ 79, 229,  58]], dtype=int64), 'Luke Babbitt': array([[347, 325, 222]], dtype=int64), 'Dion Waiters': array([[432, 243, 437]], dtype=int64), 'Goran Dragic': array([[204, 159,  76]], dtype=int64), 'Okaro White': array([[274, 116, 368]], dtype=int64), 'Willie Reed': array([[444,   9, 113]], dtype=int64), 'Justise Winslow': array([[409, 214, 224]], dtype=int64), 'James Johnson': array([[213, 396, 221]], dtype=int64), 'Josh Richardson': array([[432,  97, 411]], dtype=int64), 'Tyler Johnson': array([[212, 203,  68]], dtype=int64), 'Josh McRoberts': array([[409, 406, 182]], dtype=int64), 'Hassan Whiteside': array([[ 62, 159, 204]], dtype=int64), 'Rodney McGruder': array([[279, 250,   8]], dtype=int64), 'Udonis Haslem': array([[ 87, 447,  85]], dtype=int64), 'Wayne Ellington': array([[313, 186,  36]], dtype=int64), 'John Henson': array([[374, 109,   2]], dtype=int64), 'Jabari Parker': array([[243,  20,  88]], dtype=int64), 'Greg Monroe': array([[396, 212, 177]], dtype=int64), 'Matthew Dellavedova': array([[ 33, 297, 417]], dtype=int64), 'Jason Terry': array([[113, 130, 133]], dtype=int64), 'Khris Middleton': array([[336, 310,  41]], dtype=int64), 'Thon Maker': array([[374,  44, 220]], dtype=int64), 'Giannis Antetokounmpo': array([[234, 449,  54]], dtype=int64), 'Tony Snell': array([[ 78, 202, 273]], dtype=int64), 'Michael Beasley': array([[ 56, 389, 426]], dtype=int64), 'Rashad Vaughn': array([[ 79, 205,  55]], dtype=int64), 'Mirza Teletovic': array([[196, 435, 270]], dtype=int64), 'Malcolm Brogdon': array([[178, 405, 110]], dtype=int64), 'Andrew Wiggins': array([[ 92, 312, 155]], dtype=int64), 'Nemanja Bjelica': array([[ 90, 196, 319]], dtype=int64), 'Karl-Anthony Towns': array([[227, 143, 449]], dtype=int64), 'John Lucas III': array([[176,  94,  10]], dtype=int64), 'Brandon Rush': array([[411, 374, 432]], dtype=int64), 'Gorgui Dieng': array([[ 57, 446, 273]], dtype=int64), 'Ricky Rubio': array([[ 67, 442,  69]], dtype=int64), 'Shabazz Muhammad': array([[150,  89, 259]], dtype=int64), 'Cole Aldrich': array([[244, 154, 319]], dtype=int64), 'Jordan Hill': array([[372,  72,  10]], dtype=int64), 'Kris Dunn': array([[111, 166,  11]], dtype=int64), 'Zach LaVine': array([[221, 207,  20]], dtype=int64), 'Tyus Jones': array([[241, 448,  53]], dtype=int64), 'Adreian Payne': array([[328, 262, 117]], dtype=int64), 'Alexis Ajinca': array([[192, 412, 381]], dtype=int64), \"E'Twaun Moore\": array([[385,  31, 344]], dtype=int64), 'Jarrett Jack': array([[397, 302, 314]], dtype=int64), 'Omer Asik': array([[406, 409, 247]], dtype=int64), 'Solomon Hill': array([[329, 276, 424]], dtype=int64), 'Donatas Motiejunas': array([[441, 386, 390]], dtype=int64), 'Dante Cunningham': array([[256,   2, 109]], dtype=int64), 'Jrue Holiday': array([[271,   6, 282]], dtype=int64), 'Anthony Davis': array([[403, 330,  54]], dtype=int64), 'Cheick Diallo': array([[379,  38, 397]], dtype=int64), 'Tim Frazier': array([[308,   2, 253]], dtype=int64), 'Jordan Crawford': array([[185, 307, 348]], dtype=int64), 'Lance Thomas': array([[326,  34, 384]], dtype=int64), 'Justin Holiday': array([[175, 240, 408]], dtype=int64), 'Joakim Noah': array([[119, 432, 207]], dtype=int64), 'Courtney Lee': array([[122,  69, 295]], dtype=int64), 'Marshall Plumlee': array([[341, 342, 246]], dtype=int64), 'Sasha Vujacic': array([[323, 112,  79]], dtype=int64), 'Maurice Ndour': array([[274, 116,  24]], dtype=int64), 'Carmelo Anthony': array([[ 40, 208, 204]], dtype=int64), 'Ron Baker': array([[384, 420, 426]], dtype=int64), 'Derrick Rose': array([[271, 292, 183]], dtype=int64), 'Willy Hernangomez': array([[339, 344,  42]], dtype=int64), \"Kyle O'Quinn\": array([[ 89, 398, 175]], dtype=int64), 'Mindaugas Kuzminskas': array([[272, 196, 319]], dtype=int64), 'Kristaps Porzingis': array([[268, 317, 254]], dtype=int64), 'Alex Abrines': array([[271, 196,   9]], dtype=int64), 'Steven Adams': array([[ 78, 446, 161]], dtype=int64), 'Kyle Singler': array([[265, 209, 116]], dtype=int64), 'Semaj Christon': array([[170, 285, 164]], dtype=int64), 'Andre Roberson': array([[ 57,  46, 251]], dtype=int64), 'Russell Westbrook': array([[143, 255, 227]], dtype=int64), 'Nick Collison': array([[360, 350,  59]], dtype=int64), 'Domantas Sabonis': array([[217, 251, 424]], dtype=int64), 'Enes Kanter': array([[ 25,  68, 212]], dtype=int64), 'Josh Huestis': array([[ 73, 314, 298]], dtype=int64), 'Victor Oladipo': array([[ 19, 151, 306]], dtype=int64), 'Norris Cole': array([[ 12, 378, 134]], dtype=int64), 'Stephen Zimmerman': array([[447, 180,  12]], dtype=int64), 'Mario Hezonja': array([[276, 286, 164]], dtype=int64), 'C.J. Watson': array([[164,  35, 320]], dtype=int64), 'Damjan Rudez': array([[423, 230,  58]], dtype=int64), 'Patricio Garino': array([[ 64, 145,  93]], dtype=int64), 'Jodie Meeks': array([[338, 192, 247]], dtype=int64), 'Jeff Green': array([[335,  35, 410]], dtype=int64), 'D.J. Augustin': array([[296, 339,  13]], dtype=int64), 'Evan Fournier': array([[337, 306, 272]], dtype=int64), 'Nikola Vucevic': array([[294, 254, 388]], dtype=int64), 'Elfrid Payton': array([[416, 388, 297]], dtype=int64), 'Aaron Gordon': array([[424, 262,  69]], dtype=int64), 'Bismack Biyombo': array([[299, 318, 292]], dtype=int64), 'T.J. McConnell': array([[ 33, 417, 388]], dtype=int64), 'Tiago Splitter': array([[314, 397,  72]], dtype=int64), 'Nik Stauskas': array([[297, 371, 405]], dtype=int64), 'Richaun Holmes': array([[ 36, 391,  32]], dtype=int64), 'Timothe Luwawu-Cabarrot': array([[127, 188, 197]], dtype=int64), 'Alex Poythress': array([[303, 382, 314]], dtype=int64), 'Jerryd Bayless': array([[303, 314,  39]], dtype=int64), 'Gerald Henderson': array([[ 37, 325,  29]], dtype=int64), 'Jahlil Okafor': array([[411,  97, 261]], dtype=int64), 'Robert Covington': array([[293, 283, 272]], dtype=int64), 'Shawn Long': array([[185, 258, 348]], dtype=int64), 'Sergio Rodriguez': array([[257,  31, 344]], dtype=int64), 'Dario Saric': array([[190, 114, 318]], dtype=int64), 'Joel Embiid': array([[336,  41, 225]], dtype=int64), 'Alan Williams': array([[179,  14,  61]], dtype=int64), 'Devin Booker': array([[92,  4, 67]], dtype=int64), 'Jared Dudley': array([[345, 186, 410]], dtype=int64), 'Jarell Eddie': array([[299,  73,  72]], dtype=int64), 'Marquese Chriss': array([[296, 262,  46]], dtype=int64), 'Ronnie Price': array([[378,  12, 285]], dtype=int64), 'Eric Bledsoe': array([[272,   6, 254]], dtype=int64), 'Alex Len': array([[297, 110, 305]], dtype=int64), 'Leandro Barbosa': array([[154, 196, 271]], dtype=int64), 'Tyler Ulis': array([[ 49,  50, 287]], dtype=int64), 'Tyson Chandler': array([[437, 244, 221]], dtype=int64), 'Brandon Knight': array([[ 34, 418,  61]], dtype=int64), 'Dragan Bender': array([[205, 264, 230]], dtype=int64), 'Al-Farouq Aminu': array([[107, 346,  32]], dtype=int64), 'Noah Vonleh': array([[ 37, 427, 305]], dtype=int64), 'Ed Davis': array([[384, 259, 380]], dtype=int64), 'Shabazz Napier': array([[402, 138, 137]], dtype=int64), 'Tim Quarterman': array([[246, 263, 117]], dtype=int64), 'Maurice Harkless': array([[424, 251, 156]], dtype=int64), 'Damian Lillard': array([[ 54, 159, 370]], dtype=int64), 'Meyers Leonard': array([[398, 197, 302]], dtype=int64), 'Allen Crabbe': array([[177,  25,  68]], dtype=int64), 'Pat Connaughton': array([[387,  30, 200]], dtype=int64), 'Jake Layman': array([[112, 349, 275]], dtype=int64), 'Evan Turner': array([[291, 321, 186]], dtype=int64), 'Rudy Gay': array([[311, 225,  41]], dtype=int64), 'Darren Collison': array([[293, 307, 283]], dtype=int64), 'Skal Labissiere': array([[290, 192,  86]], dtype=int64), 'Willie Cauley-Stein': array([[269, 248,  13]], dtype=int64), 'Arron Afflalo': array([[  2, 414, 220]], dtype=int64), 'Malachi Richardson': array([[342, 263, 101]], dtype=int64), 'Ben McLemore': array([[ 32, 440,  36]], dtype=int64), 'Ty Lawson': array([[ 42, 248, 346]], dtype=int64), 'Anthony Tolliver': array([[314, 186, 410]], dtype=int64), 'Garrett Temple': array([[345, 413,  42]], dtype=int64), 'Kosta Koufos': array([[  8, 195, 338]], dtype=int64), 'Georgios Papagiannis': array([[ 38, 394, 185]], dtype=int64), 'Bryn Forbes': array([[ 77, 200, 199]], dtype=int64), 'Nicolas Laprovittola': array([[397, 101, 360]], dtype=int64), 'Patty Mills': array([[361, 428, 354]], dtype=int64), 'Dejounte Murray': array([[112,   7,   1]], dtype=int64), 'Tony Parker': array([[436, 362, 151]], dtype=int64), 'Jonathon Simmons': array([[ 16, 130, 395]], dtype=int64), 'Kyle Anderson': array([[376, 355, 210]], dtype=int64), 'Pau Gasol': array([[414,  83, 109]], dtype=int64), 'Dewayne Dedmon': array([[439, 108, 232]], dtype=int64), 'Davis Bertans': array([[210, 129,  48]], dtype=int64), 'LaMarcus Aldridge': array([[ 19, 208, 204]], dtype=int64), 'Joel Anthony': array([[101, 351, 279]], dtype=int64), 'David Lee': array([[352, 428, 130]], dtype=int64), 'Danny Green': array([[377, 151, 195]], dtype=int64), 'Manu Ginobili': array([[129, 231,  90]], dtype=int64), 'Kawhi Leonard': array([[431,  17,  54]], dtype=int64), 'Patrick Patterson': array([[219, 364, 314]], dtype=int64), 'Jonas Valanciunas': array([[274, 446, 161]], dtype=int64), 'Kyle Lowry': array([[169,  70, 168]], dtype=int64), 'Fred VanVleet': array([[430, 209, 112]], dtype=int64), 'Delon Wright': array([[116, 201, 445]], dtype=int64), 'DeMar DeRozan': array([[159, 331,  76]], dtype=int64), 'Cory Joseph': array([[405,  21, 300]], dtype=int64), 'Bruno Caboclo': array([[ 72,   3, 242]], dtype=int64), 'Jakob Poeltl': array([[138, 137, 433]], dtype=int64), 'Pascal Siakam': array([[226, 220, 237]], dtype=int64), 'Lucas Nogueira': array([[144, 229, 374]], dtype=int64), 'Norman Powell': array([[ 13, 428,  71]], dtype=int64), 'DeMarre Carroll': array([[195, 363, 156]], dtype=int64), 'Jared Sullinger': array([[284, 136, 317]], dtype=int64), 'Briante Weber': array([[182, 256,  38]], dtype=int64), 'Roy Hibbert': array([[327, 384,  98]], dtype=int64), 'Hollis Thompson': array([[412, 205, 247]], dtype=int64), 'Wayne Selden': array([[397, 351, 256]], dtype=int64), 'Brandon Jennings': array([[166, 106, 428]], dtype=int64), 'Derrick Williams': array([[420, 327, 267]], dtype=int64), 'Matt Barnes': array([[248,  66, 197]], dtype=int64), 'Cameron Payne': array([[252, 441, 174]], dtype=int64), 'Quincy Acy': array([[ 30, 390,  98]], dtype=int64), 'Ersan Ilyasova': array([[124, 298, 295]], dtype=int64), 'Mike Dunleavy': array([[374, 418, 402]], dtype=int64), 'Omri Casspi': array([[ 30, 388, 441]], dtype=int64), 'Nerlens Noel': array([[301,  36, 144]], dtype=int64), 'Chris McCullough': array([[105,  94, 434]], dtype=int64), 'Serge Ibaka': array([[ 92,   4, 274]], dtype=int64), 'Chasson Randle': array([[349,  24,  38]], dtype=int64), 'Corey Brewer': array([[ 16, 355, 106]], dtype=int64), 'Lou Williams': array([[222, 212, 177]], dtype=int64), 'Quinn Cook': array([[351, 383, 256]], dtype=int64), 'Justin Anderson': array([[332, 270,  89]], dtype=int64), 'Joffrey Lauvergne': array([[400, 320, 271]], dtype=int64), 'Anthony Brown': array([[ 72, 284,   3]], dtype=int64), 'Tyler Ennis': array([[137, 328,  22]], dtype=int64), 'DeMarcus Cousins': array([[255, 331, 371]], dtype=int64), 'Bojan Bogdanovic': array([[417, 298, 389]], dtype=int64), 'Terrence Ross': array([[372, 232,  80]], dtype=int64), 'Troy Williams': array([[250, 409, 339]], dtype=int64), 'Miles Plumlee': array([[412, 420, 327]], dtype=int64), 'Jerami Grant': array([[240, 260,  89]], dtype=int64), 'Andrew Bogut': array([[407, 250, 215]], dtype=int64), 'Doug McDermott': array([[346, 314, 196]], dtype=int64), 'Yogi Ferrell': array([[237, 306, 213]], dtype=int64), 'Jose Calderon': array([[247, 408, 382]], dtype=int64), 'Kyle Korver': array([[347, 345,  42]], dtype=int64), 'Deron Williams': array([[  2, 419, 257]], dtype=int64), 'Tyreke Evans': array([[192, 382, 290]], dtype=int64), 'Mason Plumlee': array([[295, 424, 296]], dtype=int64), 'Buddy Hield': array([[405, 298,  33]], dtype=int64), 'Spencer Hawes': array([[390, 450, 158]], dtype=int64), 'Jusuf Nurkic': array([[415,   2,  45]], dtype=int64), 'Anthony Morrow': array([[ 22, 385,  61]], dtype=int64), 'Terrence Jones': array([[426, 229, 107]], dtype=int64), 'Langston Galloway': array([[ 27, 150,  11]], dtype=int64), 'Andrew Nicholson': array([[350, 288, 230]], dtype=int64), 'Taj Gibson': array([[296, 330, 202]], dtype=int64), 'DeAndre Liggins': array([[440, 302,  44]], dtype=int64), 'Shelvin Mack': array([[422, 229, 385]], dtype=int64), 'Boris Diaw': array([[326,  80,  31]], dtype=int64), 'Joe Johnson': array([[194, 377,  81]], dtype=int64), 'Alec Burks': array([[157, 205,  14]], dtype=int64), 'Raul Neto': array([[369, 209, 115]], dtype=int64), 'Gordon Hayward': array([[ 76, 159, 204]], dtype=int64), 'Derrick Favors': array([[213, 207,  97]], dtype=int64), 'Jeff Withey': array([[137, 138, 328]], dtype=int64), 'Joel Bolomboy': array([[ 60,  72, 329]], dtype=int64), 'Trey Lyles': array([[ 11,  27, 231]], dtype=int64), 'Rodney Hood': array([[354,  63,  88]], dtype=int64), 'George Hill': array([[221, 207,  20]], dtype=int64), 'Rudy Gobert': array([[173, 443, 125]], dtype=int64), 'Joe Ingles': array([[406, 372, 232]], dtype=int64), 'Dante Exum': array([[ 44, 302, 127]], dtype=int64), 'Marcus Thornton': array([[252, 391,  30]], dtype=int64), 'Markieff Morris': array([[156,  69, 239]], dtype=int64), 'Bradley Beal': array([[ 62, 159, 216]], dtype=int64), 'Jason Smith': array([[210, 113,   9]], dtype=int64), 'Ian Mahinmi': array([[201, 116, 395]], dtype=int64), 'Marcin Gortat': array([[161, 274, 238]], dtype=int64), 'Daniel Ochefu': array([[285,  15, 180]], dtype=int64), 'Tomas Satoransky': array([[ 53, 245, 403]], dtype=int64), 'John Wall': array([[331,  62, 227]], dtype=int64), 'Trey Burke': array([[ 84,   0, 419]], dtype=int64)}\n"
     ]
    }
   ],
   "source": [
    "items= dict()\n",
    "feature5 = features2\n",
    "features6 = np.delete(feature5, 1, 0)\n",
    "neigh2 = KNeighborsRegressor()\n",
    "for i in range(len(newdf.index)):\n",
    "    features3 = features2\n",
    "    labels4 = labels3\n",
    "    features4 = np.delete(features3, (i), 0)\n",
    "    labels5 = np.delete(labels4, (i), 0)\n",
    "    neigh2.fit(features4, labels5) \n",
    "    neigh2.predict(np.atleast_2d(features3[i]))\n",
    "    fivenear = neigh2.kneighbors(np.atleast_2d(features3[i]), 3)[1]\n",
    "    items.update({newdf.iloc[i]['PLAYER'] : fivenear})\n",
    "print(items)\n"
   ]
  },
  {
   "cell_type": "code",
   "execution_count": 396,
   "metadata": {},
   "outputs": [],
   "source": [
    "##Rudy Gobert': 173, 443, 125,"
   ]
  },
  {
   "cell_type": "code",
   "execution_count": 383,
   "metadata": {},
   "outputs": [
    {
     "name": "stdout",
     "output_type": "stream",
     "text": [
      "DeAndre Jordan\n"
     ]
    }
   ],
   "source": [
    "print(newdf.iloc[173]['PLAYER'])"
   ]
  },
  {
   "cell_type": "code",
   "execution_count": 392,
   "metadata": {},
   "outputs": [
    {
     "name": "stdout",
     "output_type": "stream",
     "text": [
      "Stephen Curry\n"
     ]
    }
   ],
   "source": [
    "print(newdf.iloc[125]['PLAYER'])"
   ]
  },
  {
   "cell_type": "code",
   "execution_count": 393,
   "metadata": {},
   "outputs": [
    {
     "name": "stdout",
     "output_type": "stream",
     "text": [
      "Markieff Morris\n"
     ]
    }
   ],
   "source": [
    "print(newdf.iloc[443]['PLAYER'])"
   ]
  },
  {
   "cell_type": "code",
   "execution_count": null,
   "metadata": {},
   "outputs": [],
   "source": []
  }
 ],
 "metadata": {
  "kernelspec": {
   "display_name": "Python 3",
   "language": "python",
   "name": "python3"
  },
  "language_info": {
   "codemirror_mode": {
    "name": "ipython",
    "version": 3
   },
   "file_extension": ".py",
   "mimetype": "text/x-python",
   "name": "python",
   "nbconvert_exporter": "python",
   "pygments_lexer": "ipython3",
   "version": "3.7.3"
  }
 },
 "nbformat": 4,
 "nbformat_minor": 2
}
